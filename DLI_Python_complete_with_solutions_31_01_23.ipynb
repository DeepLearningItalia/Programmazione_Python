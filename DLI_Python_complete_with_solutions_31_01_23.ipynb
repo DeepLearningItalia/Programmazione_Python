{
 "cells": [
  {
   "cell_type": "markdown",
   "metadata": {},
   "source": [
    "### <font color='green'> Course Overview\n",
    "\n",
    "- What to expect from the course\n",
    "    \n",
    "    \n",
    "- How to approach the course\n",
    "    - No need of:\n",
    "        - taking notes\n",
    "        - learn proper definitions\n",
    "        - memorize syntax\n",
    "    \n",
    "    \n",
    "- Attitude to have when programming\n",
    "    - Approach to overcome issues\n",
    "    \n",
    "    \n",
    "- Exercises\n",
    "    - pseudo code is more important than technique\n",
    "    \n",
    "    \n",
    "- Minor notes\n",
    "    - Why it is entirely in english\n",
    "    - Colors hierarchy"
   ]
  },
  {
   "cell_type": "markdown",
   "metadata": {},
   "source": [
    "# <center> <font color='green'> Command Line, Environments, APIs, Python packages and installations"
   ]
  },
  {
   "cell_type": "markdown",
   "metadata": {},
   "source": [
    "### <font color = 'green'> Terminal / prompt / Command Line\n",
    "    \n",
    "- <b> What is </b>\n",
    "    - Comparison with UI (User Interface)\n",
    "    \n",
    "    \n",
    "- <b> Main commands: </b>\n",
    "    - pwd, cd, ls, dir, mkdir\n",
    "    - rm, mv, rm -r folder\n",
    "    - nano, cat, head, > .txt\n",
    "    - which, whereis\n",
    "    - pipe |, grep\n",
    "    - history\n",
    "    - sudo\n",
    "    - conda\n",
    "        - list, env list, activate/deactivate\n",
    "    \n",
    "    \n",
    "- Launching python from command line\n",
    "    - print('Hello')"
   ]
  },
  {
   "cell_type": "markdown",
   "metadata": {},
   "source": [
    "<b> Exercise - do everything just using terminal </b>\n",
    "1. Cd into your Desktop and create a file. write at least 3 lines\n",
    "2. Create a folder\n",
    "3. move your file into the folder\n",
    "4. cd into the folder\n",
    "5. create a new file out of the previous by keeping only the first 2 lines (Do not open the file!)\n",
    "6. cd into your Desktop\n",
    "7. remove the whole folder with the files inside\n",
    "8. save the history of your commands in a file and keep it for the future"
   ]
  },
  {
   "cell_type": "markdown",
   "metadata": {},
   "source": [
    "## <font color='green'> Setting up Python environment with Anaconda Distribution\n",
    "- <b> Anaconda</b> \n",
    "    - It contains several tools and programming languages (i.e. Python, R, Spyder..)\n",
    "    \n",
    "    \n",
    "- <b> Programming languages and IDEs </b>\n",
    "    - IDE (Integrated Development Environment) - spyder, pycharm, jupyter notebook\n",
    "    - Interpreter\n",
    "    \n",
    "    \n",
    "- <b> What are APIs </b>\n",
    "    - Modules and Packages\n",
    "    \n",
    "    \n",
    "- <b> Python environment refers to the set of installations of packages, each with its specific version </b>\n",
    "    - What are the issues and why is that useful\n",
    "    \n",
    "    \n",
    "- <b> Launching jupyter notebook from terminal </b>\n",
    "    - Installing Jupyter Extensions\n",
    "    \n",
    "    Useful Shortcuts:\n",
    "    - tab --> autocompile\n",
    "    - Shift + tab --> getting documentation\n",
    "    - Ctrl + Enter --> Run commands"
   ]
  },
  {
   "cell_type": "markdown",
   "metadata": {},
   "source": [
    "##### Importing python libraries"
   ]
  },
  {
   "cell_type": "code",
   "execution_count": 1,
   "metadata": {},
   "outputs": [],
   "source": [
    "import sys\n",
    "import os\n",
    "\n",
    "import pandas as pd\n",
    "import numpy as np\n",
    "\n",
    "import time\n",
    "from datetime import datetime"
   ]
  },
  {
   "cell_type": "markdown",
   "metadata": {},
   "source": [
    "#### Installing packages\n",
    "- either with conda or pip (Package Installer for Python)\n",
    "- <b> NOTE </b>: you might need to use pip3!\n",
    "\n",
    "\n",
    "- conda install ...\n",
    "- pip install ...\n",
    "\n",
    "\n",
    "- conda update conda\n",
    "- pip install --upgrade pip"
   ]
  },
  {
   "cell_type": "code",
   "execution_count": 2,
   "metadata": {},
   "outputs": [],
   "source": [
    "## You should have some error running this command, try to install the packages needed and rerun it\n",
    "\n",
    "import warnings\n",
    "warnings.filterwarnings(\"ignore\")\n",
    "\n",
    "import seaborn as sns\n",
    "import matplotlib.pyplot as plt\n",
    "from matplotlib.pyplot import pie, axis, show\n",
    "\n",
    "\n",
    "import sklearn as sk\n",
    "import tensorflow as tf"
   ]
  },
  {
   "cell_type": "markdown",
   "metadata": {},
   "source": [
    "<b> Exercise: Install by yourself any packages which gave you error"
   ]
  },
  {
   "cell_type": "code",
   "execution_count": 3,
   "metadata": {},
   "outputs": [
    {
     "name": "stdout",
     "output_type": "stream",
     "text": [
      "Requirement already satisfied: numpy in /Users/fedfran/miniforge3/envs/working_env/lib/python3.8/site-packages (1.22.2)\n",
      "\n",
      "\u001b[1m[\u001b[0m\u001b[34;49mnotice\u001b[0m\u001b[1;39;49m]\u001b[0m\u001b[39;49m A new release of pip available: \u001b[0m\u001b[31;49m22.3.1\u001b[0m\u001b[39;49m -> \u001b[0m\u001b[32;49m23.0\u001b[0m\n",
      "\u001b[1m[\u001b[0m\u001b[34;49mnotice\u001b[0m\u001b[1;39;49m]\u001b[0m\u001b[39;49m To update, run: \u001b[0m\u001b[32;49mpip install --upgrade pip\u001b[0m\n"
     ]
    }
   ],
   "source": [
    "# !pip install --upgrade pip\n",
    "!pip install numpy"
   ]
  },
  {
   "cell_type": "markdown",
   "metadata": {},
   "source": [
    "#### Jupyter Magic commands"
   ]
  },
  {
   "cell_type": "code",
   "execution_count": 4,
   "metadata": {},
   "outputs": [
    {
     "name": "stdout",
     "output_type": "stream",
     "text": [
      "analyticon_temp\r\n",
      "temp\r\n",
      "temp DS\r\n",
      "temp doc utili\r\n",
      "temp notes clean.txt\r\n",
      "temp useless-stupid\r\n",
      "temp work\r\n",
      "temp_tech_paper\r\n"
     ]
    }
   ],
   "source": [
    "!ls ../.. | grep temp"
   ]
  },
  {
   "cell_type": "code",
   "execution_count": 5,
   "metadata": {},
   "outputs": [
    {
     "name": "stdout",
     "output_type": "stream",
     "text": [
      "157 µs ± 3.47 µs per loop (mean ± std. dev. of 7 runs, 10,000 loops each)\n"
     ]
    }
   ],
   "source": [
    "%timeit np.random.normal(size=10000)"
   ]
  },
  {
   "cell_type": "code",
   "execution_count": 6,
   "metadata": {},
   "outputs": [],
   "source": [
    "%matplotlib inline"
   ]
  },
  {
   "cell_type": "code",
   "execution_count": 7,
   "metadata": {},
   "outputs": [
    {
     "data": {
      "text/plain": [
       "'1.22.2'"
      ]
     },
     "execution_count": 7,
     "metadata": {},
     "output_type": "execute_result"
    }
   ],
   "source": [
    "np.__version__"
   ]
  },
  {
   "cell_type": "markdown",
   "metadata": {},
   "source": [
    "### <font color='green'> Python basics"
   ]
  },
  {
   "cell_type": "markdown",
   "metadata": {},
   "source": [
    "<b> NOTE: click 'Cell' --> All Output --> Clear to cancel solutions"
   ]
  },
  {
   "cell_type": "markdown",
   "metadata": {},
   "source": [
    "#### Arithmetic operations"
   ]
  },
  {
   "cell_type": "code",
   "execution_count": 8,
   "metadata": {
    "scrolled": true
   },
   "outputs": [
    {
     "data": {
      "text/plain": [
       "2"
      ]
     },
     "execution_count": 8,
     "metadata": {},
     "output_type": "execute_result"
    }
   ],
   "source": [
    "1 + 1"
   ]
  },
  {
   "cell_type": "code",
   "execution_count": 9,
   "metadata": {},
   "outputs": [
    {
     "data": {
      "text/plain": [
       "3"
      ]
     },
     "execution_count": 9,
     "metadata": {},
     "output_type": "execute_result"
    }
   ],
   "source": [
    "1 * 3"
   ]
  },
  {
   "cell_type": "code",
   "execution_count": 10,
   "metadata": {},
   "outputs": [
    {
     "data": {
      "text/plain": [
       "0.5"
      ]
     },
     "execution_count": 10,
     "metadata": {},
     "output_type": "execute_result"
    }
   ],
   "source": [
    "1 / 2"
   ]
  },
  {
   "cell_type": "code",
   "execution_count": 11,
   "metadata": {},
   "outputs": [
    {
     "data": {
      "text/plain": [
       "16"
      ]
     },
     "execution_count": 11,
     "metadata": {},
     "output_type": "execute_result"
    }
   ],
   "source": [
    "2 ** 4"
   ]
  },
  {
   "cell_type": "code",
   "execution_count": 12,
   "metadata": {},
   "outputs": [
    {
     "data": {
      "text/plain": [
       "0"
      ]
     },
     "execution_count": 12,
     "metadata": {},
     "output_type": "execute_result"
    }
   ],
   "source": [
    "4 % 2"
   ]
  },
  {
   "cell_type": "code",
   "execution_count": 13,
   "metadata": {},
   "outputs": [
    {
     "data": {
      "text/plain": [
       "1"
      ]
     },
     "execution_count": 13,
     "metadata": {},
     "output_type": "execute_result"
    }
   ],
   "source": [
    "5 % 2"
   ]
  },
  {
   "cell_type": "code",
   "execution_count": 14,
   "metadata": {},
   "outputs": [
    {
     "data": {
      "text/plain": [
       "50"
      ]
     },
     "execution_count": 14,
     "metadata": {},
     "output_type": "execute_result"
    }
   ],
   "source": [
    "(2 + 3) * (5 + 5)"
   ]
  },
  {
   "cell_type": "code",
   "execution_count": 15,
   "metadata": {},
   "outputs": [
    {
     "data": {
      "text/plain": [
       "2"
      ]
     },
     "execution_count": 15,
     "metadata": {},
     "output_type": "execute_result"
    }
   ],
   "source": [
    "5//2"
   ]
  },
  {
   "cell_type": "markdown",
   "metadata": {},
   "source": [
    "#### Intro to main built-in functions and special characters\n",
    "Examples:\n",
    "- print\n",
    "- max, min\n",
    "- type\n",
    "- len\n",
    "\n",
    "We'll see them more deeply later"
   ]
  },
  {
   "cell_type": "code",
   "execution_count": 16,
   "metadata": {},
   "outputs": [
    {
     "name": "stdout",
     "output_type": "stream",
     "text": [
      "Hello how are you?\n"
     ]
    }
   ],
   "source": [
    "print('Hello how are you?')"
   ]
  },
  {
   "cell_type": "code",
   "execution_count": 17,
   "metadata": {},
   "outputs": [
    {
     "data": {
      "text/plain": [
       "int"
      ]
     },
     "execution_count": 17,
     "metadata": {},
     "output_type": "execute_result"
    }
   ],
   "source": [
    "type(3)"
   ]
  },
  {
   "cell_type": "code",
   "execution_count": 18,
   "metadata": {},
   "outputs": [
    {
     "data": {
      "text/plain": [
       "list"
      ]
     },
     "execution_count": 18,
     "metadata": {},
     "output_type": "execute_result"
    }
   ],
   "source": [
    "type([1,2,3])"
   ]
  },
  {
   "cell_type": "code",
   "execution_count": 19,
   "metadata": {},
   "outputs": [
    {
     "data": {
      "text/plain": [
       "str"
      ]
     },
     "execution_count": 19,
     "metadata": {},
     "output_type": "execute_result"
    }
   ],
   "source": [
    "type('Hello')"
   ]
  },
  {
   "cell_type": "code",
   "execution_count": 20,
   "metadata": {},
   "outputs": [
    {
     "data": {
      "text/plain": [
       "3"
      ]
     },
     "execution_count": 20,
     "metadata": {},
     "output_type": "execute_result"
    }
   ],
   "source": [
    "max([1,2,3])"
   ]
  },
  {
   "cell_type": "code",
   "execution_count": 21,
   "metadata": {},
   "outputs": [
    {
     "data": {
      "text/plain": [
       "1"
      ]
     },
     "execution_count": 21,
     "metadata": {},
     "output_type": "execute_result"
    }
   ],
   "source": [
    "min([1,2,3])"
   ]
  },
  {
   "cell_type": "code",
   "execution_count": 22,
   "metadata": {},
   "outputs": [
    {
     "data": {
      "text/plain": [
       "5"
      ]
     },
     "execution_count": 22,
     "metadata": {},
     "output_type": "execute_result"
    }
   ],
   "source": [
    "len('Hello')"
   ]
  },
  {
   "cell_type": "code",
   "execution_count": 23,
   "metadata": {},
   "outputs": [
    {
     "data": {
      "text/plain": [
       "2"
      ]
     },
     "execution_count": 23,
     "metadata": {},
     "output_type": "execute_result"
    }
   ],
   "source": [
    "len([1,2])"
   ]
  },
  {
   "cell_type": "markdown",
   "metadata": {},
   "source": [
    "#### Python indexing"
   ]
  },
  {
   "cell_type": "code",
   "execution_count": 24,
   "metadata": {},
   "outputs": [
    {
     "data": {
      "text/plain": [
       "'H'"
      ]
     },
     "execution_count": 24,
     "metadata": {},
     "output_type": "execute_result"
    }
   ],
   "source": [
    "'Hello'[0]"
   ]
  },
  {
   "cell_type": "code",
   "execution_count": 25,
   "metadata": {},
   "outputs": [
    {
     "data": {
      "text/plain": [
       "'e'"
      ]
     },
     "execution_count": 25,
     "metadata": {},
     "output_type": "execute_result"
    }
   ],
   "source": [
    "'Hello'[1]"
   ]
  },
  {
   "cell_type": "code",
   "execution_count": 26,
   "metadata": {},
   "outputs": [
    {
     "data": {
      "text/plain": [
       "'o'"
      ]
     },
     "execution_count": 26,
     "metadata": {},
     "output_type": "execute_result"
    }
   ],
   "source": [
    "'Hello'[-1]"
   ]
  },
  {
   "cell_type": "markdown",
   "metadata": {},
   "source": [
    "### <font color = 'green'> Types of Errors\n",
    "    \n",
    "- <b> Multiple types </b>\n",
    "    - Indentation\n",
    "    - Syntax\n",
    "    - ValueError\n",
    "    - etc\n",
    "    \n",
    "    \n",
    "- <b> Approach to debug </b>\n",
    "    - easiest case: copy paste to google and directly find solution (stackoverflow)\n",
    "    \n",
    "    \n",
    "- <b> conceptual errors </b>\n",
    "    - obviously, if the code runs, it does not mean it is correct\n",
    "    - more difficult to debug"
   ]
  },
  {
   "cell_type": "code",
   "execution_count": 27,
   "metadata": {},
   "outputs": [
    {
     "ename": "ZeroDivisionError",
     "evalue": "division by zero",
     "output_type": "error",
     "traceback": [
      "\u001b[0;31m---------------------------------------------------------------------------\u001b[0m",
      "\u001b[0;31mZeroDivisionError\u001b[0m                         Traceback (most recent call last)",
      "Input \u001b[0;32mIn [27]\u001b[0m, in \u001b[0;36m<module>\u001b[0;34m\u001b[0m\n\u001b[1;32m      1\u001b[0m \u001b[38;5;66;03m## Some Examples\u001b[39;00m\n\u001b[0;32m----> 3\u001b[0m \u001b[38;5;241;43m2\u001b[39;49m\u001b[38;5;241;43m/\u001b[39;49m\u001b[38;5;241;43m0\u001b[39;49m\n",
      "\u001b[0;31mZeroDivisionError\u001b[0m: division by zero"
     ]
    }
   ],
   "source": [
    "## Some Examples\n",
    "\n",
    "2/0"
   ]
  },
  {
   "cell_type": "code",
   "execution_count": 28,
   "metadata": {},
   "outputs": [
    {
     "ename": "SyntaxError",
     "evalue": "unexpected EOF while parsing (4284879509.py, line 1)",
     "output_type": "error",
     "traceback": [
      "\u001b[0;36m  Input \u001b[0;32mIn [28]\u001b[0;36m\u001b[0m\n\u001b[0;31m    (1+1\u001b[0m\n\u001b[0m        ^\u001b[0m\n\u001b[0;31mSyntaxError\u001b[0m\u001b[0;31m:\u001b[0m unexpected EOF while parsing\n"
     ]
    }
   ],
   "source": [
    "(1+1"
   ]
  },
  {
   "cell_type": "code",
   "execution_count": 29,
   "metadata": {},
   "outputs": [
    {
     "ename": "IndentationError",
     "evalue": "expected an indented block (1025130463.py, line 2)",
     "output_type": "error",
     "traceback": [
      "\u001b[0;36m  Input \u001b[0;32mIn [29]\u001b[0;36m\u001b[0m\n\u001b[0;31m    print('Hello')\u001b[0m\n\u001b[0m    ^\u001b[0m\n\u001b[0;31mIndentationError\u001b[0m\u001b[0;31m:\u001b[0m expected an indented block\n"
     ]
    }
   ],
   "source": [
    "if 3>2:\n",
    "print('Hello')"
   ]
  },
  {
   "cell_type": "markdown",
   "metadata": {},
   "source": [
    "### <font color='green'> Variable Assignments\n",
    "    \n",
    "    \n",
    "- Not related at all with math variables\n",
    "    \n",
    "- <b> Never name variables same as special character or built-in functions! </b>\n",
    "    - nor start with a symbol or number"
   ]
  },
  {
   "cell_type": "code",
   "execution_count": 30,
   "metadata": {},
   "outputs": [
    {
     "name": "stdout",
     "output_type": "stream",
     "text": [
      "1\n"
     ]
    }
   ],
   "source": [
    "x = 1\n",
    "\n",
    "print(x)"
   ]
  },
  {
   "cell_type": "code",
   "execution_count": 31,
   "metadata": {},
   "outputs": [
    {
     "data": {
      "text/plain": [
       "6"
      ]
     },
     "execution_count": 31,
     "metadata": {},
     "output_type": "execute_result"
    }
   ],
   "source": [
    "x = x +5\n",
    "\n",
    "x"
   ]
  },
  {
   "cell_type": "code",
   "execution_count": 32,
   "metadata": {},
   "outputs": [],
   "source": [
    "x += 10"
   ]
  },
  {
   "cell_type": "code",
   "execution_count": 33,
   "metadata": {},
   "outputs": [
    {
     "data": {
      "text/plain": [
       "16"
      ]
     },
     "execution_count": 33,
     "metadata": {},
     "output_type": "execute_result"
    }
   ],
   "source": [
    "x"
   ]
  },
  {
   "cell_type": "code",
   "execution_count": 34,
   "metadata": {},
   "outputs": [
    {
     "data": {
      "text/plain": [
       "6"
      ]
     },
     "execution_count": 34,
     "metadata": {},
     "output_type": "execute_result"
    }
   ],
   "source": [
    "# Cannot start with number or special characters!\n",
    "\n",
    "num= 5.8\n",
    "\n",
    "round(num) "
   ]
  },
  {
   "cell_type": "code",
   "execution_count": 35,
   "metadata": {},
   "outputs": [
    {
     "data": {
      "text/plain": [
       "5.8"
      ]
     },
     "execution_count": 35,
     "metadata": {},
     "output_type": "execute_result"
    }
   ],
   "source": [
    "num  ## not changing the value of num, we did not assign it!"
   ]
  },
  {
   "cell_type": "code",
   "execution_count": 36,
   "metadata": {},
   "outputs": [
    {
     "data": {
      "text/plain": [
       "6"
      ]
     },
     "execution_count": 36,
     "metadata": {},
     "output_type": "execute_result"
    }
   ],
   "source": [
    "# Now I am reassigning the value of num \n",
    "num= round(num)\n",
    "num"
   ]
  },
  {
   "cell_type": "code",
   "execution_count": 37,
   "metadata": {},
   "outputs": [
    {
     "data": {
      "text/plain": [
       "8"
      ]
     },
     "execution_count": 37,
     "metadata": {},
     "output_type": "execute_result"
    }
   ],
   "source": [
    "num += 2  # equivalent to num = num + 2\n",
    "num"
   ]
  },
  {
   "cell_type": "code",
   "execution_count": 38,
   "metadata": {},
   "outputs": [
    {
     "data": {
      "text/plain": [
       "0"
      ]
     },
     "execution_count": 38,
     "metadata": {},
     "output_type": "execute_result"
    }
   ],
   "source": [
    "num = 8\n",
    "\n",
    "## Rest of the division; if it is zero, num is divisible by that\n",
    "num%2"
   ]
  },
  {
   "cell_type": "markdown",
   "metadata": {},
   "source": [
    "#### Alias problem"
   ]
  },
  {
   "cell_type": "code",
   "execution_count": 39,
   "metadata": {},
   "outputs": [
    {
     "data": {
      "text/plain": [
       "5"
      ]
     },
     "execution_count": 39,
     "metadata": {},
     "output_type": "execute_result"
    }
   ],
   "source": [
    "x = 2\n",
    "y = 3\n",
    "\n",
    "z = x + y\n",
    "\n",
    "z"
   ]
  },
  {
   "cell_type": "code",
   "execution_count": 40,
   "metadata": {},
   "outputs": [
    {
     "data": {
      "text/plain": [
       "7"
      ]
     },
     "execution_count": 40,
     "metadata": {},
     "output_type": "execute_result"
    }
   ],
   "source": [
    "x = x + 5\n",
    "x"
   ]
  },
  {
   "cell_type": "markdown",
   "metadata": {},
   "source": [
    "Question: how much is z now?"
   ]
  },
  {
   "cell_type": "code",
   "execution_count": 41,
   "metadata": {},
   "outputs": [
    {
     "data": {
      "text/plain": [
       "5"
      ]
     },
     "execution_count": 41,
     "metadata": {},
     "output_type": "execute_result"
    }
   ],
   "source": [
    "z"
   ]
  },
  {
   "cell_type": "markdown",
   "metadata": {},
   "source": [
    "and now?"
   ]
  },
  {
   "cell_type": "code",
   "execution_count": 42,
   "metadata": {},
   "outputs": [
    {
     "data": {
      "text/plain": [
       "10"
      ]
     },
     "execution_count": 42,
     "metadata": {},
     "output_type": "execute_result"
    }
   ],
   "source": [
    "z = x + y\n",
    "z"
   ]
  },
  {
   "cell_type": "code",
   "execution_count": 43,
   "metadata": {},
   "outputs": [
    {
     "data": {
      "text/plain": [
       "(10, 7)"
      ]
     },
     "execution_count": 43,
     "metadata": {},
     "output_type": "execute_result"
    }
   ],
   "source": [
    "z, x"
   ]
  },
  {
   "cell_type": "code",
   "execution_count": 44,
   "metadata": {},
   "outputs": [
    {
     "data": {
      "text/plain": [
       "7"
      ]
     },
     "execution_count": 44,
     "metadata": {},
     "output_type": "execute_result"
    }
   ],
   "source": [
    "z = x \n",
    "\n",
    "z"
   ]
  },
  {
   "cell_type": "code",
   "execution_count": 45,
   "metadata": {},
   "outputs": [],
   "source": [
    "x = 23"
   ]
  },
  {
   "cell_type": "code",
   "execution_count": 46,
   "metadata": {},
   "outputs": [
    {
     "data": {
      "text/plain": [
       "(7, 23)"
      ]
     },
     "execution_count": 46,
     "metadata": {},
     "output_type": "execute_result"
    }
   ],
   "source": [
    "z, x"
   ]
  },
  {
   "cell_type": "code",
   "execution_count": 47,
   "metadata": {},
   "outputs": [
    {
     "data": {
      "text/plain": [
       "23"
      ]
     },
     "execution_count": 47,
     "metadata": {},
     "output_type": "execute_result"
    }
   ],
   "source": [
    "x"
   ]
  },
  {
   "cell_type": "code",
   "execution_count": 48,
   "metadata": {},
   "outputs": [
    {
     "name": "stdout",
     "output_type": "stream",
     "text": [
      "['abcd']\n",
      "['abcd']\n"
     ]
    }
   ],
   "source": [
    "# this creates a list and stores a *reference* to it:\n",
    "x = [] \n",
    "# this creates another new reference to the *same list*. There's no copy.\n",
    "y = x\n",
    "\n",
    "y.append('abcd')\n",
    "print(x)\n",
    "print(y)"
   ]
  },
  {
   "cell_type": "markdown",
   "metadata": {},
   "source": [
    "### <font color ='green' > Main Data Types\n",
    "    \n",
    "* Numbers\n",
    "* Strings\n",
    "* Booleans"
   ]
  },
  {
   "cell_type": "markdown",
   "metadata": {},
   "source": [
    "#### Numbers\n",
    "- int\n",
    "- float\n",
    "\n",
    "- operations (seen before)"
   ]
  },
  {
   "cell_type": "code",
   "execution_count": 49,
   "metadata": {},
   "outputs": [
    {
     "data": {
      "text/plain": [
       "int"
      ]
     },
     "execution_count": 49,
     "metadata": {},
     "output_type": "execute_result"
    }
   ],
   "source": [
    "type(3)"
   ]
  },
  {
   "cell_type": "code",
   "execution_count": 50,
   "metadata": {},
   "outputs": [
    {
     "data": {
      "text/plain": [
       "float"
      ]
     },
     "execution_count": 50,
     "metadata": {},
     "output_type": "execute_result"
    }
   ],
   "source": [
    "type(3.2)"
   ]
  },
  {
   "cell_type": "markdown",
   "metadata": {},
   "source": [
    "#### Booleans\n",
    "- True\n",
    "- False"
   ]
  },
  {
   "cell_type": "code",
   "execution_count": 51,
   "metadata": {},
   "outputs": [
    {
     "data": {
      "text/plain": [
       "bool"
      ]
     },
     "execution_count": 51,
     "metadata": {},
     "output_type": "execute_result"
    }
   ],
   "source": [
    "type(True)"
   ]
  },
  {
   "cell_type": "code",
   "execution_count": 52,
   "metadata": {},
   "outputs": [
    {
     "data": {
      "text/plain": [
       "bool"
      ]
     },
     "execution_count": 52,
     "metadata": {},
     "output_type": "execute_result"
    }
   ],
   "source": [
    "type(False)"
   ]
  },
  {
   "cell_type": "code",
   "execution_count": 53,
   "metadata": {},
   "outputs": [
    {
     "data": {
      "text/plain": [
       "True"
      ]
     },
     "execution_count": 53,
     "metadata": {},
     "output_type": "execute_result"
    }
   ],
   "source": [
    "1 == 1"
   ]
  },
  {
   "cell_type": "code",
   "execution_count": 54,
   "metadata": {},
   "outputs": [
    {
     "data": {
      "text/plain": [
       "False"
      ]
     },
     "execution_count": 54,
     "metadata": {},
     "output_type": "execute_result"
    }
   ],
   "source": [
    "1==2"
   ]
  },
  {
   "cell_type": "markdown",
   "metadata": {},
   "source": [
    "#### Strings\n",
    "- Basic strings operations\n",
    "- String Indexing and Slicing\n",
    "- String Properties and Methods\n",
    "- Print\n",
    "    - Print Formatting with Strings"
   ]
  },
  {
   "cell_type": "code",
   "execution_count": 55,
   "metadata": {},
   "outputs": [
    {
     "data": {
      "text/plain": [
       "str"
      ]
     },
     "execution_count": 55,
     "metadata": {},
     "output_type": "execute_result"
    }
   ],
   "source": [
    "# Multiplying string\n",
    "\n",
    "s= 'Hello '\n",
    "\n",
    "type(s)"
   ]
  },
  {
   "cell_type": "code",
   "execution_count": 56,
   "metadata": {},
   "outputs": [
    {
     "data": {
      "text/plain": [
       "'Hello Hello Hello '"
      ]
     },
     "execution_count": 56,
     "metadata": {},
     "output_type": "execute_result"
    }
   ],
   "source": [
    "s*3"
   ]
  },
  {
   "cell_type": "code",
   "execution_count": 57,
   "metadata": {},
   "outputs": [
    {
     "data": {
      "text/plain": [
       "'Vorrei una pasta al tartufo'"
      ]
     },
     "execution_count": 57,
     "metadata": {},
     "output_type": "execute_result"
    }
   ],
   "source": [
    "# String Concatenation\n",
    "s1= 'Vorrei una '\n",
    "s2= 'pasta al tartufo'\n",
    "\n",
    "s1+s2"
   ]
  },
  {
   "cell_type": "code",
   "execution_count": 58,
   "metadata": {},
   "outputs": [
    {
     "data": {
      "text/plain": [
       "'Vorrei una '"
      ]
     },
     "execution_count": 58,
     "metadata": {},
     "output_type": "execute_result"
    }
   ],
   "source": [
    "s1"
   ]
  },
  {
   "cell_type": "code",
   "execution_count": 59,
   "metadata": {},
   "outputs": [],
   "source": [
    "s3= 'Buongiorno,'"
   ]
  },
  {
   "cell_type": "code",
   "execution_count": 60,
   "metadata": {},
   "outputs": [
    {
     "data": {
      "text/plain": [
       "'Buongiorno, come procede?'"
      ]
     },
     "execution_count": 60,
     "metadata": {},
     "output_type": "execute_result"
    }
   ],
   "source": [
    "s3 = s3 + ' come procede?'\n",
    "\n",
    "s3"
   ]
  },
  {
   "cell_type": "code",
   "execution_count": 61,
   "metadata": {},
   "outputs": [
    {
     "ename": "TypeError",
     "evalue": "unsupported operand type(s) for /: 'str' and 'int'",
     "output_type": "error",
     "traceback": [
      "\u001b[0;31m---------------------------------------------------------------------------\u001b[0m",
      "\u001b[0;31mTypeError\u001b[0m                                 Traceback (most recent call last)",
      "Input \u001b[0;32mIn [61]\u001b[0m, in \u001b[0;36m<module>\u001b[0;34m\u001b[0m\n\u001b[1;32m      1\u001b[0m \u001b[38;5;66;03m# Division or any other math operator not permitted; multiplication is simply replicating the string\u001b[39;00m\n\u001b[1;32m      2\u001b[0m \n\u001b[1;32m      3\u001b[0m \u001b[38;5;66;03m# try:\u001b[39;00m\n\u001b[0;32m----> 4\u001b[0m \u001b[38;5;28mprint\u001b[39m(\u001b[43ms\u001b[49m\u001b[38;5;241;43m/\u001b[39;49m\u001b[38;5;241;43m3\u001b[39;49m)\n",
      "\u001b[0;31mTypeError\u001b[0m: unsupported operand type(s) for /: 'str' and 'int'"
     ]
    }
   ],
   "source": [
    "# Division or any other math operator not permitted; multiplication is simply replicating the string\n",
    "\n",
    "# try:\n",
    "print(s/3)\n",
    "\n",
    "# except:\n",
    "#     print('It is not possible to apply math operators to strings')"
   ]
  },
  {
   "cell_type": "code",
   "execution_count": 62,
   "metadata": {},
   "outputs": [
    {
     "data": {
      "text/plain": [
       "'Vorrei una gricia'"
      ]
     },
     "execution_count": 62,
     "metadata": {},
     "output_type": "execute_result"
    }
   ],
   "source": [
    "s= 'Vorrei una gricia'\n",
    "s"
   ]
  },
  {
   "cell_type": "code",
   "execution_count": 63,
   "metadata": {},
   "outputs": [
    {
     "data": {
      "text/plain": [
       "False"
      ]
     },
     "execution_count": 63,
     "metadata": {},
     "output_type": "execute_result"
    }
   ],
   "source": [
    "'carbonara' in s"
   ]
  },
  {
   "cell_type": "code",
   "execution_count": 64,
   "metadata": {},
   "outputs": [
    {
     "data": {
      "text/plain": [
       "True"
      ]
     },
     "execution_count": 64,
     "metadata": {},
     "output_type": "execute_result"
    }
   ],
   "source": [
    "'gricia' in s"
   ]
  },
  {
   "cell_type": "code",
   "execution_count": 65,
   "metadata": {},
   "outputs": [
    {
     "data": {
      "text/plain": [
       "True"
      ]
     },
     "execution_count": 65,
     "metadata": {},
     "output_type": "execute_result"
    }
   ],
   "source": [
    "'ric' in s"
   ]
  },
  {
   "cell_type": "code",
   "execution_count": 66,
   "metadata": {},
   "outputs": [
    {
     "data": {
      "text/plain": [
       "False"
      ]
     },
     "execution_count": 66,
     "metadata": {},
     "output_type": "execute_result"
    }
   ],
   "source": [
    "# It considers only consecutive words\n",
    "'Vorrei gricia' in s"
   ]
  },
  {
   "cell_type": "code",
   "execution_count": 67,
   "metadata": {},
   "outputs": [
    {
     "name": "stdout",
     "output_type": "stream",
     "text": [
      "Se possibile Vorrei una gricia\n"
     ]
    }
   ],
   "source": [
    "## Print\n",
    "\n",
    "print('Se possibile', s)"
   ]
  },
  {
   "cell_type": "markdown",
   "metadata": {},
   "source": [
    "Print Formatting with Strings"
   ]
  },
  {
   "cell_type": "code",
   "execution_count": 68,
   "metadata": {},
   "outputs": [
    {
     "name": "stdout",
     "output_type": "stream",
     "text": [
      "Se possibile Vorrei una gricia\n"
     ]
    }
   ],
   "source": [
    "print(f'Se possibile {s}')"
   ]
  },
  {
   "cell_type": "markdown",
   "metadata": {},
   "source": [
    "<b> <font color='green'> Python Indexing"
   ]
  },
  {
   "cell_type": "markdown",
   "metadata": {},
   "source": [
    "<b> String slicing"
   ]
  },
  {
   "cell_type": "code",
   "execution_count": 69,
   "metadata": {},
   "outputs": [
    {
     "data": {
      "text/plain": [
       "'V'"
      ]
     },
     "execution_count": 69,
     "metadata": {},
     "output_type": "execute_result"
    }
   ],
   "source": [
    "## Taking first element, it is the one at index 0\n",
    "s[0]"
   ]
  },
  {
   "cell_type": "code",
   "execution_count": 70,
   "metadata": {},
   "outputs": [
    {
     "data": {
      "text/plain": [
       "'i'"
      ]
     },
     "execution_count": 70,
     "metadata": {},
     "output_type": "execute_result"
    }
   ],
   "source": [
    "## Taking i-th element\n",
    "s[5]"
   ]
  },
  {
   "cell_type": "code",
   "execution_count": 71,
   "metadata": {},
   "outputs": [
    {
     "data": {
      "text/plain": [
       "'a'"
      ]
     },
     "execution_count": 71,
     "metadata": {},
     "output_type": "execute_result"
    }
   ],
   "source": [
    "## Taking last element\n",
    "s[-1]"
   ]
  },
  {
   "cell_type": "code",
   "execution_count": 72,
   "metadata": {},
   "outputs": [
    {
     "data": {
      "text/plain": [
       "'rei una'"
      ]
     },
     "execution_count": 72,
     "metadata": {},
     "output_type": "execute_result"
    }
   ],
   "source": [
    "s[3:10]"
   ]
  },
  {
   "cell_type": "code",
   "execution_count": 73,
   "metadata": {},
   "outputs": [
    {
     "data": {
      "text/plain": [
       "'Vorrei una gricia'"
      ]
     },
     "execution_count": 73,
     "metadata": {},
     "output_type": "execute_result"
    }
   ],
   "source": [
    "# s did not change because we did not assign it to a new variables!\n",
    "s"
   ]
  },
  {
   "cell_type": "code",
   "execution_count": 74,
   "metadata": {},
   "outputs": [
    {
     "data": {
      "text/plain": [
       "'rei una'"
      ]
     },
     "execution_count": 74,
     "metadata": {},
     "output_type": "execute_result"
    }
   ],
   "source": [
    "new_s= s[3:10]\n",
    "new_s"
   ]
  },
  {
   "cell_type": "markdown",
   "metadata": {},
   "source": [
    "<b> Quick Intro to Methods - we'll see more later </b> <br>\n",
    "Use tab to show all the methods for a kind of class. MAIUSC + tab to check parameters for specific method\n",
    "\n",
    "- Below some examples of string methods"
   ]
  },
  {
   "cell_type": "code",
   "execution_count": 75,
   "metadata": {},
   "outputs": [
    {
     "data": {
      "text/plain": [
       "False"
      ]
     },
     "execution_count": 75,
     "metadata": {},
     "output_type": "execute_result"
    }
   ],
   "source": [
    "s.startswith('v')"
   ]
  },
  {
   "cell_type": "code",
   "execution_count": 76,
   "metadata": {},
   "outputs": [
    {
     "data": {
      "text/plain": [
       "True"
      ]
     },
     "execution_count": 76,
     "metadata": {},
     "output_type": "execute_result"
    }
   ],
   "source": [
    "s.endswith('gricia')"
   ]
  },
  {
   "cell_type": "code",
   "execution_count": 77,
   "metadata": {},
   "outputs": [
    {
     "data": {
      "text/plain": [
       "4"
      ]
     },
     "execution_count": 77,
     "metadata": {},
     "output_type": "execute_result"
    }
   ],
   "source": [
    "s.index('e')"
   ]
  },
  {
   "cell_type": "code",
   "execution_count": 78,
   "metadata": {},
   "outputs": [],
   "source": [
    "### Retrieve the 7\n",
    "\n",
    "s= 'Questa e` una stringa 7 che contiene anche un numero'"
   ]
  },
  {
   "cell_type": "code",
   "execution_count": 79,
   "metadata": {},
   "outputs": [
    {
     "data": {
      "text/plain": [
       "22"
      ]
     },
     "execution_count": 79,
     "metadata": {},
     "output_type": "execute_result"
    }
   ],
   "source": [
    "# '7' is at position 22\n",
    "s.index('7')"
   ]
  },
  {
   "cell_type": "code",
   "execution_count": 80,
   "metadata": {},
   "outputs": [
    {
     "data": {
      "text/plain": [
       "str"
      ]
     },
     "execution_count": 80,
     "metadata": {},
     "output_type": "execute_result"
    }
   ],
   "source": [
    "s2= s.split(' ')\n",
    "\n",
    "type(s2[4])"
   ]
  },
  {
   "cell_type": "code",
   "execution_count": 81,
   "metadata": {},
   "outputs": [
    {
     "data": {
      "text/plain": [
       "['Questa',\n",
       " 'e`',\n",
       " 'una',\n",
       " 'stringa',\n",
       " '7',\n",
       " 'che',\n",
       " 'contiene',\n",
       " 'anche',\n",
       " 'un',\n",
       " 'numero']"
      ]
     },
     "execution_count": 81,
     "metadata": {},
     "output_type": "execute_result"
    }
   ],
   "source": [
    "s2"
   ]
  },
  {
   "cell_type": "code",
   "execution_count": 82,
   "metadata": {},
   "outputs": [
    {
     "data": {
      "text/plain": [
       "7"
      ]
     },
     "execution_count": 82,
     "metadata": {},
     "output_type": "execute_result"
    }
   ],
   "source": [
    "x= int(s2[4])\n",
    "x"
   ]
  },
  {
   "cell_type": "code",
   "execution_count": 83,
   "metadata": {},
   "outputs": [
    {
     "data": {
      "text/plain": [
       "4"
      ]
     },
     "execution_count": 83,
     "metadata": {},
     "output_type": "execute_result"
    }
   ],
   "source": [
    "s.count('a')"
   ]
  },
  {
   "cell_type": "code",
   "execution_count": 84,
   "metadata": {},
   "outputs": [
    {
     "data": {
      "text/plain": [
       "5"
      ]
     },
     "execution_count": 84,
     "metadata": {},
     "output_type": "execute_result"
    }
   ],
   "source": [
    "s.find('a') # first index position he finds"
   ]
  },
  {
   "cell_type": "code",
   "execution_count": 85,
   "metadata": {},
   "outputs": [
    {
     "data": {
      "text/plain": [
       "['Questa',\n",
       " 'e`',\n",
       " 'una',\n",
       " 'stringa',\n",
       " '7',\n",
       " 'che',\n",
       " 'contiene',\n",
       " 'anche',\n",
       " 'un',\n",
       " 'numero']"
      ]
     },
     "execution_count": 85,
     "metadata": {},
     "output_type": "execute_result"
    }
   ],
   "source": [
    "## create a list out of it\n",
    "s.split(sep= ' ')  # separate by a space"
   ]
  },
  {
   "cell_type": "code",
   "execution_count": 86,
   "metadata": {},
   "outputs": [
    {
     "data": {
      "text/plain": [
       "'Questa e` una stringa 7 che contiene anche un numero'"
      ]
     },
     "execution_count": 86,
     "metadata": {},
     "output_type": "execute_result"
    }
   ],
   "source": [
    "s"
   ]
  },
  {
   "cell_type": "code",
   "execution_count": 87,
   "metadata": {},
   "outputs": [
    {
     "data": {
      "text/plain": [
       "['Quest', ' e` un', ' string', ' 7 che contiene ', 'nche un numero']"
      ]
     },
     "execution_count": 87,
     "metadata": {},
     "output_type": "execute_result"
    }
   ],
   "source": [
    "s.split(sep= 'a')  ## separate at any element specified"
   ]
  },
  {
   "cell_type": "markdown",
   "metadata": {},
   "source": [
    "### <font color ='green' > Main Data Structures\n",
    "\n",
    "* Lists\n",
    "* Arrays and Matrices\n",
    "* Dictionaries\n",
    "\n",
    "    \n",
    "- Not necessarly used:\n",
    "    * Tuples \n",
    "    * Sets"
   ]
  },
  {
   "cell_type": "markdown",
   "metadata": {},
   "source": [
    "#### Lists"
   ]
  },
  {
   "cell_type": "code",
   "execution_count": 88,
   "metadata": {},
   "outputs": [
    {
     "data": {
      "text/plain": [
       "['a', 'b', 'c']"
      ]
     },
     "execution_count": 88,
     "metadata": {},
     "output_type": "execute_result"
    }
   ],
   "source": [
    "l = ['a','b','c']\n",
    "l"
   ]
  },
  {
   "cell_type": "code",
   "execution_count": 89,
   "metadata": {},
   "outputs": [
    {
     "data": {
      "text/plain": [
       "list"
      ]
     },
     "execution_count": 89,
     "metadata": {},
     "output_type": "execute_result"
    }
   ],
   "source": [
    "type(l)"
   ]
  },
  {
   "cell_type": "code",
   "execution_count": 90,
   "metadata": {},
   "outputs": [
    {
     "data": {
      "text/plain": [
       "'c'"
      ]
     },
     "execution_count": 90,
     "metadata": {},
     "output_type": "execute_result"
    }
   ],
   "source": [
    "l[2]"
   ]
  },
  {
   "cell_type": "code",
   "execution_count": 91,
   "metadata": {},
   "outputs": [
    {
     "data": {
      "text/plain": [
       "['a', 'b', 'c']"
      ]
     },
     "execution_count": 91,
     "metadata": {},
     "output_type": "execute_result"
    }
   ],
   "source": [
    "l"
   ]
  },
  {
   "cell_type": "code",
   "execution_count": 92,
   "metadata": {},
   "outputs": [],
   "source": [
    "## Here the list gets modified because append is a method!\n",
    "l.append('d')\n",
    "# l"
   ]
  },
  {
   "cell_type": "code",
   "execution_count": 93,
   "metadata": {},
   "outputs": [
    {
     "data": {
      "text/plain": [
       "['a', 'b', 'c', 'd']"
      ]
     },
     "execution_count": 93,
     "metadata": {},
     "output_type": "execute_result"
    }
   ],
   "source": [
    "l"
   ]
  },
  {
   "cell_type": "code",
   "execution_count": 94,
   "metadata": {},
   "outputs": [
    {
     "data": {
      "text/plain": [
       "['a', 'b', 'c', 'd', 'e']"
      ]
     },
     "execution_count": 94,
     "metadata": {},
     "output_type": "execute_result"
    }
   ],
   "source": [
    "l + ['e']"
   ]
  },
  {
   "cell_type": "code",
   "execution_count": 95,
   "metadata": {},
   "outputs": [
    {
     "data": {
      "text/plain": [
       "['a', 'b', 'c', 'd']"
      ]
     },
     "execution_count": 95,
     "metadata": {},
     "output_type": "execute_result"
    }
   ],
   "source": [
    "l"
   ]
  },
  {
   "cell_type": "code",
   "execution_count": 96,
   "metadata": {},
   "outputs": [
    {
     "data": {
      "text/plain": [
       "['a', 'b', 'c', 'd', 3]"
      ]
     },
     "execution_count": 96,
     "metadata": {},
     "output_type": "execute_result"
    }
   ],
   "source": [
    "# summing up two lists\n",
    "l= l + [3]\n",
    "l"
   ]
  },
  {
   "cell_type": "code",
   "execution_count": 97,
   "metadata": {},
   "outputs": [
    {
     "data": {
      "text/plain": [
       "['a', 'b', 'c', 'd', 3]"
      ]
     },
     "execution_count": 97,
     "metadata": {},
     "output_type": "execute_result"
    }
   ],
   "source": [
    "# Do not forget variable assignment, list has not been updated here\n",
    "l"
   ]
  },
  {
   "cell_type": "code",
   "execution_count": 98,
   "metadata": {},
   "outputs": [
    {
     "data": {
      "text/plain": [
       "['a', 'c', 'd', 3]"
      ]
     },
     "execution_count": 98,
     "metadata": {},
     "output_type": "execute_result"
    }
   ],
   "source": [
    "l.remove('b')\n",
    "l"
   ]
  },
  {
   "cell_type": "code",
   "execution_count": 99,
   "metadata": {},
   "outputs": [
    {
     "data": {
      "text/plain": [
       "['c', 'd']"
      ]
     },
     "execution_count": 99,
     "metadata": {},
     "output_type": "execute_result"
    }
   ],
   "source": [
    "# Tale 2nd and 3rd element\n",
    "l[1: 3 ]"
   ]
  },
  {
   "cell_type": "code",
   "execution_count": 100,
   "metadata": {},
   "outputs": [
    {
     "name": "stdout",
     "output_type": "stream",
     "text": [
      "3\n",
      "\n",
      "['c', 'd']\n",
      "\n",
      "[3, 'd', 'c', 'a']\n"
     ]
    }
   ],
   "source": [
    "print(l[-1]) # take last element\n",
    "print() #empty row\n",
    "\n",
    "print(l[1:3])\n",
    "print() \n",
    "\n",
    "\n",
    "### print list in revers order\n",
    "print(l[::-1])"
   ]
  },
  {
   "cell_type": "code",
   "execution_count": 101,
   "metadata": {},
   "outputs": [
    {
     "data": {
      "text/plain": [
       "['a', 'c', 'd', 3]"
      ]
     },
     "execution_count": 101,
     "metadata": {},
     "output_type": "execute_result"
    }
   ],
   "source": [
    "l"
   ]
  },
  {
   "cell_type": "code",
   "execution_count": 102,
   "metadata": {},
   "outputs": [
    {
     "data": {
      "text/plain": [
       "['a', 'c']"
      ]
     },
     "execution_count": 102,
     "metadata": {},
     "output_type": "execute_result"
    }
   ],
   "source": [
    "l[0:2]"
   ]
  },
  {
   "cell_type": "code",
   "execution_count": 103,
   "metadata": {},
   "outputs": [
    {
     "data": {
      "text/plain": [
       "['a', 'c', 'd']"
      ]
     },
     "execution_count": 103,
     "metadata": {},
     "output_type": "execute_result"
    }
   ],
   "source": [
    "l[:-1]"
   ]
  },
  {
   "cell_type": "code",
   "execution_count": 104,
   "metadata": {},
   "outputs": [
    {
     "data": {
      "text/plain": [
       "['a', 'c', 'd', 3]"
      ]
     },
     "execution_count": 104,
     "metadata": {},
     "output_type": "execute_result"
    }
   ],
   "source": [
    "# take everything\n",
    "l[:]"
   ]
  },
  {
   "cell_type": "code",
   "execution_count": 105,
   "metadata": {},
   "outputs": [
    {
     "data": {
      "text/plain": [
       "[5, 'c', 'd', 3]"
      ]
     },
     "execution_count": 105,
     "metadata": {},
     "output_type": "execute_result"
    }
   ],
   "source": [
    "## change a value of list by using indexing\n",
    "\n",
    "l[0] = 5   #value in position 0 is set to 5\n",
    "l"
   ]
  },
  {
   "cell_type": "markdown",
   "metadata": {},
   "source": [
    "###### Exercise Slicing\n",
    "Select the internal list"
   ]
  },
  {
   "cell_type": "code",
   "execution_count": 106,
   "metadata": {},
   "outputs": [],
   "source": [
    "nested = [1,2,3,[4,5,['seleziona questa stringa']]]\n"
   ]
  },
  {
   "cell_type": "code",
   "execution_count": 107,
   "metadata": {},
   "outputs": [
    {
     "data": {
      "text/plain": [
       "'seleziona questa stringa'"
      ]
     },
     "execution_count": 107,
     "metadata": {},
     "output_type": "execute_result"
    }
   ],
   "source": [
    "nested[-1][-1][0]\n",
    "\n",
    "# nested[3][2][0]"
   ]
  },
  {
   "cell_type": "markdown",
   "metadata": {},
   "source": [
    "#### Arrays  and Matrices\n",
    "- use Numpy libraries"
   ]
  },
  {
   "cell_type": "code",
   "execution_count": 108,
   "metadata": {},
   "outputs": [
    {
     "data": {
      "text/plain": [
       "array([1, 2, 3])"
      ]
     },
     "execution_count": 108,
     "metadata": {},
     "output_type": "execute_result"
    }
   ],
   "source": [
    "arr = np.array([1,2,3])\n",
    "arr"
   ]
  },
  {
   "cell_type": "code",
   "execution_count": 109,
   "metadata": {},
   "outputs": [
    {
     "name": "stdout",
     "output_type": "stream",
     "text": [
      "[1 2 3 4 5 6 7 8 9]\n"
     ]
    }
   ],
   "source": [
    "matrix = np.arange(1,10)\n",
    "\n",
    "print(matrix)"
   ]
  },
  {
   "cell_type": "code",
   "execution_count": 110,
   "metadata": {},
   "outputs": [
    {
     "data": {
      "text/plain": [
       "numpy.ndarray"
      ]
     },
     "execution_count": 110,
     "metadata": {},
     "output_type": "execute_result"
    }
   ],
   "source": [
    "type(matrix)"
   ]
  },
  {
   "cell_type": "markdown",
   "metadata": {},
   "source": [
    "###### Exercise\n",
    "Use print() command and print formatting to return the number of elements like below"
   ]
  },
  {
   "cell_type": "code",
   "execution_count": 111,
   "metadata": {},
   "outputs": [
    {
     "name": "stdout",
     "output_type": "stream",
     "text": [
      "La matrice ha 9 elementi\n"
     ]
    }
   ],
   "source": [
    "print(f'La matrice ha {len(matrix)} elementi')"
   ]
  },
  {
   "cell_type": "code",
   "execution_count": 112,
   "metadata": {},
   "outputs": [
    {
     "name": "stdout",
     "output_type": "stream",
     "text": [
      "[[1 2 3]\n",
      " [4 5 6]\n",
      " [7 8 9]]\n",
      "\n",
      " Adesso la matrice ha 3 elementi, ognuno è una lista di 3 numeri\n"
     ]
    }
   ],
   "source": [
    "## reshaping matrix\n",
    "\n",
    "matrix= matrix.reshape(3,3)\n",
    "print(matrix)\n",
    "\n",
    "print(f'\\n Adesso la matrice ha {len(matrix)} elementi, ognuno è una lista di 3 numeri')"
   ]
  },
  {
   "cell_type": "markdown",
   "metadata": {},
   "source": [
    "###### Exercise\n",
    "Use slicing to return only [5, 6]"
   ]
  },
  {
   "cell_type": "code",
   "execution_count": 113,
   "metadata": {},
   "outputs": [
    {
     "data": {
      "text/plain": [
       "array([5, 6])"
      ]
     },
     "execution_count": 113,
     "metadata": {},
     "output_type": "execute_result"
    }
   ],
   "source": [
    "matrix[1][1:]"
   ]
  },
  {
   "cell_type": "code",
   "execution_count": 114,
   "metadata": {},
   "outputs": [
    {
     "data": {
      "text/plain": [
       "array([4, 6])"
      ]
     },
     "execution_count": 114,
     "metadata": {},
     "output_type": "execute_result"
    }
   ],
   "source": [
    "#Use slicing to return only [4, 6]\n",
    "\n",
    "matrix[1][[0,2]]"
   ]
  },
  {
   "cell_type": "markdown",
   "metadata": {},
   "source": [
    "Getting min, max, mean, std"
   ]
  },
  {
   "cell_type": "code",
   "execution_count": 115,
   "metadata": {},
   "outputs": [
    {
     "name": "stdout",
     "output_type": "stream",
     "text": [
      "Min is  1\n",
      "Max is  9\n",
      "Mean is  5.0\n",
      "Std Dev is  2.581988897471611\n"
     ]
    }
   ],
   "source": [
    "print('Min is ', matrix.min())\n",
    "print('Max is ', matrix.max())\n",
    "print('Mean is ', matrix.mean())\n",
    "print('Std Dev is ', matrix.std())"
   ]
  },
  {
   "cell_type": "code",
   "execution_count": 116,
   "metadata": {},
   "outputs": [
    {
     "data": {
      "text/plain": [
       "array([[1, 2, 3],\n",
       "       [4, 5, 6],\n",
       "       [7, 8, 9]])"
      ]
     },
     "execution_count": 116,
     "metadata": {},
     "output_type": "execute_result"
    }
   ],
   "source": [
    "matrix"
   ]
  },
  {
   "cell_type": "code",
   "execution_count": 117,
   "metadata": {},
   "outputs": [
    {
     "data": {
      "text/plain": [
       "45"
      ]
     },
     "execution_count": 117,
     "metadata": {},
     "output_type": "execute_result"
    }
   ],
   "source": [
    "# total sum\n",
    "np.sum(matrix)"
   ]
  },
  {
   "cell_type": "code",
   "execution_count": 118,
   "metadata": {},
   "outputs": [
    {
     "data": {
      "text/plain": [
       "array([12, 15, 18])"
      ]
     },
     "execution_count": 118,
     "metadata": {},
     "output_type": "execute_result"
    }
   ],
   "source": [
    "# sum by column\n",
    "np.sum(matrix, axis=0)"
   ]
  },
  {
   "cell_type": "code",
   "execution_count": 119,
   "metadata": {},
   "outputs": [
    {
     "data": {
      "text/plain": [
       "array([ 6, 15, 24])"
      ]
     },
     "execution_count": 119,
     "metadata": {},
     "output_type": "execute_result"
    }
   ],
   "source": [
    "# sum by row\n",
    "np.sum(matrix, axis=1)"
   ]
  },
  {
   "cell_type": "code",
   "execution_count": 120,
   "metadata": {},
   "outputs": [
    {
     "data": {
      "text/plain": [
       "array([ 0.,  5., 10., 15., 20.])"
      ]
     },
     "execution_count": 120,
     "metadata": {},
     "output_type": "execute_result"
    }
   ],
   "source": [
    "# Getting array of numbers equally separated\n",
    "\n",
    "np.linspace(start=0, stop=20, num=5)"
   ]
  },
  {
   "cell_type": "code",
   "execution_count": 121,
   "metadata": {},
   "outputs": [
    {
     "data": {
      "text/plain": [
       "array([38])"
      ]
     },
     "execution_count": 121,
     "metadata": {},
     "output_type": "execute_result"
    }
   ],
   "source": [
    "## Getting a random number given an interval\n",
    "\n",
    "np.random.seed(1)\n",
    "np.random.randint(1,100, 1)"
   ]
  },
  {
   "cell_type": "markdown",
   "metadata": {},
   "source": [
    "#### Dictionaries\n",
    "- structure of key: value"
   ]
  },
  {
   "cell_type": "code",
   "execution_count": 122,
   "metadata": {},
   "outputs": [
    {
     "data": {
      "text/plain": [
       "3"
      ]
     },
     "execution_count": 122,
     "metadata": {},
     "output_type": "execute_result"
    }
   ],
   "source": [
    "diz = {'federico': 3, 'johnny': 5, 'jessica': 7, 'laura': 2}\n",
    "\n",
    "# To pick Johnny, cannot do diz[1], like in the lists, but:\n",
    "\n",
    "diz['federico']"
   ]
  },
  {
   "cell_type": "code",
   "execution_count": 123,
   "metadata": {},
   "outputs": [
    {
     "data": {
      "text/plain": [
       "dict"
      ]
     },
     "execution_count": 123,
     "metadata": {},
     "output_type": "execute_result"
    }
   ],
   "source": [
    "type(diz)"
   ]
  },
  {
   "cell_type": "code",
   "execution_count": 124,
   "metadata": {},
   "outputs": [
    {
     "name": "stdout",
     "output_type": "stream",
     "text": [
      "I cannot use indexing for dictionaries; I must select a key\n"
     ]
    }
   ],
   "source": [
    "try:\n",
    "    diz[2]\n",
    "except:\n",
    "    #raise ValueError('I cannot use indexing for dictionaries; I must select a key')\n",
    "    print('I cannot use indexing for dictionaries; I must select a key')"
   ]
  },
  {
   "cell_type": "code",
   "execution_count": 125,
   "metadata": {},
   "outputs": [
    {
     "data": {
      "text/plain": [
       "{'federico': 3, 'johnny': 5, 'jessica': 7, 'laura': 2, 'francesco': 11}"
      ]
     },
     "execution_count": 125,
     "metadata": {},
     "output_type": "execute_result"
    }
   ],
   "source": [
    "## Adding new key to dictionary\n",
    "\n",
    "diz['francesco'] = 11\n",
    "diz"
   ]
  },
  {
   "cell_type": "code",
   "execution_count": 126,
   "metadata": {},
   "outputs": [
    {
     "data": {
      "text/plain": [
       "{'federico': 3, 'johnny': 5, 'jessica': 7, 'laura': 2, 'francesco': 11}"
      ]
     },
     "execution_count": 126,
     "metadata": {},
     "output_type": "execute_result"
    }
   ],
   "source": [
    "diz"
   ]
  },
  {
   "cell_type": "code",
   "execution_count": 127,
   "metadata": {},
   "outputs": [
    {
     "data": {
      "text/plain": [
       "{'federico': 3, 'johnny': 12, 'jessica': 7, 'laura': 2, 'francesco': 11}"
      ]
     },
     "execution_count": 127,
     "metadata": {},
     "output_type": "execute_result"
    }
   ],
   "source": [
    "## Modifying existing key in the dictionary\n",
    "\n",
    "diz['johnny']= diz['johnny'] + 7\n",
    "# diz['johnny'] += 7   # same way to do it\n",
    "diz"
   ]
  },
  {
   "cell_type": "code",
   "execution_count": 128,
   "metadata": {},
   "outputs": [
    {
     "data": {
      "text/plain": [
       "dict_keys(['federico', 'johnny', 'jessica', 'laura', 'francesco'])"
      ]
     },
     "execution_count": 128,
     "metadata": {},
     "output_type": "execute_result"
    }
   ],
   "source": [
    "# get only keys from the dictionary\n",
    "\n",
    "diz.keys()"
   ]
  },
  {
   "cell_type": "code",
   "execution_count": 129,
   "metadata": {},
   "outputs": [
    {
     "data": {
      "text/plain": [
       "dict_values([3, 12, 7, 2, 11])"
      ]
     },
     "execution_count": 129,
     "metadata": {},
     "output_type": "execute_result"
    }
   ],
   "source": [
    "# get only the values from the dictionary\n",
    "\n",
    "diz.values()"
   ]
  },
  {
   "cell_type": "code",
   "execution_count": 130,
   "metadata": {},
   "outputs": [],
   "source": [
    "#Exercise Slicing lists with dictionary\n",
    "## Take 2nd and 3rd letter of 'stringa3'\n",
    "\n",
    "l= [['Stringa1' , ['stringa2', 18, {'johnny': ['stringa3']} ]]]"
   ]
  },
  {
   "cell_type": "code",
   "execution_count": 131,
   "metadata": {},
   "outputs": [
    {
     "data": {
      "text/plain": [
       "'stringa3'"
      ]
     },
     "execution_count": 131,
     "metadata": {},
     "output_type": "execute_result"
    }
   ],
   "source": [
    "l[0][-1][-1]['johnny'][0]"
   ]
  },
  {
   "cell_type": "markdown",
   "metadata": {},
   "source": [
    "#### Sets"
   ]
  },
  {
   "cell_type": "code",
   "execution_count": 132,
   "metadata": {},
   "outputs": [
    {
     "data": {
      "text/plain": [
       "{1, 2, 3, 4}"
      ]
     },
     "execution_count": 132,
     "metadata": {},
     "output_type": "execute_result"
    }
   ],
   "source": [
    "### Takes only unique values and also sorted\n",
    "\n",
    "l= [1,2,1,3,4,4]\n",
    "\n",
    "s = set(l)\n",
    "s"
   ]
  },
  {
   "cell_type": "code",
   "execution_count": 133,
   "metadata": {},
   "outputs": [
    {
     "data": {
      "text/plain": [
       "set"
      ]
     },
     "execution_count": 133,
     "metadata": {},
     "output_type": "execute_result"
    }
   ],
   "source": [
    "type(s)"
   ]
  },
  {
   "cell_type": "code",
   "execution_count": 134,
   "metadata": {},
   "outputs": [
    {
     "data": {
      "text/plain": [
       "{0, 2, 3, 5, 7}"
      ]
     },
     "execution_count": 134,
     "metadata": {},
     "output_type": "execute_result"
    }
   ],
   "source": [
    "s2 = set([0,2,3,5,7])\n",
    "s2"
   ]
  },
  {
   "cell_type": "code",
   "execution_count": 135,
   "metadata": {},
   "outputs": [
    {
     "data": {
      "text/plain": [
       "{2, 3}"
      ]
     },
     "execution_count": 135,
     "metadata": {},
     "output_type": "execute_result"
    }
   ],
   "source": [
    "## Intersection - takes only common elements\n",
    "\n",
    "s.intersection(s2)"
   ]
  },
  {
   "cell_type": "code",
   "execution_count": 136,
   "metadata": {},
   "outputs": [
    {
     "data": {
      "text/plain": [
       "{0, 1, 2, 3, 4, 5, 7}"
      ]
     },
     "execution_count": 136,
     "metadata": {},
     "output_type": "execute_result"
    }
   ],
   "source": [
    "## Union - takes all elements\n",
    "\n",
    "s3 = s.union(s2)\n",
    "s3"
   ]
  },
  {
   "cell_type": "code",
   "execution_count": 137,
   "metadata": {},
   "outputs": [
    {
     "data": {
      "text/plain": [
       "{1, 2, 3, 4}"
      ]
     },
     "execution_count": 137,
     "metadata": {},
     "output_type": "execute_result"
    }
   ],
   "source": [
    "s"
   ]
  },
  {
   "cell_type": "code",
   "execution_count": 138,
   "metadata": {},
   "outputs": [
    {
     "data": {
      "text/plain": [
       "{1, 3, 4}"
      ]
     },
     "execution_count": 138,
     "metadata": {},
     "output_type": "execute_result"
    }
   ],
   "source": [
    "s.remove(2)\n",
    "s"
   ]
  },
  {
   "cell_type": "markdown",
   "metadata": {},
   "source": [
    "#### Tuples"
   ]
  },
  {
   "cell_type": "code",
   "execution_count": 139,
   "metadata": {},
   "outputs": [
    {
     "data": {
      "text/plain": [
       "(3, 8)"
      ]
     },
     "execution_count": 139,
     "metadata": {},
     "output_type": "execute_result"
    }
   ],
   "source": [
    "1+2, 3+5"
   ]
  },
  {
   "cell_type": "code",
   "execution_count": 140,
   "metadata": {},
   "outputs": [
    {
     "data": {
      "text/plain": [
       "tuple"
      ]
     },
     "execution_count": 140,
     "metadata": {},
     "output_type": "execute_result"
    }
   ],
   "source": [
    "t= (1,2,3)\n",
    "\n",
    "type(t)"
   ]
  },
  {
   "cell_type": "code",
   "execution_count": 141,
   "metadata": {},
   "outputs": [
    {
     "ename": "TypeError",
     "evalue": "'tuple' object does not support item assignment",
     "output_type": "error",
     "traceback": [
      "\u001b[0;31m---------------------------------------------------------------------------\u001b[0m",
      "\u001b[0;31mTypeError\u001b[0m                                 Traceback (most recent call last)",
      "Input \u001b[0;32mIn [141]\u001b[0m, in \u001b[0;36m<module>\u001b[0;34m\u001b[0m\n\u001b[0;32m----> 1\u001b[0m t[\u001b[38;5;241m0\u001b[39m] \u001b[38;5;241m=\u001b[39m \u001b[38;5;241m5\u001b[39m\n",
      "\u001b[0;31mTypeError\u001b[0m: 'tuple' object does not support item assignment"
     ]
    }
   ],
   "source": [
    "t[0] = 5"
   ]
  },
  {
   "cell_type": "code",
   "execution_count": 142,
   "metadata": {},
   "outputs": [
    {
     "data": {
      "text/plain": [
       "[5, 2, 3]"
      ]
     },
     "execution_count": 142,
     "metadata": {},
     "output_type": "execute_result"
    }
   ],
   "source": [
    "l= [1,2,3]\n",
    "l[0] = 5\n",
    "\n",
    "l"
   ]
  },
  {
   "cell_type": "code",
   "execution_count": 143,
   "metadata": {},
   "outputs": [
    {
     "data": {
      "text/plain": [
       "1"
      ]
     },
     "execution_count": 143,
     "metadata": {},
     "output_type": "execute_result"
    }
   ],
   "source": [
    "t.count(1)"
   ]
  },
  {
   "cell_type": "code",
   "execution_count": 144,
   "metadata": {},
   "outputs": [
    {
     "data": {
      "text/plain": [
       "(1, 2, 3, 4, 7)"
      ]
     },
     "execution_count": 144,
     "metadata": {},
     "output_type": "execute_result"
    }
   ],
   "source": [
    "t= t + (4,7)\n",
    "t"
   ]
  },
  {
   "cell_type": "markdown",
   "metadata": {},
   "source": [
    "#### <font color='green'> Comparison Operators"
   ]
  },
  {
   "cell_type": "code",
   "execution_count": 145,
   "metadata": {},
   "outputs": [
    {
     "data": {
      "text/plain": [
       "True"
      ]
     },
     "execution_count": 145,
     "metadata": {},
     "output_type": "execute_result"
    }
   ],
   "source": [
    "2>1"
   ]
  },
  {
   "cell_type": "code",
   "execution_count": 146,
   "metadata": {},
   "outputs": [
    {
     "data": {
      "text/plain": [
       "True"
      ]
     },
     "execution_count": 146,
     "metadata": {},
     "output_type": "execute_result"
    }
   ],
   "source": [
    "2>=1"
   ]
  },
  {
   "cell_type": "code",
   "execution_count": 147,
   "metadata": {},
   "outputs": [
    {
     "data": {
      "text/plain": [
       "False"
      ]
     },
     "execution_count": 147,
     "metadata": {},
     "output_type": "execute_result"
    }
   ],
   "source": [
    "## Comparison is with ==\n",
    "## just = is used for variable assignment\n",
    "\n",
    "x=3\n",
    "\n",
    "2==1"
   ]
  },
  {
   "cell_type": "code",
   "execution_count": 148,
   "metadata": {},
   "outputs": [
    {
     "data": {
      "text/plain": [
       "True"
      ]
     },
     "execution_count": 148,
     "metadata": {},
     "output_type": "execute_result"
    }
   ],
   "source": [
    "1==1"
   ]
  },
  {
   "cell_type": "code",
   "execution_count": 149,
   "metadata": {},
   "outputs": [
    {
     "data": {
      "text/plain": [
       "True"
      ]
     },
     "execution_count": 149,
     "metadata": {},
     "output_type": "execute_result"
    }
   ],
   "source": [
    "1 in [1,2,3]"
   ]
  },
  {
   "cell_type": "code",
   "execution_count": 150,
   "metadata": {},
   "outputs": [
    {
     "data": {
      "text/plain": [
       "False"
      ]
     },
     "execution_count": 150,
     "metadata": {},
     "output_type": "execute_result"
    }
   ],
   "source": [
    "1 in [2,3]"
   ]
  },
  {
   "cell_type": "code",
   "execution_count": 151,
   "metadata": {},
   "outputs": [
    {
     "data": {
      "text/plain": [
       "True"
      ]
     },
     "execution_count": 151,
     "metadata": {},
     "output_type": "execute_result"
    }
   ],
   "source": [
    "1 not in [2,3]"
   ]
  },
  {
   "cell_type": "code",
   "execution_count": 152,
   "metadata": {},
   "outputs": [
    {
     "data": {
      "text/plain": [
       "False"
      ]
     },
     "execution_count": 152,
     "metadata": {},
     "output_type": "execute_result"
    }
   ],
   "source": [
    "not 1 not in [2,3]"
   ]
  },
  {
   "cell_type": "code",
   "execution_count": 153,
   "metadata": {},
   "outputs": [
    {
     "data": {
      "text/plain": [
       "True"
      ]
     },
     "execution_count": 153,
     "metadata": {},
     "output_type": "execute_result"
    }
   ],
   "source": [
    "not not 1 not in [2,3]"
   ]
  },
  {
   "cell_type": "markdown",
   "metadata": {},
   "source": [
    "### <font color = 'green'> Special Characters and Built-in functions\n",
    "    \n",
    "- True, False\n",
    "\n",
    "- max, min, \n",
    "- any, all\n",
    "- round\n",
    "- print\n",
    "- type\n",
    "- input"
   ]
  },
  {
   "cell_type": "code",
   "execution_count": 154,
   "metadata": {},
   "outputs": [
    {
     "data": {
      "text/plain": [
       "bool"
      ]
     },
     "execution_count": 154,
     "metadata": {},
     "output_type": "execute_result"
    }
   ],
   "source": [
    "type(True)"
   ]
  },
  {
   "cell_type": "code",
   "execution_count": 155,
   "metadata": {},
   "outputs": [
    {
     "data": {
      "text/plain": [
       "True"
      ]
     },
     "execution_count": 155,
     "metadata": {},
     "output_type": "execute_result"
    }
   ],
   "source": [
    "# at least one True, and it returns True\n",
    "any([1==1, 1==0, 5<2])"
   ]
  },
  {
   "cell_type": "code",
   "execution_count": 156,
   "metadata": {},
   "outputs": [
    {
     "data": {
      "text/plain": [
       "False"
      ]
     },
     "execution_count": 156,
     "metadata": {},
     "output_type": "execute_result"
    }
   ],
   "source": [
    "# Needs all to be True, to return True\n",
    "\n",
    "all([1==1, 2==2, 3==3, 1==0])"
   ]
  },
  {
   "cell_type": "code",
   "execution_count": 157,
   "metadata": {},
   "outputs": [
    {
     "data": {
      "text/plain": [
       "True"
      ]
     },
     "execution_count": 157,
     "metadata": {},
     "output_type": "execute_result"
    }
   ],
   "source": [
    "all([1==1, 3>0])"
   ]
  },
  {
   "cell_type": "code",
   "execution_count": 158,
   "metadata": {},
   "outputs": [
    {
     "data": {
      "text/plain": [
       "4"
      ]
     },
     "execution_count": 158,
     "metadata": {},
     "output_type": "execute_result"
    }
   ],
   "source": [
    "round(3.77777)"
   ]
  },
  {
   "cell_type": "code",
   "execution_count": 159,
   "metadata": {},
   "outputs": [
    {
     "data": {
      "text/plain": [
       "3.78"
      ]
     },
     "execution_count": 159,
     "metadata": {},
     "output_type": "execute_result"
    }
   ],
   "source": [
    "round(3.77777 , 2)"
   ]
  },
  {
   "cell_type": "code",
   "execution_count": 162,
   "metadata": {},
   "outputs": [
    {
     "name": "stdout",
     "output_type": "stream",
     "text": [
      "Inserisci un numero  9\n"
     ]
    }
   ],
   "source": [
    "## Using Input to assign interactively\n",
    "\n",
    "num = int(input('Inserisci un numero  '))"
   ]
  },
  {
   "cell_type": "code",
   "execution_count": 163,
   "metadata": {},
   "outputs": [
    {
     "data": {
      "text/plain": [
       "9"
      ]
     },
     "execution_count": 163,
     "metadata": {},
     "output_type": "execute_result"
    }
   ],
   "source": [
    "num"
   ]
  },
  {
   "cell_type": "markdown",
   "metadata": {},
   "source": [
    "###  <font color='green'> Logical operators and Conditional Statements - if, elif, else, AND, OR"
   ]
  },
  {
   "cell_type": "code",
   "execution_count": 164,
   "metadata": {},
   "outputs": [
    {
     "data": {
      "text/plain": [
       "array([[1, 2, 3],\n",
       "       [4, 5, 6],\n",
       "       [7, 8, 9]])"
      ]
     },
     "execution_count": 164,
     "metadata": {},
     "output_type": "execute_result"
    }
   ],
   "source": [
    "matrix = np.arange(1,10).reshape(3,3)\n",
    "matrix"
   ]
  },
  {
   "cell_type": "code",
   "execution_count": 165,
   "metadata": {},
   "outputs": [
    {
     "data": {
      "text/plain": [
       "3"
      ]
     },
     "execution_count": 165,
     "metadata": {},
     "output_type": "execute_result"
    }
   ],
   "source": [
    "len(matrix)"
   ]
  },
  {
   "cell_type": "code",
   "execution_count": 166,
   "metadata": {},
   "outputs": [],
   "source": [
    "# matrix.shape"
   ]
  },
  {
   "cell_type": "code",
   "execution_count": 167,
   "metadata": {},
   "outputs": [
    {
     "name": "stdout",
     "output_type": "stream",
     "text": [
      "matrix has 3 elements\n"
     ]
    }
   ],
   "source": [
    "# Single if\n",
    "if len(matrix) == 3:\n",
    "    print('matrix has 3 elements')"
   ]
  },
  {
   "cell_type": "code",
   "execution_count": 168,
   "metadata": {},
   "outputs": [
    {
     "name": "stdout",
     "output_type": "stream",
     "text": [
      "Risposta sbagliata\n"
     ]
    }
   ],
   "source": [
    "## Example if else - have to be mutually exclusive\n",
    "\n",
    "if len(matrix) == 5:\n",
    "    print('Risposta giusta')\n",
    "else:\n",
    "    print('Risposta sbagliata')"
   ]
  },
  {
   "cell_type": "code",
   "execution_count": 169,
   "metadata": {
    "code_folding": []
   },
   "outputs": [
    {
     "name": "stdout",
     "output_type": "stream",
     "text": [
      "lista lunga\n"
     ]
    }
   ],
   "source": [
    "## Example if, elif, else - have to be mutually exclusive\n",
    "\n",
    "lista= [1,2,3,4,5,6,7,8,9]\n",
    "\n",
    "if len(lista)<=3:\n",
    "    print('lista corta')\n",
    "    \n",
    "elif len(lista)>3 and len(lista) <=6:\n",
    "    print('lista media')\n",
    "    \n",
    "else:  # if len > 6\n",
    "    print('lista lunga')"
   ]
  },
  {
   "cell_type": "code",
   "execution_count": 170,
   "metadata": {},
   "outputs": [
    {
     "name": "stdout",
     "output_type": "stream",
     "text": [
      "lista media\n"
     ]
    }
   ],
   "source": [
    "# If I use elif without making mutually exclusive conditions,\n",
    "## it only runs the first true condition\n",
    "\n",
    "lista= [1,2,3,4,5,6,7,8,9]\n",
    "\n",
    "if len(lista)<=3:\n",
    "    print('lista corta')\n",
    "    \n",
    "elif len(lista)>=2:\n",
    "    print('lista media')\n",
    "    \n",
    "elif len(lista)>=7:\n",
    "    print('lista lunga')"
   ]
  },
  {
   "cell_type": "code",
   "execution_count": 171,
   "metadata": {},
   "outputs": [
    {
     "name": "stdout",
     "output_type": "stream",
     "text": [
      "lista media\n",
      "lista lunga\n"
     ]
    }
   ],
   "source": [
    "## With if it runs any true condition\n",
    "\n",
    "lista= [1,2,3,4,5,6,7,8,9]\n",
    "\n",
    "if len(lista)<=3:\n",
    "    print('lista corta')\n",
    "    \n",
    "if len(lista)>=2:\n",
    "    print('lista media')\n",
    "    \n",
    "if len(lista)>=7:\n",
    "    print('lista lunga')"
   ]
  },
  {
   "cell_type": "markdown",
   "metadata": {},
   "source": [
    "##### AND/OR operators"
   ]
  },
  {
   "cell_type": "code",
   "execution_count": 172,
   "metadata": {},
   "outputs": [
    {
     "data": {
      "text/plain": [
       "array([0, 1, 2, 3, 4, 5, 6, 7, 8, 9])"
      ]
     },
     "execution_count": 172,
     "metadata": {},
     "output_type": "execute_result"
    }
   ],
   "source": [
    "l = np.arange(10)\n",
    "l"
   ]
  },
  {
   "cell_type": "code",
   "execution_count": 173,
   "metadata": {},
   "outputs": [],
   "source": [
    "s= 'Hello'"
   ]
  },
  {
   "cell_type": "code",
   "execution_count": 174,
   "metadata": {},
   "outputs": [
    {
     "name": "stdout",
     "output_type": "stream",
     "text": [
      "Some is not valid\n"
     ]
    }
   ],
   "source": [
    "## And operator - both valids\n",
    "\n",
    "if len(l) >=3 and len(s)>= 100:\n",
    "    print('Both conditions are valid')\n",
    "else:\n",
    "    print('Some is not valid')"
   ]
  },
  {
   "cell_type": "code",
   "execution_count": 175,
   "metadata": {},
   "outputs": [
    {
     "name": "stdout",
     "output_type": "stream",
     "text": [
      "At least one is valid\n"
     ]
    }
   ],
   "source": [
    "## Or operator - at least one valid\n",
    "\n",
    "if len(l) >=3 or len(s)>= 100:\n",
    "    print('At least one is valid')\n",
    "else:\n",
    "    print('None of them is valid')"
   ]
  },
  {
   "cell_type": "code",
   "execution_count": 176,
   "metadata": {},
   "outputs": [
    {
     "name": "stdout",
     "output_type": "stream",
     "text": [
      "La prima condizione che ho scritto è vera\n",
      "la seconda condizione è falsa\n"
     ]
    }
   ],
   "source": [
    "if 3>2:\n",
    "    print('La prima condizione che ho scritto è vera')\n",
    "    if 3<2:\n",
    "        print('La seconda condizione è vera')\n",
    "    else:\n",
    "        print('la seconda condizione è falsa')\n",
    "else:\n",
    "    print('La prima è falsa falsa')"
   ]
  },
  {
   "cell_type": "markdown",
   "metadata": {},
   "source": [
    "###### Exercise\n",
    "Take a number in input, and print \"Number is even\" if it is divisible by 2, else \"Number is odd\""
   ]
  },
  {
   "cell_type": "code",
   "execution_count": 177,
   "metadata": {},
   "outputs": [
    {
     "name": "stdout",
     "output_type": "stream",
     "text": [
      "it is odd\n"
     ]
    }
   ],
   "source": [
    "n = 21\n",
    "\n",
    "if n%2 ==0:\n",
    "    print('it is even')\n",
    "else:\n",
    "    print('it is odd')"
   ]
  },
  {
   "cell_type": "markdown",
   "metadata": {},
   "source": [
    "#### <font color = 'green'> Handling Errors with Try-Except clause"
   ]
  },
  {
   "cell_type": "code",
   "execution_count": 178,
   "metadata": {},
   "outputs": [
    {
     "name": "stdout",
     "output_type": "stream",
     "text": [
      "The variable does not exist\n"
     ]
    }
   ],
   "source": [
    "# Now num is not defined\n",
    "try:\n",
    "    print(nuova_variabile)\n",
    "except:\n",
    "    print('The variable does not exist')"
   ]
  },
  {
   "cell_type": "code",
   "execution_count": 179,
   "metadata": {},
   "outputs": [
    {
     "name": "stdout",
     "output_type": "stream",
     "text": [
      "It was not possible to execute the try clause\n"
     ]
    }
   ],
   "source": [
    "try:\n",
    "    2/0\n",
    "except:\n",
    "    print('It was not possible to execute the try clause')"
   ]
  },
  {
   "cell_type": "code",
   "execution_count": 180,
   "metadata": {},
   "outputs": [],
   "source": [
    "## Other way\n",
    "try:\n",
    "    2/0\n",
    "except:\n",
    "    pass"
   ]
  },
  {
   "cell_type": "markdown",
   "metadata": {},
   "source": [
    "Question: what is the only error immune to the try except, that is it would appear for sure also with this statement?\n",
    "\n",
    "\n",
    "Answer: Syntax/Indentation error"
   ]
  },
  {
   "cell_type": "markdown",
   "metadata": {},
   "source": [
    "## <font color='green'> For Loops"
   ]
  },
  {
   "cell_type": "code",
   "execution_count": 181,
   "metadata": {},
   "outputs": [
    {
     "data": {
      "text/plain": [
       "[0, 1, 2, 3, 4, 5, 6, 7, 8, 9]"
      ]
     },
     "execution_count": 181,
     "metadata": {},
     "output_type": "execute_result"
    }
   ],
   "source": [
    "l= list(np.arange(10))\n",
    "l"
   ]
  },
  {
   "cell_type": "markdown",
   "metadata": {},
   "source": [
    "### Iterator - based for loop"
   ]
  },
  {
   "cell_type": "markdown",
   "metadata": {},
   "source": [
    "###### SYNTAX"
   ]
  },
  {
   "cell_type": "code",
   "execution_count": 182,
   "metadata": {},
   "outputs": [
    {
     "name": "stdout",
     "output_type": "stream",
     "text": [
      "0\n",
      "3\n",
      "6\n",
      "9\n",
      "12\n",
      "15\n",
      "18\n",
      "21\n",
      "24\n",
      "27\n"
     ]
    }
   ],
   "source": [
    "## Example: Multiply each elemnt of the list by 3 using for loop\n",
    "\n",
    "### SYNTAX ITERATOR-BASED FOR LOOP\n",
    "\n",
    "for elem in l:\n",
    "    print(elem*3)"
   ]
  },
  {
   "cell_type": "code",
   "execution_count": 183,
   "metadata": {},
   "outputs": [
    {
     "data": {
      "text/plain": [
       "' '"
      ]
     },
     "execution_count": 183,
     "metadata": {},
     "output_type": "execute_result"
    }
   ],
   "source": [
    "#### print each word in the sentence using for loop\n",
    "\n",
    "s= \"I would like to eat a very good meal tonight\"\n",
    "\n",
    "s[1]"
   ]
  },
  {
   "cell_type": "code",
   "execution_count": 184,
   "metadata": {},
   "outputs": [
    {
     "data": {
      "text/plain": [
       "['I', 'would', 'like', 'to', 'eat', 'a', 'very', 'good', 'meal', 'tonight']"
      ]
     },
     "execution_count": 184,
     "metadata": {},
     "output_type": "execute_result"
    }
   ],
   "source": [
    "## Transforming string of letters into list of words\n",
    "\n",
    "words = s.split(' ')\n",
    "words"
   ]
  },
  {
   "cell_type": "code",
   "execution_count": 185,
   "metadata": {},
   "outputs": [
    {
     "name": "stdout",
     "output_type": "stream",
     "text": [
      "I\n",
      "would\n",
      "like\n",
      "to\n",
      "eat\n",
      "a\n",
      "very\n",
      "good\n",
      "meal\n",
      "tonight\n"
     ]
    }
   ],
   "source": [
    "for word in words:\n",
    "    print(word)"
   ]
  },
  {
   "cell_type": "code",
   "execution_count": 186,
   "metadata": {},
   "outputs": [
    {
     "data": {
      "text/plain": [
       "{'federico': 3, 'johnny': 5, 'jessica': 7, 'laura': 2, 'francesco': 11}"
      ]
     },
     "execution_count": 186,
     "metadata": {},
     "output_type": "execute_result"
    }
   ],
   "source": [
    "diz = {'federico': 3, \n",
    "       'johnny': 5, \n",
    "       'jessica': 7, \n",
    "       'laura': 2,\n",
    "       'francesco': 11}\n",
    "\n",
    "diz"
   ]
  },
  {
   "cell_type": "code",
   "execution_count": 187,
   "metadata": {},
   "outputs": [
    {
     "data": {
      "text/plain": [
       "5"
      ]
     },
     "execution_count": 187,
     "metadata": {},
     "output_type": "execute_result"
    }
   ],
   "source": [
    "len(diz)"
   ]
  },
  {
   "cell_type": "code",
   "execution_count": 188,
   "metadata": {},
   "outputs": [
    {
     "name": "stdout",
     "output_type": "stream",
     "text": [
      "federico\n",
      "johnny\n",
      "jessica\n",
      "laura\n",
      "francesco\n"
     ]
    }
   ],
   "source": [
    "## Print each name of the dictionary\n",
    "\n",
    "print(list(diz.keys())[0])\n",
    "print(list(diz.keys())[1])\n",
    "print(list(diz.keys())[2])\n",
    "print(list(diz.keys())[3])\n",
    "print(list(diz.keys())[4])"
   ]
  },
  {
   "cell_type": "code",
   "execution_count": 189,
   "metadata": {},
   "outputs": [
    {
     "name": "stdout",
     "output_type": "stream",
     "text": [
      "federico\n",
      "johnny\n",
      "jessica\n",
      "laura\n",
      "francesco\n"
     ]
    }
   ],
   "source": [
    "## Print each name of the dictionary using a for loop\n",
    "\n",
    "for name in diz.keys():\n",
    "    print(name)"
   ]
  },
  {
   "cell_type": "code",
   "execution_count": 190,
   "metadata": {},
   "outputs": [
    {
     "name": "stdout",
     "output_type": "stream",
     "text": [
      "a\n",
      "b\n",
      "c\n",
      "5\n",
      "d\n"
     ]
    }
   ],
   "source": [
    "l= ['a', 'b', 'c', 5, 'd']\n",
    "\n",
    "for elem in l:\n",
    "    print(elem)"
   ]
  },
  {
   "cell_type": "markdown",
   "metadata": {},
   "source": [
    "<b> Exercise: write for loop which prints N times the name of each key."
   ]
  },
  {
   "cell_type": "code",
   "execution_count": 191,
   "metadata": {},
   "outputs": [
    {
     "data": {
      "text/plain": [
       "{'federico': 3, 'johnny': 5, 'jessica': 7, 'laura': 2, 'francesco': 11}"
      ]
     },
     "execution_count": 191,
     "metadata": {},
     "output_type": "execute_result"
    }
   ],
   "source": [
    "diz"
   ]
  },
  {
   "cell_type": "raw",
   "metadata": {},
   "source": [
    "1. scorro ogni elemento del dizionario\n",
    "2. moltiplico per N"
   ]
  },
  {
   "cell_type": "code",
   "execution_count": 192,
   "metadata": {},
   "outputs": [
    {
     "name": "stdout",
     "output_type": "stream",
     "text": [
      "federico federico federico \n",
      "johnny johnny johnny \n",
      "jessica jessica jessica \n",
      "laura laura laura \n",
      "francesco francesco francesco \n"
     ]
    }
   ],
   "source": [
    "n = 3\n",
    "\n",
    "for name in diz:\n",
    "    print( (name + ' ') * n)"
   ]
  },
  {
   "cell_type": "code",
   "execution_count": 193,
   "metadata": {},
   "outputs": [],
   "source": [
    "# Same exercise, but rather than printing, create a new dictionary\n",
    "# where each new key is the old key* n times, and each value is x**2\n",
    "\n",
    "# Example output:\n",
    "# {'federico federico federico': 9 .....}"
   ]
  },
  {
   "cell_type": "code",
   "execution_count": 194,
   "metadata": {},
   "outputs": [
    {
     "data": {
      "text/plain": [
       "{'federico federico federico ': 9,\n",
       " 'johnny johnny johnny ': 25,\n",
       " 'jessica jessica jessica ': 49,\n",
       " 'laura laura laura ': 4,\n",
       " 'francesco francesco francesco ': 121}"
      ]
     },
     "execution_count": 194,
     "metadata": {},
     "output_type": "execute_result"
    }
   ],
   "source": [
    "new_diz = {}\n",
    "\n",
    "for name in diz:\n",
    "    \n",
    "#     print(new_diz.keys())\n",
    "    \n",
    "    new_diz[(name + ' ')*n] = diz[name]**2\n",
    "    \n",
    "#     print()\n",
    "    \n",
    "new_diz"
   ]
  },
  {
   "cell_type": "markdown",
   "metadata": {},
   "source": [
    "<b> NOTE: it does not matter the name, we can call it nome, key, variable etc"
   ]
  },
  {
   "cell_type": "code",
   "execution_count": 195,
   "metadata": {},
   "outputs": [
    {
     "name": "stdout",
     "output_type": "stream",
     "text": [
      "federico 3\n",
      "johnny 5\n",
      "jessica 7\n",
      "laura 2\n",
      "francesco 11\n"
     ]
    }
   ],
   "source": [
    "## Print each name and value of the dictionary\n",
    "\n",
    "for key in diz:\n",
    "    print(key , diz[key])"
   ]
  },
  {
   "cell_type": "markdown",
   "metadata": {},
   "source": [
    "<b> Print each name and value of the dictionary ONLY if name starts with 'f' and ends with 'o'"
   ]
  },
  {
   "cell_type": "code",
   "execution_count": 196,
   "metadata": {},
   "outputs": [],
   "source": [
    "s= 'Hello'"
   ]
  },
  {
   "cell_type": "code",
   "execution_count": 197,
   "metadata": {},
   "outputs": [
    {
     "data": {
      "text/plain": [
       "True"
      ]
     },
     "execution_count": 197,
     "metadata": {},
     "output_type": "execute_result"
    }
   ],
   "source": [
    "s.startswith('H')"
   ]
  },
  {
   "cell_type": "code",
   "execution_count": 198,
   "metadata": {},
   "outputs": [
    {
     "data": {
      "text/plain": [
       "False"
      ]
     },
     "execution_count": 198,
     "metadata": {},
     "output_type": "execute_result"
    }
   ],
   "source": [
    "s.startswith('p')"
   ]
  },
  {
   "cell_type": "code",
   "execution_count": 199,
   "metadata": {},
   "outputs": [
    {
     "data": {
      "text/plain": [
       "True"
      ]
     },
     "execution_count": 199,
     "metadata": {},
     "output_type": "execute_result"
    }
   ],
   "source": [
    "s.endswith('o')"
   ]
  },
  {
   "cell_type": "code",
   "execution_count": 200,
   "metadata": {},
   "outputs": [
    {
     "name": "stdout",
     "output_type": "stream",
     "text": [
      "federico 3\n",
      "francesco 11\n"
     ]
    }
   ],
   "source": [
    "for name in diz:\n",
    "    if name.startswith('f') and name.endswith('o'):\n",
    "        print(name , diz[name])"
   ]
  },
  {
   "cell_type": "markdown",
   "metadata": {},
   "source": [
    "<b> Print each name and value of the dictionary ONLY if name starts with 'l' or 'j' "
   ]
  },
  {
   "cell_type": "code",
   "execution_count": 201,
   "metadata": {},
   "outputs": [
    {
     "name": "stdout",
     "output_type": "stream",
     "text": [
      "johnny 5\n",
      "jessica 7\n",
      "laura 2\n"
     ]
    }
   ],
   "source": [
    "for name in diz:\n",
    "    if name.startswith('l') or name.startswith('j'):\n",
    "        print(name , diz[name])"
   ]
  },
  {
   "cell_type": "markdown",
   "metadata": {},
   "source": [
    "### Traditional for loop using range( )\n",
    "- always valid - more powerful way to do it"
   ]
  },
  {
   "cell_type": "code",
   "execution_count": 202,
   "metadata": {},
   "outputs": [
    {
     "data": {
      "text/plain": [
       "array([[1, 2, 3],\n",
       "       [4, 5, 6],\n",
       "       [7, 8, 9]])"
      ]
     },
     "execution_count": 202,
     "metadata": {},
     "output_type": "execute_result"
    }
   ],
   "source": [
    "matrix = np.arange(1,10).reshape(3,3)\n",
    "matrix"
   ]
  },
  {
   "cell_type": "code",
   "execution_count": 203,
   "metadata": {},
   "outputs": [
    {
     "data": {
      "text/plain": [
       "3"
      ]
     },
     "execution_count": 203,
     "metadata": {},
     "output_type": "execute_result"
    }
   ],
   "source": [
    "### Exercise: print each row of matrix using iterator-based for loop\n",
    "\n",
    "len(matrix)"
   ]
  },
  {
   "cell_type": "code",
   "execution_count": 204,
   "metadata": {},
   "outputs": [
    {
     "name": "stdout",
     "output_type": "stream",
     "text": [
      "[1 2 3]\n",
      "[4 5 6]\n",
      "[7 8 9]\n"
     ]
    }
   ],
   "source": [
    "for elem in matrix:\n",
    "    print(elem)"
   ]
  },
  {
   "cell_type": "markdown",
   "metadata": {},
   "source": [
    "###### SYNTAX"
   ]
  },
  {
   "cell_type": "code",
   "execution_count": 205,
   "metadata": {},
   "outputs": [
    {
     "data": {
      "text/plain": [
       "[0, 1, 2, 3, 4, 5, 6, 7, 8, 9]"
      ]
     },
     "execution_count": 205,
     "metadata": {},
     "output_type": "execute_result"
    }
   ],
   "source": [
    "list(range(0, 10))"
   ]
  },
  {
   "cell_type": "code",
   "execution_count": 206,
   "metadata": {},
   "outputs": [
    {
     "name": "stdout",
     "output_type": "stream",
     "text": [
      "[1 2 3]\n",
      "\n",
      "[4 5 6]\n",
      "\n",
      "[7 8 9]\n",
      "\n"
     ]
    }
   ],
   "source": [
    "## Same with traditional foor loop using range()\n",
    "\n",
    "for i in range(0, len(matrix)):\n",
    "#     print(i)\n",
    "    print(matrix[i])\n",
    "    print()\n"
   ]
  },
  {
   "cell_type": "code",
   "execution_count": 207,
   "metadata": {},
   "outputs": [
    {
     "name": "stdout",
     "output_type": "stream",
     "text": [
      "[4 5 6]\n",
      "\n",
      "[7 8 9]\n",
      "\n"
     ]
    }
   ],
   "source": [
    "for i in range(1, len(matrix)):\n",
    "#     print(i)\n",
    "    print(matrix[i])\n",
    "    print()\n"
   ]
  },
  {
   "cell_type": "code",
   "execution_count": null,
   "metadata": {},
   "outputs": [],
   "source": []
  },
  {
   "cell_type": "code",
   "execution_count": 208,
   "metadata": {},
   "outputs": [
    {
     "name": "stdout",
     "output_type": "stream",
     "text": [
      "[7 8 9]\n",
      "[4 5 6]\n",
      "[1 2 3]\n"
     ]
    }
   ],
   "source": [
    "### Given a matrix, return a new matrix where you print with the reverse order\n",
    "\n",
    "for i in range(0, len(matrix)):\n",
    "    \n",
    "    print(matrix[len(matrix) -1 - i])"
   ]
  },
  {
   "cell_type": "code",
   "execution_count": 209,
   "metadata": {},
   "outputs": [
    {
     "data": {
      "text/plain": [
       "array([[7, 8, 9],\n",
       "       [4, 5, 6],\n",
       "       [1, 2, 3]])"
      ]
     },
     "execution_count": 209,
     "metadata": {},
     "output_type": "execute_result"
    }
   ],
   "source": [
    "matrix[::-1]"
   ]
  },
  {
   "cell_type": "code",
   "execution_count": 210,
   "metadata": {},
   "outputs": [
    {
     "name": "stdout",
     "output_type": "stream",
     "text": [
      "[7 8 9]\n",
      "[4 5 6]\n",
      "[1 2 3]\n"
     ]
    }
   ],
   "source": [
    "# Alternative with previous kind of loop\n",
    "\n",
    "for elem in matrix[::-1]:\n",
    "    print(elem)\n"
   ]
  },
  {
   "cell_type": "markdown",
   "metadata": {},
   "source": [
    "<b> Exercise: create a new list (of numbers) where you subtract each elem with the one after. If there is no any elem after, take the same elem of the original list"
   ]
  },
  {
   "cell_type": "raw",
   "metadata": {},
   "source": [
    "0. inizializza una nuova lista\n",
    "1. scorrriamo tutti gli elementi della lista\n",
    "2. se l'elemento e' in ultima posizione, allora ritorna l'elemnto stesso\n",
    "3. altrimenti, ritorna elem[i] - elem[i+1]"
   ]
  },
  {
   "cell_type": "code",
   "execution_count": 211,
   "metadata": {},
   "outputs": [],
   "source": [
    "l= [5,8,3,6,2]\n",
    "\n",
    "# output [-3, 5, -3, 4, 2]\n",
    "new_l= []\n",
    "\n",
    "\n",
    "for i in range(len(l)):\n",
    "    \n",
    "    if i == len(l) -1:\n",
    "        new_l.append(l[i])\n",
    "        \n",
    "    else:\n",
    "        new_l.append(l[i] - l[i+1])"
   ]
  },
  {
   "cell_type": "code",
   "execution_count": 212,
   "metadata": {},
   "outputs": [
    {
     "data": {
      "text/plain": [
       "[-3, 5, -3, 4, 2]"
      ]
     },
     "execution_count": 212,
     "metadata": {},
     "output_type": "execute_result"
    }
   ],
   "source": [
    "new_l"
   ]
  },
  {
   "cell_type": "markdown",
   "metadata": {},
   "source": [
    "<b> Exercise: Return a new list in which each number is summed by two numbers after; If there are no numbers after, leave the number as it is."
   ]
  },
  {
   "cell_type": "code",
   "execution_count": 213,
   "metadata": {},
   "outputs": [],
   "source": [
    "lista= [1,2,3,4,5,6,7,8,9]"
   ]
  },
  {
   "cell_type": "raw",
   "metadata": {},
   "source": [
    "0. inizializza una nuova lista\n",
    "1. scorrriamo tutti gli elementi della lista\n",
    "2. se l'elemento e' terzultima posizione, allora ritorna l'elemnto stesso\n",
    "3. altrimenti, ritorna elem[i] + elem[i+2]"
   ]
  },
  {
   "cell_type": "code",
   "execution_count": 214,
   "metadata": {},
   "outputs": [
    {
     "data": {
      "text/plain": [
       "[4, 6, 8, 10, 12, 14, 16, 8, 9]"
      ]
     },
     "execution_count": 214,
     "metadata": {},
     "output_type": "execute_result"
    }
   ],
   "source": [
    "new_l = []\n",
    "\n",
    "for i in range(len(lista)):\n",
    "    \n",
    "    if i <= len(lista) -1 -2:\n",
    "        new_l.append(lista[i] + lista[i+2])\n",
    "        \n",
    "    else:\n",
    "        new_l.append(lista[i])\n",
    "        \n",
    "new_l   "
   ]
  },
  {
   "cell_type": "code",
   "execution_count": 215,
   "metadata": {},
   "outputs": [
    {
     "data": {
      "text/plain": [
       "[4, 6, 8, 10, 12, 14, 16, 8, 9]"
      ]
     },
     "execution_count": 215,
     "metadata": {},
     "output_type": "execute_result"
    }
   ],
   "source": [
    "### Let's try it again with try except - less elegant solution, I am not having full control!\n",
    "\n",
    "new_l = []\n",
    "\n",
    "for i in range(len(lista)):\n",
    "    \n",
    "    try:\n",
    "        new_l.append(lista[i] + lista[i+2])\n",
    "        \n",
    "    except:\n",
    "        new_l.append(lista[i])\n",
    "        \n",
    "new_l   "
   ]
  },
  {
   "cell_type": "markdown",
   "metadata": {},
   "source": [
    "#### List Comprehension\n",
    "- 3rd kind of iteration"
   ]
  },
  {
   "cell_type": "code",
   "execution_count": 216,
   "metadata": {},
   "outputs": [
    {
     "data": {
      "text/plain": [
       "[1, 2, 3, 4, 5, 6, 7, 8, 9]"
      ]
     },
     "execution_count": 216,
     "metadata": {},
     "output_type": "execute_result"
    }
   ],
   "source": [
    "lista"
   ]
  },
  {
   "cell_type": "code",
   "execution_count": 217,
   "metadata": {},
   "outputs": [
    {
     "data": {
      "text/plain": [
       "[10, 20, 30, 40, 50, 60, 70, 80, 90]"
      ]
     },
     "execution_count": 217,
     "metadata": {},
     "output_type": "execute_result"
    }
   ],
   "source": [
    "## Suppose I want to mupltiply by 10 each element of a list, I can do simply\n",
    "\n",
    "[elem*10 for elem in lista]"
   ]
  },
  {
   "cell_type": "code",
   "execution_count": 218,
   "metadata": {},
   "outputs": [
    {
     "data": {
      "text/plain": [
       "array([10, 20, 30, 40, 50, 60, 70, 80, 90])"
      ]
     },
     "execution_count": 218,
     "metadata": {},
     "output_type": "execute_result"
    }
   ],
   "source": [
    "np.array(lista)*10"
   ]
  },
  {
   "cell_type": "markdown",
   "metadata": {},
   "source": [
    "##### Exercise\n",
    "Write the same of the list comprehension using traditional for loops"
   ]
  },
  {
   "cell_type": "code",
   "execution_count": 219,
   "metadata": {},
   "outputs": [
    {
     "data": {
      "text/plain": [
       "['a', 'b']"
      ]
     },
     "execution_count": 219,
     "metadata": {},
     "output_type": "execute_result"
    }
   ],
   "source": [
    "# recall\n",
    "['a']  + ['b']"
   ]
  },
  {
   "cell_type": "code",
   "execution_count": 220,
   "metadata": {},
   "outputs": [
    {
     "data": {
      "text/plain": [
       "[10, 20, 30, 40, 50, 60, 70, 80, 90]"
      ]
     },
     "execution_count": 220,
     "metadata": {},
     "output_type": "execute_result"
    }
   ],
   "source": [
    "## Iterator Based for loop\n",
    "\n",
    "new_l = []\n",
    "\n",
    "for elem in lista:\n",
    "    new_l.append(elem*10)\n",
    "        \n",
    "new_l"
   ]
  },
  {
   "cell_type": "code",
   "execution_count": 221,
   "metadata": {},
   "outputs": [
    {
     "data": {
      "text/plain": [
       "[10, 20, 30, 40, 50, 60, 70, 80, 90]"
      ]
     },
     "execution_count": 221,
     "metadata": {},
     "output_type": "execute_result"
    }
   ],
   "source": [
    "## For loop using range()\n",
    "\n",
    "new_l = []\n",
    "\n",
    "for i in range(0, len(lista)):\n",
    "    new_l.append(lista[i]*10)\n",
    "    \n",
    "new_l"
   ]
  },
  {
   "cell_type": "markdown",
   "metadata": {},
   "source": [
    "#### Using Break in a for loop \n",
    "- it requires using logical operators"
   ]
  },
  {
   "cell_type": "code",
   "execution_count": 222,
   "metadata": {},
   "outputs": [
    {
     "name": "stdout",
     "output_type": "stream",
     "text": [
      "0\n",
      "1\n",
      "2\n",
      "3\n",
      "4\n",
      "5\n",
      "6\n",
      "7\n"
     ]
    }
   ],
   "source": [
    "## Example: Write for loop to print numbers from 1 to 10 and use 'break' to actually print only numbers from 1 to 7\n",
    "\n",
    "for i in range(10):\n",
    "    if i<= 7:\n",
    "        print(i)\n",
    "        \n",
    "    else:\n",
    "        break  ## Interrupt loop"
   ]
  },
  {
   "cell_type": "markdown",
   "metadata": {},
   "source": [
    "#### Using Continue in a for loop \n",
    "- it requires using logical operators"
   ]
  },
  {
   "cell_type": "code",
   "execution_count": 223,
   "metadata": {},
   "outputs": [
    {
     "name": "stdout",
     "output_type": "stream",
     "text": [
      "0\n",
      "1\n",
      "2\n",
      "3\n",
      "4\n",
      "5\n",
      "7\n",
      "9\n"
     ]
    }
   ],
   "source": [
    "## Example: Write for loop to print numbers from 1 to 10 and use 'continue' to skip the number 6 and 8\n",
    "\n",
    "\n",
    "for i in range(10):\n",
    "    if i==6 or i==8:\n",
    "        continue\n",
    "    else:\n",
    "        print(i)"
   ]
  },
  {
   "cell_type": "code",
   "execution_count": 224,
   "metadata": {},
   "outputs": [
    {
     "name": "stdout",
     "output_type": "stream",
     "text": [
      "0\n",
      "1\n",
      "2\n",
      "3\n",
      "4\n",
      "5\n",
      "7\n",
      "9\n"
     ]
    }
   ],
   "source": [
    "for i in range(10):\n",
    "    if i not in [6,8]:\n",
    "        print(i)"
   ]
  },
  {
   "cell_type": "markdown",
   "metadata": {},
   "source": [
    "### Exercises for loops"
   ]
  },
  {
   "cell_type": "code",
   "execution_count": 225,
   "metadata": {},
   "outputs": [],
   "source": [
    "### Use for loop to create a list having 2 elems which are those in 1st and 5th position of a string \n",
    "\n",
    "s= 'stringa3'"
   ]
  },
  {
   "cell_type": "code",
   "execution_count": 226,
   "metadata": {},
   "outputs": [
    {
     "name": "stdout",
     "output_type": "stream",
     "text": [
      "s\n",
      "t\n",
      "r\n",
      "i\n",
      "n\n",
      "g\n",
      "a\n",
      "3\n"
     ]
    }
   ],
   "source": [
    "for i in range(len(s)):\n",
    "    print(s[i])"
   ]
  },
  {
   "cell_type": "code",
   "execution_count": 227,
   "metadata": {},
   "outputs": [
    {
     "data": {
      "text/plain": [
       "['s', 'n']"
      ]
     },
     "execution_count": 227,
     "metadata": {},
     "output_type": "execute_result"
    }
   ],
   "source": [
    "list_idx = []\n",
    "\n",
    "for i in range(len(s)):\n",
    "    if i in [0, 4]:\n",
    "        list_idx.append(s[i])\n",
    "\n",
    "        \n",
    "list_idx"
   ]
  },
  {
   "cell_type": "code",
   "execution_count": 228,
   "metadata": {},
   "outputs": [
    {
     "data": {
      "text/plain": [
       "'word2'"
      ]
     },
     "execution_count": 228,
     "metadata": {},
     "output_type": "execute_result"
    }
   ],
   "source": [
    "## Extract word2 and return a string which has the 2nd and 5th elem of it\n",
    "\n",
    "l= [1, 2, {'word1': [['word2']]}]\n",
    "\n",
    "old_s = l[-1]['word1'][0][0]\n",
    "old_s"
   ]
  },
  {
   "cell_type": "code",
   "execution_count": 229,
   "metadata": {},
   "outputs": [
    {
     "data": {
      "text/plain": [
       "'tn'"
      ]
     },
     "execution_count": 229,
     "metadata": {},
     "output_type": "execute_result"
    }
   ],
   "source": [
    "new_s = ''\n",
    "\n",
    "for i in range(len(s)):\n",
    "    if i in [1, 4]:\n",
    "#         new_s = new_s + s[i]\n",
    "        new_s += s[i]\n",
    "\n",
    "\n",
    "new_s"
   ]
  },
  {
   "cell_type": "markdown",
   "metadata": {},
   "source": [
    "##### Programma che legge una lista di numeri e crea un dizionario dove ogni numero diventa chiave (in formato stringa), e lo stesso numero alla seconda il valore "
   ]
  },
  {
   "cell_type": "code",
   "execution_count": 230,
   "metadata": {},
   "outputs": [
    {
     "data": {
      "text/plain": [
       "array([8, 5, 0, 0, 1, 7, 6, 2, 4, 5])"
      ]
     },
     "execution_count": 230,
     "metadata": {},
     "output_type": "execute_result"
    }
   ],
   "source": [
    "l= np.random.randint(0, 9, size= 10 )\n",
    "l"
   ]
  },
  {
   "cell_type": "code",
   "execution_count": 231,
   "metadata": {},
   "outputs": [
    {
     "data": {
      "text/plain": [
       "{'8': 64, '5': 25, '0': 0, '1': 1, '7': 49, '6': 36, '2': 4, '4': 16}"
      ]
     },
     "execution_count": 231,
     "metadata": {},
     "output_type": "execute_result"
    }
   ],
   "source": [
    "new_diz = {}\n",
    "\n",
    "for elem in l:\n",
    "    new_diz[str(elem)] = elem **2\n",
    "    \n",
    "new_diz"
   ]
  },
  {
   "cell_type": "code",
   "execution_count": 232,
   "metadata": {},
   "outputs": [],
   "source": [
    "### Same exercise with using range() in the loop"
   ]
  },
  {
   "cell_type": "code",
   "execution_count": 233,
   "metadata": {},
   "outputs": [
    {
     "data": {
      "text/plain": [
       "{'8': 64, '5': 25, '0': 0, '1': 1, '7': 49, '6': 36, '2': 4, '4': 16}"
      ]
     },
     "execution_count": 233,
     "metadata": {},
     "output_type": "execute_result"
    }
   ],
   "source": [
    "new_diz = {}\n",
    "\n",
    "for i in range(0, len(l)):\n",
    "    new_diz[ str(l[i])] = l[i]**2\n",
    "    \n",
    "new_diz"
   ]
  },
  {
   "cell_type": "code",
   "execution_count": 234,
   "metadata": {
    "code_folding": []
   },
   "outputs": [
    {
     "data": {
      "text/plain": [
       "{'5': 25, '0': 0, '1': 0, '7': 1, '6': 49, '2': 36, '4': 4}"
      ]
     },
     "execution_count": 234,
     "metadata": {},
     "output_type": "execute_result"
    }
   ],
   "source": [
    "### Same exercise, but the key is the next number in the list (if there is no, use the same number)\n",
    "\n",
    "new_diz = {}\n",
    "\n",
    "\n",
    "for i in range(0,len(l)):\n",
    "    \n",
    "    if i<= len(l) - 1 -1:\n",
    "        new_diz[str(l[i+1])] = l[i] **2\n",
    "        \n",
    "    else:\n",
    "        new_diz[str(l[i])] = l[i] **2\n",
    "        \n",
    "    \n",
    "new_diz"
   ]
  },
  {
   "cell_type": "markdown",
   "metadata": {},
   "source": [
    "##### Programma che legge una stringa e stampa il numero di 'a' (quante volte il carattere a minuscolo compare in questa stringa"
   ]
  },
  {
   "cell_type": "code",
   "execution_count": 235,
   "metadata": {},
   "outputs": [],
   "source": [
    "s= 'This is a trial string, just for explanation purposes'"
   ]
  },
  {
   "cell_type": "code",
   "execution_count": 236,
   "metadata": {},
   "outputs": [
    {
     "data": {
      "text/plain": [
       "4"
      ]
     },
     "execution_count": 236,
     "metadata": {},
     "output_type": "execute_result"
    }
   ],
   "source": [
    "# Using for loop\n",
    "\n",
    "count = 0\n",
    "\n",
    "for letter in s:\n",
    "    if letter =='a':\n",
    "        count += 1\n",
    "        \n",
    "count"
   ]
  },
  {
   "cell_type": "markdown",
   "metadata": {},
   "source": [
    "##### Programma che legge una stringa s e stampa tutti  i caratteri che appaiono dopo una 'a'"
   ]
  },
  {
   "cell_type": "code",
   "execution_count": 237,
   "metadata": {},
   "outputs": [
    {
     "name": "stdout",
     "output_type": "stream",
     "text": [
      " \n",
      "l\n",
      "n\n",
      "t\n"
     ]
    }
   ],
   "source": [
    "for i in range(len(s)):\n",
    "    if s[i] == 'a':\n",
    "        print(s[i+1])"
   ]
  },
  {
   "cell_type": "markdown",
   "metadata": {},
   "source": [
    "##### Programma python che inserito un numero n intero stampa tutti i numeri da 0 a n che hanno la cifra finale 3"
   ]
  },
  {
   "cell_type": "code",
   "execution_count": 238,
   "metadata": {},
   "outputs": [
    {
     "name": "stdout",
     "output_type": "stream",
     "text": [
      "3\n",
      "13\n",
      "23\n",
      "33\n"
     ]
    }
   ],
   "source": [
    "n = 42\n",
    "\n",
    "for i in range(n):\n",
    "    if i%10 == 3:\n",
    "        print(i)"
   ]
  },
  {
   "cell_type": "markdown",
   "metadata": {},
   "source": [
    "##### Programma che visualizza i numeri da 0 a n in cui la PENULTIMA cifra sia dispari"
   ]
  },
  {
   "cell_type": "code",
   "execution_count": 239,
   "metadata": {},
   "outputs": [
    {
     "name": "stdout",
     "output_type": "stream",
     "text": [
      "10\n",
      "11\n",
      "12\n",
      "13\n",
      "14\n",
      "15\n",
      "16\n",
      "17\n",
      "18\n",
      "19\n",
      "30\n"
     ]
    }
   ],
   "source": [
    "n= 31\n",
    "\n",
    "\n",
    "for i in range(n):\n",
    "    if i>=10 and (i//10)%2 != 0:  \n",
    "        print(i)"
   ]
  },
  {
   "cell_type": "markdown",
   "metadata": {},
   "source": [
    "##### Programma che legge un numero intero n e stampa tutti i numeri da 0 ad n che sono divisibili per 7 e finiscono per 3"
   ]
  },
  {
   "cell_type": "code",
   "execution_count": 240,
   "metadata": {},
   "outputs": [
    {
     "name": "stdout",
     "output_type": "stream",
     "text": [
      "63\n",
      "133\n",
      "203\n",
      "273\n"
     ]
    }
   ],
   "source": [
    "n = 300\n",
    "\n",
    "\n",
    "for i in range(n):\n",
    "    if i%10 == 3 and i%7==0:\n",
    "        print(i)"
   ]
  },
  {
   "cell_type": "markdown",
   "metadata": {},
   "source": [
    "##### Calculate the sum of all numbers from 1 to a given number"
   ]
  },
  {
   "cell_type": "code",
   "execution_count": 241,
   "metadata": {},
   "outputs": [
    {
     "data": {
      "text/plain": [
       "6"
      ]
     },
     "execution_count": 241,
     "metadata": {},
     "output_type": "execute_result"
    }
   ],
   "source": [
    "n = 5\n",
    "\n",
    "somma = 0\n",
    "\n",
    "for i in range(0, n+1):\n",
    "    somma +=1\n",
    "\n",
    "\n",
    "somma  "
   ]
  },
  {
   "cell_type": "markdown",
   "metadata": {},
   "source": [
    "##### Write a program to print the next 10 multiples of a given number"
   ]
  },
  {
   "cell_type": "code",
   "execution_count": 242,
   "metadata": {},
   "outputs": [
    {
     "name": "stdout",
     "output_type": "stream",
     "text": [
      "10\n",
      "15\n",
      "20\n",
      "25\n",
      "30\n",
      "35\n",
      "40\n",
      "45\n",
      "50\n"
     ]
    }
   ],
   "source": [
    "n= 5\n",
    "\n",
    "for i in range(1,10):\n",
    "    print(n * (i+1))"
   ]
  },
  {
   "cell_type": "markdown",
   "metadata": {},
   "source": [
    "##### Print list in reverse order using a loop"
   ]
  },
  {
   "cell_type": "code",
   "execution_count": 243,
   "metadata": {},
   "outputs": [
    {
     "data": {
      "text/plain": [
       "[50, 40, 30, 20, 10]"
      ]
     },
     "execution_count": 243,
     "metadata": {},
     "output_type": "execute_result"
    }
   ],
   "source": [
    "l = [10, 20, 30, 40, 50]\n",
    "# reverse list\n",
    "\n",
    "l2 = []\n",
    "\n",
    "\n",
    "for i in range(len(l)):\n",
    "    l2.append( l[len(l) - 1 -i ])\n",
    "\n",
    "l2"
   ]
  },
  {
   "cell_type": "markdown",
   "metadata": {},
   "source": [
    "##### Display numbers from -10 to -1 using for loop"
   ]
  },
  {
   "cell_type": "code",
   "execution_count": 244,
   "metadata": {},
   "outputs": [
    {
     "name": "stdout",
     "output_type": "stream",
     "text": [
      "-10\n",
      "-9\n",
      "-8\n",
      "-7\n",
      "-6\n",
      "-5\n",
      "-4\n",
      "-3\n",
      "-2\n",
      "-1\n"
     ]
    }
   ],
   "source": [
    "for i in range(1,11):\n",
    "    print(i-11)"
   ]
  },
  {
   "cell_type": "code",
   "execution_count": 245,
   "metadata": {},
   "outputs": [
    {
     "name": "stdout",
     "output_type": "stream",
     "text": [
      "-10\n",
      "-9\n",
      "-8\n",
      "-7\n",
      "-6\n",
      "-5\n",
      "-4\n",
      "-3\n",
      "-2\n",
      "-1\n"
     ]
    }
   ],
   "source": [
    "for i in range(-10,0):\n",
    "    print(i)"
   ]
  },
  {
   "cell_type": "markdown",
   "metadata": {},
   "source": [
    "##### Use a loop to display elements from a given list present at odd index positions"
   ]
  },
  {
   "cell_type": "code",
   "execution_count": 246,
   "metadata": {},
   "outputs": [
    {
     "data": {
      "text/plain": [
       "[20, 40, 60, 80, 100]"
      ]
     },
     "execution_count": 246,
     "metadata": {},
     "output_type": "execute_result"
    }
   ],
   "source": [
    "my_list = [10, 20, 30, 40, 50, 60, 70, 80, 90, 100]\n",
    "new_list = []\n",
    "\n",
    "\n",
    "for i in range(0, len(my_list)):\n",
    "    if i%2 !=0:\n",
    "        new_list.append(my_list[i])\n",
    "        \n",
    "        \n",
    "new_list"
   ]
  },
  {
   "cell_type": "markdown",
   "metadata": {},
   "source": [
    "#### Calculate the cube of all numbers from 1 to a given number"
   ]
  },
  {
   "cell_type": "code",
   "execution_count": 247,
   "metadata": {},
   "outputs": [
    {
     "name": "stdout",
     "output_type": "stream",
     "text": [
      "1\n",
      "8\n",
      "27\n",
      "64\n",
      "125\n",
      "216\n",
      "343\n",
      "512\n",
      "729\n",
      "1000\n",
      "1331\n",
      "1728\n",
      "2197\n",
      "2744\n",
      "3375\n",
      "4096\n",
      "4913\n",
      "5832\n",
      "6859\n",
      "8000\n",
      "9261\n"
     ]
    }
   ],
   "source": [
    "n = 21\n",
    "\n",
    "\n",
    "for i in range(1, n+1):\n",
    "    print(i ** 3)"
   ]
  },
  {
   "cell_type": "markdown",
   "metadata": {},
   "source": [
    "##### Find maximum in a list without using max()"
   ]
  },
  {
   "cell_type": "code",
   "execution_count": 248,
   "metadata": {},
   "outputs": [],
   "source": [
    "l = [3, 0, 11, 4, 6]"
   ]
  },
  {
   "cell_type": "code",
   "execution_count": 249,
   "metadata": {},
   "outputs": [
    {
     "data": {
      "text/plain": [
       "11"
      ]
     },
     "execution_count": 249,
     "metadata": {},
     "output_type": "execute_result"
    }
   ],
   "source": [
    "max(l)"
   ]
  },
  {
   "cell_type": "raw",
   "metadata": {},
   "source": [
    "1. assumiamo che il massimo sia il primo valore della lista\n",
    "2. scorriamo tutti gli elementi della lista: se un valore e' > del massimo che avevo, esso stesso diventera il nuovo valore massimo"
   ]
  },
  {
   "cell_type": "code",
   "execution_count": 250,
   "metadata": {},
   "outputs": [
    {
     "data": {
      "text/plain": [
       "11"
      ]
     },
     "execution_count": 250,
     "metadata": {},
     "output_type": "execute_result"
    }
   ],
   "source": [
    "max_num = l[0]\n",
    "\n",
    "for elem in l:\n",
    "    \n",
    "    if elem > max_num:\n",
    "        max_num = elem\n",
    "\n",
    "        \n",
    "max_num"
   ]
  },
  {
   "cell_type": "markdown",
   "metadata": {},
   "source": [
    "### <font color='green'> While Loops"
   ]
  },
  {
   "cell_type": "markdown",
   "metadata": {},
   "source": [
    "Print each number of <b> lista </b> and until you find one which is divisible by 7"
   ]
  },
  {
   "cell_type": "code",
   "execution_count": 251,
   "metadata": {},
   "outputs": [
    {
     "data": {
      "text/plain": [
       "[1, 2, 3, 4, 5, 6, 7, 8, 9]"
      ]
     },
     "execution_count": 251,
     "metadata": {},
     "output_type": "execute_result"
    }
   ],
   "source": [
    "lista"
   ]
  },
  {
   "cell_type": "code",
   "execution_count": 252,
   "metadata": {},
   "outputs": [
    {
     "name": "stdout",
     "output_type": "stream",
     "text": [
      "1\n",
      "2\n",
      "3\n",
      "4\n",
      "5\n",
      "6\n"
     ]
    }
   ],
   "source": [
    "index= 0\n",
    "\n",
    "while lista[index] %7 != 0:    ## as long as condition is True, continue. \n",
    "    \n",
    "    print(lista[index])\n",
    "    \n",
    "    index+=1"
   ]
  },
  {
   "cell_type": "code",
   "execution_count": 253,
   "metadata": {},
   "outputs": [
    {
     "name": "stdout",
     "output_type": "stream",
     "text": [
      "1\n",
      "2\n",
      "3\n",
      "4\n",
      "5\n",
      "6\n"
     ]
    }
   ],
   "source": [
    "## Doing the same using for loop (in some cases it is possible, not always!)\n",
    "\n",
    "for i in range(0, len(lista)):\n",
    "    \n",
    "    if lista[i]%7 !=0:\n",
    "        print(lista[i])\n",
    "        \n",
    "    else:\n",
    "        break"
   ]
  },
  {
   "cell_type": "code",
   "execution_count": 254,
   "metadata": {},
   "outputs": [],
   "source": [
    "# Careful, while Loop can be infinite. An example is below (don't run this)\n",
    "\n",
    "# while 3>0:\n",
    "#     print('Non finira mai')"
   ]
  },
  {
   "cell_type": "markdown",
   "metadata": {},
   "source": [
    "#### Exercises While Loops"
   ]
  },
  {
   "cell_type": "code",
   "execution_count": 255,
   "metadata": {},
   "outputs": [],
   "source": [
    "# Es: Print First 10 natural numbers using while loop"
   ]
  },
  {
   "cell_type": "code",
   "execution_count": 256,
   "metadata": {},
   "outputs": [
    {
     "name": "stdout",
     "output_type": "stream",
     "text": [
      "1\n",
      "2\n",
      "3\n",
      "4\n",
      "5\n",
      "6\n",
      "7\n",
      "8\n",
      "9\n",
      "10\n"
     ]
    }
   ],
   "source": [
    "i = 1\n",
    "while i <= 10:\n",
    "    print(i)\n",
    "    i += 1"
   ]
  },
  {
   "cell_type": "code",
   "execution_count": 257,
   "metadata": {},
   "outputs": [],
   "source": [
    "## Count the total number of digits in a number"
   ]
  },
  {
   "cell_type": "code",
   "execution_count": 258,
   "metadata": {},
   "outputs": [
    {
     "name": "stdout",
     "output_type": "stream",
     "text": [
      "Total digits are: 5\n"
     ]
    }
   ],
   "source": [
    "num = 75869\n",
    "count = 0\n",
    "while num != 0:\n",
    "    # floor division\n",
    "    # to reduce the last digit from number\n",
    "    num = num // 10\n",
    "\n",
    "    # increment counter by 1\n",
    "    count = count + 1\n",
    "print(\"Total digits are:\", count)"
   ]
  },
  {
   "cell_type": "code",
   "execution_count": 259,
   "metadata": {},
   "outputs": [
    {
     "name": "stdout",
     "output_type": "stream",
     "text": [
      "Total digits are: 5\n"
     ]
    }
   ],
   "source": [
    "## same with for loop\n",
    "\n",
    "num = 75869\n",
    "count = 0\n",
    "\n",
    "\n",
    "for i in range(len(str(num))):\n",
    "    num = num // 10\n",
    "    # increment counter by 1\n",
    "    count = count + 1\n",
    "    \n",
    "    if num ==0:\n",
    "        break\n",
    "        \n",
    "print(\"Total digits are:\", count)"
   ]
  },
  {
   "cell_type": "markdown",
   "metadata": {},
   "source": [
    "## <font color='green'> Defining Functions\n",
    "- Custom Functions\n",
    "- Functions VS Class Methods \n",
    "- Built-in Functions (max, min, round etc)"
   ]
  },
  {
   "cell_type": "markdown",
   "metadata": {},
   "source": [
    "Function which takes a list and returns a list having the string version of each element"
   ]
  },
  {
   "cell_type": "code",
   "execution_count": 260,
   "metadata": {},
   "outputs": [],
   "source": [
    "def convert_elems(lista):\n",
    "    new = []\n",
    "    \n",
    "    for elem in lista:\n",
    "        new.append(str(elem))\n",
    "        \n",
    "    return new"
   ]
  },
  {
   "cell_type": "code",
   "execution_count": 261,
   "metadata": {},
   "outputs": [
    {
     "data": {
      "text/plain": [
       "['1', '2', '3']"
      ]
     },
     "execution_count": 261,
     "metadata": {},
     "output_type": "execute_result"
    }
   ],
   "source": [
    "trial = [1,2,3]\n",
    "\n",
    "convert_elems(trial)"
   ]
  },
  {
   "cell_type": "code",
   "execution_count": 262,
   "metadata": {},
   "outputs": [
    {
     "data": {
      "text/plain": [
       "['1', 'b', '5', '7', 'z']"
      ]
     },
     "execution_count": 262,
     "metadata": {},
     "output_type": "execute_result"
    }
   ],
   "source": [
    "l2 = [1, 'b', 5, 7, 'z']\n",
    "\n",
    "convert_elems(l2)"
   ]
  },
  {
   "cell_type": "markdown",
   "metadata": {},
   "source": [
    "#####  lambda expressions\n",
    "another way is with lambda function, it's just much shorter but does the same thing"
   ]
  },
  {
   "cell_type": "code",
   "execution_count": 263,
   "metadata": {},
   "outputs": [
    {
     "data": {
      "text/plain": [
       "['1', '2', '3']"
      ]
     },
     "execution_count": 263,
     "metadata": {},
     "output_type": "execute_result"
    }
   ],
   "source": [
    "trial = [1,2,3]\n",
    "\n",
    "list(map(lambda x: str(x), trial))"
   ]
  },
  {
   "cell_type": "markdown",
   "metadata": {},
   "source": [
    "Write a function which takes in input a dictionary and returns a new one where each value is multiplied by a factor"
   ]
  },
  {
   "cell_type": "code",
   "execution_count": 264,
   "metadata": {},
   "outputs": [],
   "source": [
    "def multiply_diz(diz, multiplier):\n",
    "    new_diz = diz.copy()\n",
    "    \n",
    "    for key in diz:\n",
    "        new_diz[key] = new_diz[key]*multiplier\n",
    "    \n",
    "    return new_diz"
   ]
  },
  {
   "cell_type": "code",
   "execution_count": 265,
   "metadata": {},
   "outputs": [
    {
     "data": {
      "text/plain": [
       "{'federico': 3, 'johnny': 5, 'jessica': 7, 'laura': 2, 'francesco': 11}"
      ]
     },
     "execution_count": 265,
     "metadata": {},
     "output_type": "execute_result"
    }
   ],
   "source": [
    "diz"
   ]
  },
  {
   "cell_type": "code",
   "execution_count": 266,
   "metadata": {},
   "outputs": [
    {
     "data": {
      "text/plain": [
       "{'federico': 6, 'johnny': 10, 'jessica': 14, 'laura': 4, 'francesco': 22}"
      ]
     },
     "execution_count": 266,
     "metadata": {},
     "output_type": "execute_result"
    }
   ],
   "source": [
    "multiply_diz(diz, 2)"
   ]
  },
  {
   "cell_type": "code",
   "execution_count": 267,
   "metadata": {},
   "outputs": [
    {
     "data": {
      "text/plain": [
       "{'federico': 6, 'johnny': 10, 'jessica': 14, 'laura': 4, 'francesco': 22}"
      ]
     },
     "execution_count": 267,
     "metadata": {},
     "output_type": "execute_result"
    }
   ],
   "source": [
    "multiply_diz(diz= diz, multiplier= 2)"
   ]
  },
  {
   "cell_type": "markdown",
   "metadata": {},
   "source": [
    "##### Optional parameters in functions"
   ]
  },
  {
   "cell_type": "code",
   "execution_count": 268,
   "metadata": {},
   "outputs": [],
   "source": [
    "### Create a function to make the same exercise\n",
    "\n",
    "#Return a new list in which each number is summed by N numbers after; If there are no N numbers after, leave the number as it is.\n",
    "\n",
    "def sum_n_after(my_list, n_after=2):\n",
    "    \n",
    "    \"\"\" Function which takes a list and returns the same list with.... \n",
    "    \n",
    "    my_list: type(list)\"\"\"\n",
    "                  \n",
    "    new= []\n",
    "    \n",
    "    for i in range(len(my_list)):\n",
    "        if i < len(my_list) - n_after:\n",
    "            new.append(my_list[i] + my_list[i + n_after])\n",
    "            \n",
    "        else: ## when I do not have n_after indexes after, I append the same value of list\n",
    "            new.append(my_list[i])\n",
    "                  \n",
    "    return new"
   ]
  },
  {
   "cell_type": "code",
   "execution_count": 269,
   "metadata": {},
   "outputs": [
    {
     "data": {
      "text/plain": [
       "[1, 2, 3, 4, 5, 6, 7, 8, 9]"
      ]
     },
     "execution_count": 269,
     "metadata": {},
     "output_type": "execute_result"
    }
   ],
   "source": [
    "lista = list(np.arange(1, 10))\n",
    "lista"
   ]
  },
  {
   "cell_type": "code",
   "execution_count": 270,
   "metadata": {},
   "outputs": [
    {
     "data": {
      "text/plain": [
       "[4, 6, 8, 10, 12, 14, 16, 8, 9]"
      ]
     },
     "execution_count": 270,
     "metadata": {},
     "output_type": "execute_result"
    }
   ],
   "source": [
    "sum_n_after(my_list= lista, n_after=2)"
   ]
  },
  {
   "cell_type": "code",
   "execution_count": 271,
   "metadata": {},
   "outputs": [
    {
     "data": {
      "text/plain": [
       "[5, 7, 9, 11, 13, 15, 7, 8, 9]"
      ]
     },
     "execution_count": 271,
     "metadata": {},
     "output_type": "execute_result"
    }
   ],
   "source": [
    "sum_n_after(lista, n_after=3)"
   ]
  },
  {
   "cell_type": "markdown",
   "metadata": {},
   "source": [
    "#### Exercises Functions"
   ]
  },
  {
   "cell_type": "code",
   "execution_count": 272,
   "metadata": {},
   "outputs": [],
   "source": [
    "### Create a function to make the same exercise\n",
    "\n",
    "#Return a new list in which each number is summed by two numbers after; If there are no numbers after, leave the number as it is.\n",
    "\n",
    "def sum_two_after(my_list):\n",
    "    \n",
    "    \"\"\" Function which takes a list and returns the same list with.... \n",
    "    \n",
    "    my_list: type(list)\"\"\"\n",
    "                  \n",
    "    ## code here"
   ]
  },
  {
   "cell_type": "code",
   "execution_count": 273,
   "metadata": {},
   "outputs": [],
   "source": [
    "sum_two_after(my_list = lista)"
   ]
  },
  {
   "cell_type": "code",
   "execution_count": 274,
   "metadata": {},
   "outputs": [],
   "source": [
    "sum_two_after(lista)"
   ]
  },
  {
   "cell_type": "code",
   "execution_count": 275,
   "metadata": {},
   "outputs": [],
   "source": [
    "l2= [7,13, 260]\n",
    "\n",
    "sum_two_after(l2)"
   ]
  },
  {
   "cell_type": "code",
   "execution_count": 276,
   "metadata": {},
   "outputs": [],
   "source": [
    "#ESERCIZIO\n",
    "\n",
    "# Voglio scrivere una funzione che mi restituisca la mediana di una lista\n",
    "# Questa funzione dovrà ricevere delle informazioni in input (di tipo lista) e restituire un risultato di tipo intero in output\n",
    "\n",
    "# Quando creiamo una funzione, tieniamo sempre bene a mente i parametri che desideriamo avere\n",
    "# in input e in output!"
   ]
  },
  {
   "cell_type": "code",
   "execution_count": 277,
   "metadata": {},
   "outputs": [],
   "source": [
    "l= [1,2,3,4,5,6,7,8,9]\n",
    "\n",
    "l2= [2,1,5,7,6,4,9,8,3]"
   ]
  },
  {
   "cell_type": "code",
   "execution_count": 278,
   "metadata": {},
   "outputs": [
    {
     "data": {
      "text/plain": [
       "5"
      ]
     },
     "execution_count": 278,
     "metadata": {},
     "output_type": "execute_result"
    }
   ],
   "source": [
    "sorted_list = sorted(l2)\n",
    "median = sorted_list[len(sorted_list)//2]\n",
    "median"
   ]
  },
  {
   "cell_type": "code",
   "execution_count": 279,
   "metadata": {},
   "outputs": [],
   "source": [
    "def find_median(lista):\n",
    "    \n",
    "    sorted_list = sorted(lista)\n",
    "    median = sorted_list[len(sorted_list)//2]\n",
    "    \n",
    "    return median\n"
   ]
  },
  {
   "cell_type": "code",
   "execution_count": 280,
   "metadata": {},
   "outputs": [
    {
     "data": {
      "text/plain": [
       "5"
      ]
     },
     "execution_count": 280,
     "metadata": {},
     "output_type": "execute_result"
    }
   ],
   "source": [
    "find_median(l)"
   ]
  },
  {
   "cell_type": "code",
   "execution_count": 281,
   "metadata": {},
   "outputs": [
    {
     "data": {
      "text/plain": [
       "5"
      ]
     },
     "execution_count": 281,
     "metadata": {},
     "output_type": "execute_result"
    }
   ],
   "source": [
    "find_median(l2)"
   ]
  },
  {
   "cell_type": "code",
   "execution_count": 282,
   "metadata": {},
   "outputs": [],
   "source": [
    "# Scrivere una funzione python che dato una dizionario contenente le coppie studente/mediavoti\n",
    "# restituisce una lista contenente i nomi degli studenti ordinati per media.\n",
    "\n",
    "diz = {'john':30,'paul':18,'george':28,'richard':23}\n",
    "\n",
    "# con questo dizionario, la funzione dovrà restituirmi: ['paul','richard','george', 'john' ]"
   ]
  },
  {
   "cell_type": "code",
   "execution_count": 283,
   "metadata": {},
   "outputs": [
    {
     "data": {
      "text/plain": [
       "[18, 23, 28, 30]"
      ]
     },
     "execution_count": 283,
     "metadata": {},
     "output_type": "execute_result"
    }
   ],
   "source": [
    "sorted(diz.values())"
   ]
  },
  {
   "cell_type": "raw",
   "metadata": {},
   "source": [
    "0. Initialize list\n",
    "1. Order votes\n",
    "2. for loop on order votes:\n",
    "    3. for loop on dictionary keys:\n",
    "        4. check if voto = diz[key]\n",
    "         5. append key to the list"
   ]
  },
  {
   "cell_type": "code",
   "execution_count": 284,
   "metadata": {},
   "outputs": [
    {
     "data": {
      "text/plain": [
       "{'john': 30, 'paul': 18, 'george': 28, 'richard': 23}"
      ]
     },
     "execution_count": 284,
     "metadata": {},
     "output_type": "execute_result"
    }
   ],
   "source": [
    "diz"
   ]
  },
  {
   "cell_type": "code",
   "execution_count": 285,
   "metadata": {},
   "outputs": [
    {
     "data": {
      "text/plain": [
       "['paul', 'richard', 'george', 'john']"
      ]
     },
     "execution_count": 285,
     "metadata": {},
     "output_type": "execute_result"
    }
   ],
   "source": [
    "l = []\n",
    "\n",
    "ordered_votes = sorted(diz.values())\n",
    "\n",
    "for vote in ordered_votes:\n",
    "    for name in diz:\n",
    "        if vote == diz[name]:\n",
    "            l.append(name)\n",
    "            \n",
    "            \n",
    "l"
   ]
  },
  {
   "cell_type": "code",
   "execution_count": 286,
   "metadata": {},
   "outputs": [],
   "source": [
    "def order_students(dictionary):\n",
    "    \n",
    "    l = []\n",
    "\n",
    "    ordered_votes = sorted(dictionary.values())\n",
    "\n",
    "    for vote in ordered_votes:\n",
    "        for name in dictionary:\n",
    "            if vote == dictionary[name]:\n",
    "                l.append(name)\n",
    "                \n",
    "    return l\n"
   ]
  },
  {
   "cell_type": "code",
   "execution_count": 287,
   "metadata": {},
   "outputs": [
    {
     "data": {
      "text/plain": [
       "['paul', 'richard', 'george', 'john']"
      ]
     },
     "execution_count": 287,
     "metadata": {},
     "output_type": "execute_result"
    }
   ],
   "source": [
    "order_students(diz)"
   ]
  },
  {
   "cell_type": "code",
   "execution_count": 288,
   "metadata": {},
   "outputs": [
    {
     "data": {
      "text/plain": [
       "['paul', 'richard', 'george', 'john']"
      ]
     },
     "execution_count": 288,
     "metadata": {},
     "output_type": "execute_result"
    }
   ],
   "source": [
    "order_students(dictionary= diz)"
   ]
  },
  {
   "cell_type": "markdown",
   "metadata": {},
   "source": [
    "### Recursive functions (Optional Bonus lecture) "
   ]
  },
  {
   "cell_type": "code",
   "execution_count": 289,
   "metadata": {},
   "outputs": [],
   "source": [
    "### Example: write a function which uses a for loop to sum all numbers till N"
   ]
  },
  {
   "cell_type": "code",
   "execution_count": 290,
   "metadata": {},
   "outputs": [],
   "source": [
    "def sum_all(n):\n",
    "    \n",
    "    somma = 0\n",
    "    for i in range(n+1):\n",
    "        somma += i\n",
    "        \n",
    "    return somma"
   ]
  },
  {
   "cell_type": "code",
   "execution_count": 291,
   "metadata": {},
   "outputs": [
    {
     "data": {
      "text/plain": [
       "10"
      ]
     },
     "execution_count": 291,
     "metadata": {},
     "output_type": "execute_result"
    }
   ],
   "source": [
    "sum_all(4)"
   ]
  },
  {
   "cell_type": "code",
   "execution_count": 292,
   "metadata": {},
   "outputs": [],
   "source": [
    "### Recursive idea: calling the function itself in the return "
   ]
  },
  {
   "cell_type": "code",
   "execution_count": 293,
   "metadata": {},
   "outputs": [],
   "source": [
    "def sum_all_recursive(n):\n",
    "    \n",
    "    if n <=1 :\n",
    "        return n\n",
    "    \n",
    "    else:\n",
    "        \n",
    "        return n + sum_all_recursive(n-1)"
   ]
  },
  {
   "cell_type": "code",
   "execution_count": 294,
   "metadata": {},
   "outputs": [
    {
     "data": {
      "text/plain": [
       "10"
      ]
     },
     "execution_count": 294,
     "metadata": {},
     "output_type": "execute_result"
    }
   ],
   "source": [
    "sum_all_recursive(4)"
   ]
  },
  {
   "cell_type": "markdown",
   "metadata": {},
   "source": [
    "<b> Write a Python program to display the Fibonacci sequence\n",
    "\n",
    "- A Fibonacci sequence is the integer sequence of 0, 1, 1, 2, 3, 5, 8....\n",
    "\n",
    "- The first two terms are 0 and 1. All other terms are obtained by adding the preceding two terms. This means to say the nth term is the sum of (n-1)th and (n-2)th term.\n"
   ]
  },
  {
   "cell_type": "code",
   "execution_count": 295,
   "metadata": {},
   "outputs": [],
   "source": [
    "def recur_fibo(n):\n",
    "    if n <= 1:\n",
    "        return n\n",
    "    else:\n",
    "        return(recur_fibo(n-1) + recur_fibo(n-2))"
   ]
  },
  {
   "cell_type": "code",
   "execution_count": 296,
   "metadata": {},
   "outputs": [
    {
     "name": "stdout",
     "output_type": "stream",
     "text": [
      "Fibonacci sequence:\n",
      "0\n",
      "1\n",
      "1\n",
      "2\n",
      "3\n",
      "5\n",
      "8\n",
      "13\n",
      "21\n",
      "34\n"
     ]
    }
   ],
   "source": [
    "nterms = 10\n",
    "\n",
    "# check if the number of terms is valid\n",
    "if nterms <= 0:\n",
    "    print(\"Plese enter a positive integer\")\n",
    "else:\n",
    "    print(\"Fibonacci sequence:\")\n",
    "    for i in range(nterms):\n",
    "        print(recur_fibo(i), end = '\\n')"
   ]
  },
  {
   "cell_type": "markdown",
   "metadata": {},
   "source": [
    "###  <font color='green'> Recap Exercises"
   ]
  },
  {
   "cell_type": "markdown",
   "metadata": {},
   "source": [
    "#### PART 1 Exercises recap"
   ]
  },
  {
   "cell_type": "code",
   "execution_count": 297,
   "metadata": {},
   "outputs": [],
   "source": [
    "# Implementa il gioco Carta Forbici e Sasso prendendo in input un \n",
    "## numero di vittorie massime a cui bisogna arrivare"
   ]
  },
  {
   "cell_type": "raw",
   "metadata": {},
   "source": [
    "0. create two variables, one for victories_1, the other victories_2\n",
    "1. for loop with range(0, till n)\n",
    "    2. at each iteration, I pick a symbol from each player\n",
    "    3. if-elif-else to create logic of winning\n",
    "    4. make count of victories of each player\n",
    "    5. break the cycle if any of the player reachs the limit"
   ]
  },
  {
   "cell_type": "code",
   "execution_count": 298,
   "metadata": {},
   "outputs": [
    {
     "name": "stdout",
     "output_type": "stream",
     "text": [
      "Insert hand 1S\n",
      "Insert hand 2C\n",
      "Player 2 wins\n",
      "Insert hand 1S\n",
      "Insert hand 2C\n",
      "Player 2 wins\n",
      "Insert hand 1C\n",
      "Insert hand 2P\n",
      "Insert hand 1C\n",
      "Insert hand 2F\n",
      "Players 2 wins\n",
      "Player 1 victories 0\n",
      "Player 2 victories 3\n",
      "N. Hands played 4\n"
     ]
    }
   ],
   "source": [
    "max_victories = 3\n",
    "\n",
    "v1 = 0\n",
    "v2 = 0\n",
    "\n",
    "\n",
    "for i in range(0, 1000):\n",
    "    \n",
    "    g1 = input(\"Insert hand 1\")\n",
    "    g2 = input(\"Insert hand 2\")\n",
    "    \n",
    "    if (g1 == 'S' and g2== 'S') or \\\n",
    "        (g1 == 'C' and g2== 'C') or   \\\n",
    "        (g1 == 'F' and g2== 'F'):\n",
    "        \n",
    "        print(\"Nothing happens\")\n",
    "        \n",
    "    elif (g1 == 'S' and g2== 'C'):\n",
    "        print('Player 2 wins')\n",
    "        v2 += 1\n",
    "        \n",
    "    elif (g1 == 'S' and g2== 'F'):\n",
    "        print('Player 1 wins')\n",
    "        v1 += 1\n",
    "        \n",
    "    elif g1 == \"C\" and g2 == \"F\":\n",
    "        print(\"Players 2 wins\")\n",
    "        v2 += 1\n",
    "        \n",
    "    elif g1 == \"C\" and g2 == \"S\":\n",
    "        print(\"Players 1 wins\")\n",
    "        v1 += 1\n",
    "\n",
    "    elif g1 == \"F\" and g2 == \"C\":\n",
    "        print(\"Players 1 wins\")\n",
    "        v1 += 1\n",
    "        \n",
    "    elif g1 == \"F\" and g2 == \"S\":\n",
    "        print(\"Players 2 wins\")\n",
    "        v2 += 1\n",
    "        \n",
    "        \n",
    "    if v1 == max_victories or v2 == max_victories:\n",
    "        break\n",
    "        \n",
    "        \n",
    "print('Player 1 victories', v1)\n",
    "print('Player 2 victories', v2)  \n",
    "print('N. Hands played', i+1)\n"
   ]
  },
  {
   "cell_type": "markdown",
   "metadata": {},
   "source": [
    "<b> Do the same using while loop"
   ]
  },
  {
   "cell_type": "code",
   "execution_count": 299,
   "metadata": {},
   "outputs": [
    {
     "name": "stdout",
     "output_type": "stream",
     "text": [
      "\n",
      "Insert hand 1S\n",
      "Insert hand 2C\n",
      "Players 2 wins\n",
      "\n",
      "Insert hand 1S\n",
      "Insert hand 2C\n",
      "Players 2 wins\n",
      "\n",
      "Insert hand 1F\n",
      "Insert hand 2C\n",
      "Players 1 wins\n",
      "\n",
      "Insert hand 1F\n",
      "Insert hand 2S\n",
      "Players 2 wins\n",
      "\n",
      "\n",
      "Players 1 victories:  1\n",
      "Players 2 victories:  3\n",
      "N. Hands played 4\n"
     ]
    }
   ],
   "source": [
    "max_victories = 3\n",
    "\n",
    "v1 = 0\n",
    "v2 = 0\n",
    "\n",
    "n_hands= 0\n",
    "\n",
    "\n",
    "while v1!=max_victories and v2 !=max_victories :\n",
    "    \n",
    "    print()\n",
    "    g1 = input(\"Insert hand 1\")\n",
    "    g2 = input(\"Insert hand 2\")\n",
    "\n",
    "    if g1 == \"S\" and g2 == \"S\" or \\\n",
    "        g1 == \"C\" and g2 == \"C\" or \\\n",
    "        g1 == \"F\" and g2 == \"F\" :\n",
    "        \n",
    "        print(\"Nothing happens\")\n",
    "    \n",
    "    elif g1 == \"S\" and g2 == \"C\":\n",
    "        print(\"Players 2 wins\")\n",
    "        v2 += 1\n",
    "    elif g1 == \"S\" and g2 == \"F\":\n",
    "        print(\"Players 1 wins\")\n",
    "        v1 += 1\n",
    "    \n",
    "    elif g1 == \"C\" and g2 == \"F\":\n",
    "        print(\"Players 2 wins\")\n",
    "        v2 += 1\n",
    "    elif g1 == \"C\" and g2 == \"S\":\n",
    "        print(\"Players 1 wins\")\n",
    "        v1 += 1\n",
    "\n",
    "    elif g1 == \"F\" and g2 == \"C\":\n",
    "        print(\"Players 1 wins\")\n",
    "        v1 += 1\n",
    "    elif g1 == \"F\" and g2 == \"S\":\n",
    "        print(\"Players 2 wins\")\n",
    "        v2 += 1\n",
    "        \n",
    "    n_hands +=1\n",
    "\n",
    "        \n",
    "print()\n",
    "print()\n",
    "print(\"Players 1 victories: \",v1)\n",
    "print(\"Players 2 victories: \",v2) \n",
    "print('N. Hands played', n_hands)"
   ]
  },
  {
   "cell_type": "code",
   "execution_count": 300,
   "metadata": {},
   "outputs": [],
   "source": [
    "## Take maximum sums among all the combinations of two numbers of the two lists\n",
    "\n",
    "# max( 5+3, 5+0, 5+ 11....... 2+3, 2+0, 2+11.....)"
   ]
  },
  {
   "cell_type": "code",
   "execution_count": 303,
   "metadata": {},
   "outputs": [
    {
     "data": {
      "text/plain": [
       "19"
      ]
     },
     "execution_count": 303,
     "metadata": {},
     "output_type": "execute_result"
    }
   ],
   "source": [
    "l1= [5,2,8,7]\n",
    "l2 = [3,0, 11, 4, 6]\n",
    "\n",
    "all_sums = []\n",
    "\n",
    "for num1 in l1:\n",
    "    for num2 in l2:\n",
    "        all_sums.append(num1 + num2)\n",
    "        \n",
    "max(all_sums)"
   ]
  },
  {
   "cell_type": "code",
   "execution_count": 304,
   "metadata": {},
   "outputs": [
    {
     "data": {
      "text/plain": [
       "19"
      ]
     },
     "execution_count": 304,
     "metadata": {},
     "output_type": "execute_result"
    }
   ],
   "source": [
    "max(l1) + max(l2)"
   ]
  },
  {
   "cell_type": "raw",
   "metadata": {},
   "source": [
    "1. initialize maximum as l1[0] + l2[0]\n",
    "2. for elem1 in l1:\n",
    "    3. for elem2 in l2:\n",
    "        4. somma = elem1+elem2\n",
    "        5 if somma > max initialized, update"
   ]
  },
  {
   "cell_type": "code",
   "execution_count": 305,
   "metadata": {},
   "outputs": [
    {
     "name": "stdout",
     "output_type": "stream",
     "text": [
      "Sum is:  8\n",
      "Max is:  8\n",
      "Not updating\n",
      "\n",
      "Sum is:  5\n",
      "Max is:  8\n",
      "Not updating\n",
      "\n",
      "Sum is:  16\n",
      "Max is:  8\n",
      "Updating the maximum sum\n",
      "\n",
      "Sum is:  9\n",
      "Max is:  16\n",
      "Not updating\n",
      "\n",
      "Sum is:  11\n",
      "Max is:  16\n",
      "Not updating\n",
      "\n",
      "Sum is:  5\n",
      "Max is:  16\n",
      "Not updating\n",
      "\n",
      "Sum is:  2\n",
      "Max is:  16\n",
      "Not updating\n",
      "\n",
      "Sum is:  13\n",
      "Max is:  16\n",
      "Not updating\n",
      "\n",
      "Sum is:  6\n",
      "Max is:  16\n",
      "Not updating\n",
      "\n",
      "Sum is:  8\n",
      "Max is:  16\n",
      "Not updating\n",
      "\n",
      "Sum is:  11\n",
      "Max is:  16\n",
      "Not updating\n",
      "\n",
      "Sum is:  8\n",
      "Max is:  16\n",
      "Not updating\n",
      "\n",
      "Sum is:  19\n",
      "Max is:  16\n",
      "Updating the maximum sum\n",
      "\n",
      "Sum is:  12\n",
      "Max is:  19\n",
      "Not updating\n",
      "\n",
      "Sum is:  14\n",
      "Max is:  19\n",
      "Not updating\n",
      "\n",
      "Sum is:  10\n",
      "Max is:  19\n",
      "Not updating\n",
      "\n",
      "Sum is:  7\n",
      "Max is:  19\n",
      "Not updating\n",
      "\n",
      "Sum is:  18\n",
      "Max is:  19\n",
      "Not updating\n",
      "\n",
      "Sum is:  11\n",
      "Max is:  19\n",
      "Not updating\n",
      "\n",
      "Sum is:  13\n",
      "Max is:  19\n",
      "Not updating\n",
      "\n"
     ]
    }
   ],
   "source": [
    "max_sum = l1[0] + l2[0]\n",
    "\n",
    "for num1 in l1:\n",
    "    for num2 in l2:\n",
    "        \n",
    "        somma = num1 + num2\n",
    "        \n",
    "        print('Sum is: ', somma)\n",
    "        print('Max is: ', max_sum)\n",
    "        \n",
    "        if somma > max_sum:\n",
    "            print('Updating the maximum sum')\n",
    "            max_sum = somma\n",
    "            \n",
    "        else:\n",
    "            print('Not updating')\n",
    "            \n",
    "            \n",
    "        print()"
   ]
  },
  {
   "cell_type": "code",
   "execution_count": 306,
   "metadata": {},
   "outputs": [
    {
     "data": {
      "text/plain": [
       "19"
      ]
     },
     "execution_count": 306,
     "metadata": {},
     "output_type": "execute_result"
    }
   ],
   "source": [
    "max_sum"
   ]
  },
  {
   "cell_type": "code",
   "execution_count": 307,
   "metadata": {},
   "outputs": [],
   "source": [
    "# Print the following pattern:\n",
    "\n",
    "# 1 \n",
    "# 1 2 \n",
    "# 1 2 3 \n",
    "# 1 2 3 4 \n",
    "# 1 2 3 4 5"
   ]
  },
  {
   "cell_type": "code",
   "execution_count": 308,
   "metadata": {},
   "outputs": [
    {
     "name": "stdout",
     "output_type": "stream",
     "text": [
      "\n",
      "1 \n",
      "1 2 \n",
      "1 2 3 \n",
      "1 2 3 4 \n",
      "1 2 3 4 5 \n"
     ]
    }
   ],
   "source": [
    "for i in range(6):\n",
    "    \n",
    "    l = list(range(1, i+1))\n",
    "    \n",
    "    for elem in l:\n",
    "        print(elem, end =' ')\n",
    "        \n",
    "    print()"
   ]
  },
  {
   "cell_type": "code",
   "execution_count": 309,
   "metadata": {},
   "outputs": [],
   "source": [
    "## Print the following pattern\n",
    "# 5 4 3 2 1 \n",
    "# 4 3 2 1 \n",
    "# 3 2 1 \n",
    "# 2 1 \n",
    "# 1"
   ]
  },
  {
   "cell_type": "code",
   "execution_count": 310,
   "metadata": {},
   "outputs": [
    {
     "name": "stdout",
     "output_type": "stream",
     "text": [
      "5 4 3 2 1 \n",
      "4 3 2 1 \n",
      "3 2 1 \n",
      "2 1 \n",
      "1 \n"
     ]
    }
   ],
   "source": [
    "for i in range(5, 0, -1 ):\n",
    "    \n",
    "    l = list(range(1, i+1))\n",
    "    \n",
    "    for elem in l[::-1]:\n",
    "        print(elem, end =' ')\n",
    "        \n",
    "    print()"
   ]
  },
  {
   "cell_type": "markdown",
   "metadata": {},
   "source": [
    "#### PART 2 Exercises recap"
   ]
  },
  {
   "cell_type": "code",
   "execution_count": 311,
   "metadata": {},
   "outputs": [],
   "source": [
    "# Find the sum of the series up to n\n",
    "# Write a program to calculate the sum of series up to n term. \n",
    "#For example, if n = 4 the function will return 10 (1+2+3+4 = 10)."
   ]
  },
  {
   "cell_type": "code",
   "execution_count": 312,
   "metadata": {},
   "outputs": [],
   "source": [
    "def sum_all(n):\n",
    "    \n",
    "    somma = 0\n",
    "    for i in range(n+1):\n",
    "        somma += i\n",
    "        \n",
    "    return somma"
   ]
  },
  {
   "cell_type": "code",
   "execution_count": 313,
   "metadata": {},
   "outputs": [
    {
     "data": {
      "text/plain": [
       "10"
      ]
     },
     "execution_count": 313,
     "metadata": {},
     "output_type": "execute_result"
    }
   ],
   "source": [
    "sum_all(4)"
   ]
  },
  {
   "cell_type": "code",
   "execution_count": 314,
   "metadata": {},
   "outputs": [],
   "source": [
    "### BONUS - achieve the same using a recursive function"
   ]
  },
  {
   "cell_type": "code",
   "execution_count": 315,
   "metadata": {},
   "outputs": [],
   "source": [
    "def sum_all_recursive(n):\n",
    "    \n",
    "    if n <=1 :\n",
    "        return n\n",
    "    \n",
    "    else:\n",
    "        \n",
    "        return n+ sum_all_recursive(n-1)\n",
    "    "
   ]
  },
  {
   "cell_type": "code",
   "execution_count": 316,
   "metadata": {},
   "outputs": [
    {
     "data": {
      "text/plain": [
       "10"
      ]
     },
     "execution_count": 316,
     "metadata": {},
     "output_type": "execute_result"
    }
   ],
   "source": [
    "sum_all_recursive(4)"
   ]
  },
  {
   "cell_type": "code",
   "execution_count": 317,
   "metadata": {
    "code_folding": []
   },
   "outputs": [],
   "source": [
    "# Write a program which takes which generalizes the example below given any n < 10 (if n>= 10, return None)\n",
    "# Example, if n = 2 and k=5, the function will return 2 + 22 + 222 + 2222 + 22222 = 24690"
   ]
  },
  {
   "cell_type": "code",
   "execution_count": 318,
   "metadata": {},
   "outputs": [],
   "source": [
    "def sum_all_components(n, k):\n",
    "    \n",
    "    if n>= 10:\n",
    "        print('Number must be strictly lower than 10')\n",
    "        return None\n",
    "    \n",
    "    else:\n",
    "    \n",
    "        somma = 0\n",
    "\n",
    "        for i in range(1, k+1):\n",
    "            new_n = int(str(n)*i)\n",
    "            print()\n",
    "            print(f'New number is {new_n}')\n",
    "            \n",
    "            somma+= new_n\n",
    "            print(f'Sum is: {somma}')\n",
    "            \n",
    "        return somma\n",
    "            \n",
    "            "
   ]
  },
  {
   "cell_type": "code",
   "execution_count": 319,
   "metadata": {},
   "outputs": [
    {
     "name": "stdout",
     "output_type": "stream",
     "text": [
      "\n",
      "New number is 2\n",
      "Sum is: 2\n",
      "\n",
      "New number is 22\n",
      "Sum is: 24\n",
      "\n",
      "New number is 222\n",
      "Sum is: 246\n",
      "\n",
      "New number is 2222\n",
      "Sum is: 2468\n",
      "\n",
      "New number is 22222\n",
      "Sum is: 24690\n"
     ]
    },
    {
     "data": {
      "text/plain": [
       "24690"
      ]
     },
     "execution_count": 319,
     "metadata": {},
     "output_type": "execute_result"
    }
   ],
   "source": [
    "sum_all_components(2, 5)"
   ]
  },
  {
   "cell_type": "code",
   "execution_count": 320,
   "metadata": {},
   "outputs": [],
   "source": [
    "## Write a program to display all prime numbers within a range"
   ]
  },
  {
   "cell_type": "code",
   "execution_count": 321,
   "metadata": {},
   "outputs": [
    {
     "name": "stdout",
     "output_type": "stream",
     "text": [
      "Prime numbers between 900 and 1000 are:\n"
     ]
    },
    {
     "data": {
      "text/plain": [
       "[907, 911, 919, 929, 937, 941, 947, 953, 967, 971, 977, 983, 991, 997]"
      ]
     },
     "execution_count": 321,
     "metadata": {},
     "output_type": "execute_result"
    }
   ],
   "source": [
    "# Python program to display all the prime numbers within an interval\n",
    "\n",
    "lower = 900\n",
    "upper = 1000\n",
    "\n",
    "prime_numbers = []\n",
    "\n",
    "print(\"Prime numbers between\", lower, \"and\", upper, \"are:\")\n",
    "\n",
    "for num in range(lower, upper + 1):\n",
    "   # all prime numbers are greater than 1\n",
    "    if num > 1:\n",
    "        is_prime = True\n",
    "        \n",
    "        for i in range(2, num):\n",
    "            if (num % i) == 0:\n",
    "                is_prime = False\n",
    "                break\n",
    "                \n",
    "        if is_prime:\n",
    "            prime_numbers.append(num)\n",
    "\n",
    "prime_numbers"
   ]
  },
  {
   "cell_type": "code",
   "execution_count": 322,
   "metadata": {},
   "outputs": [],
   "source": [
    "def get_prime_numbers(lower_bound, upper_bound):\n",
    "    \n",
    "    prime_numbers = []\n",
    "\n",
    "    print(\"Prime numbers between\", lower_bound, \"and\", upper_bound, \"are:\")\n",
    "\n",
    "    for num in range(lower_bound, upper_bound + 1):\n",
    "       # all prime numbers are greater than 1\n",
    "        if num > 1:\n",
    "            is_prime = True\n",
    "\n",
    "            for i in range(2, num):\n",
    "                if (num % i) == 0:\n",
    "                    is_prime = False\n",
    "                    break\n",
    "\n",
    "            if is_prime:\n",
    "                prime_numbers.append(num)\n",
    "\n",
    "    return prime_numbers"
   ]
  },
  {
   "cell_type": "code",
   "execution_count": 323,
   "metadata": {},
   "outputs": [
    {
     "name": "stdout",
     "output_type": "stream",
     "text": [
      "Prime numbers between 900 and 1000 are:\n"
     ]
    },
    {
     "data": {
      "text/plain": [
       "[907, 911, 919, 929, 937, 941, 947, 953, 967, 971, 977, 983, 991, 997]"
      ]
     },
     "execution_count": 323,
     "metadata": {},
     "output_type": "execute_result"
    }
   ],
   "source": [
    "get_prime_numbers(900,1000)"
   ]
  },
  {
   "cell_type": "code",
   "execution_count": null,
   "metadata": {},
   "outputs": [],
   "source": []
  },
  {
   "cell_type": "code",
   "execution_count": 324,
   "metadata": {},
   "outputs": [],
   "source": [
    "### Crea Funzione che legge una lista di numeri e crea un dizionario dove ogni numero diventa chiave \n",
    "## (in formato stringa), e lo stesso numero alla seconda il valore "
   ]
  },
  {
   "cell_type": "code",
   "execution_count": 325,
   "metadata": {},
   "outputs": [
    {
     "data": {
      "text/plain": [
       "array([5, 0, 3, 3, 7, 3, 5, 2, 4, 7])"
      ]
     },
     "execution_count": 325,
     "metadata": {},
     "output_type": "execute_result"
    }
   ],
   "source": [
    "np.random.seed(0)\n",
    "\n",
    "l= np.random.randint(0, 9, size= 10 )\n",
    "l"
   ]
  },
  {
   "cell_type": "code",
   "execution_count": 326,
   "metadata": {},
   "outputs": [
    {
     "data": {
      "text/plain": [
       "{'5': 25, '0': 0, '3': 9, '7': 49, '2': 4, '4': 16}"
      ]
     },
     "execution_count": 326,
     "metadata": {},
     "output_type": "execute_result"
    }
   ],
   "source": [
    "new_diz = {}\n",
    "\n",
    "for elem in l:\n",
    "    new_diz[str(elem)] = elem **2\n",
    "    \n",
    "new_diz"
   ]
  },
  {
   "cell_type": "code",
   "execution_count": 327,
   "metadata": {},
   "outputs": [],
   "source": [
    "def parse_list(l):\n",
    "    \n",
    "    new_diz = {}\n",
    "\n",
    "    for elem in l:\n",
    "        new_diz[str(elem)] = elem **2\n",
    "\n",
    "    return new_diz"
   ]
  },
  {
   "cell_type": "code",
   "execution_count": 328,
   "metadata": {},
   "outputs": [
    {
     "data": {
      "text/plain": [
       "{'5': 25, '0': 0, '3': 9, '7': 49, '2': 4, '4': 16}"
      ]
     },
     "execution_count": 328,
     "metadata": {},
     "output_type": "execute_result"
    }
   ],
   "source": [
    "parse_list(l)"
   ]
  },
  {
   "cell_type": "code",
   "execution_count": 329,
   "metadata": {},
   "outputs": [],
   "source": [
    "### Crea funzione: Same, but the key is the next number in the list (if there is no, it is the same number)"
   ]
  },
  {
   "cell_type": "code",
   "execution_count": 330,
   "metadata": {},
   "outputs": [
    {
     "data": {
      "text/plain": [
       "array([5, 0, 3, 3, 7, 3, 5, 2, 4, 7])"
      ]
     },
     "execution_count": 330,
     "metadata": {},
     "output_type": "execute_result"
    }
   ],
   "source": [
    "l"
   ]
  },
  {
   "cell_type": "code",
   "execution_count": 331,
   "metadata": {},
   "outputs": [
    {
     "name": "stdout",
     "output_type": "stream",
     "text": [
      "[5 0 3 3 7 3 5 2 4 7]\n"
     ]
    },
    {
     "data": {
      "text/plain": [
       "{'0': 25, '3': 49, '7': 49, '5': 9, '2': 25, '4': 4}"
      ]
     },
     "execution_count": 331,
     "metadata": {},
     "output_type": "execute_result"
    }
   ],
   "source": [
    "new_diz = {}\n",
    "\n",
    "\n",
    "for i in range(0,len(l)):\n",
    "    \n",
    "    if i<= len(l) - 1 -1:\n",
    "        new_diz[str(l[i+1])] = l[i] **2\n",
    "        \n",
    "    else:\n",
    "        new_diz[str(l[i])] = l[i] **2\n",
    "        \n",
    "\n",
    "print(l)\n",
    "new_diz"
   ]
  },
  {
   "cell_type": "code",
   "execution_count": 332,
   "metadata": {},
   "outputs": [],
   "source": [
    "def parse_list_2(l):\n",
    "    \n",
    "    new_diz = {}\n",
    "\n",
    "\n",
    "    for i in range(0,len(l)):\n",
    "\n",
    "        if i<= len(l) - 1 -1:\n",
    "            new_diz[str(l[i+1])] = l[i] **2\n",
    "\n",
    "        else:\n",
    "            new_diz[str(l[i])] = l[i] **2\n",
    "\n",
    "\n",
    "    return new_diz"
   ]
  },
  {
   "cell_type": "code",
   "execution_count": 333,
   "metadata": {},
   "outputs": [
    {
     "data": {
      "text/plain": [
       "array([5, 0, 3, 3, 7, 3, 5, 2, 4, 7])"
      ]
     },
     "execution_count": 333,
     "metadata": {},
     "output_type": "execute_result"
    }
   ],
   "source": [
    "l"
   ]
  },
  {
   "cell_type": "code",
   "execution_count": 334,
   "metadata": {},
   "outputs": [
    {
     "data": {
      "text/plain": [
       "{'0': 25, '3': 49, '7': 49, '5': 9, '2': 25, '4': 4}"
      ]
     },
     "execution_count": 334,
     "metadata": {},
     "output_type": "execute_result"
    }
   ],
   "source": [
    "parse_list_2(l)"
   ]
  },
  {
   "cell_type": "code",
   "execution_count": 335,
   "metadata": {},
   "outputs": [],
   "source": [
    "#Funzione che legge una stringa s e stampa tutti  i caratteri che appaiono dopo una 'a' dopo aver verificato\n",
    "# che l'indice dell'elemento che sta 3 indici dopo a è dispari. Gestisci gli errori. "
   ]
  },
  {
   "cell_type": "code",
   "execution_count": 336,
   "metadata": {},
   "outputs": [
    {
     "name": "stdout",
     "output_type": "stream",
     "text": [
      "Index of \"a\" is 18\n",
      "\n",
      "Remaining part of the string is:\n",
      " doing well\n"
     ]
    }
   ],
   "source": [
    "s = 'Hello, I hope you are doing well'\n",
    "\n",
    "for i in range(len(s)):\n",
    "    if s[i]== 'a' and (i+3)%2 != 0:\n",
    "        print(f'Index of \"a\" is {i}')\n",
    "        print()\n",
    "        print('Remaining part of the string is:')\n",
    "        print(s[i+3:])"
   ]
  },
  {
   "cell_type": "code",
   "execution_count": 337,
   "metadata": {},
   "outputs": [],
   "source": [
    "def cut_string(s):\n",
    "    assert(type(s)== str ), 's must be a string!'\n",
    "    \n",
    "    for i in range(len(s)):\n",
    "        if s[i]== 'a' and (i+3)%2 != 0:\n",
    "            print(f'Index of \"a\" is {i}')\n",
    "            print()\n",
    "            print('Remaining part of the string is:')\n",
    "            print(s[i+3:])"
   ]
  },
  {
   "cell_type": "code",
   "execution_count": 338,
   "metadata": {},
   "outputs": [
    {
     "name": "stdout",
     "output_type": "stream",
     "text": [
      "Index of \"a\" is 18\n",
      "\n",
      "Remaining part of the string is:\n",
      " doing well\n"
     ]
    }
   ],
   "source": [
    "cut_string(s)"
   ]
  },
  {
   "cell_type": "code",
   "execution_count": 339,
   "metadata": {},
   "outputs": [
    {
     "ename": "AssertionError",
     "evalue": "s must be a string!",
     "output_type": "error",
     "traceback": [
      "\u001b[0;31m---------------------------------------------------------------------------\u001b[0m",
      "\u001b[0;31mAssertionError\u001b[0m                            Traceback (most recent call last)",
      "Input \u001b[0;32mIn [339]\u001b[0m, in \u001b[0;36m<module>\u001b[0;34m\u001b[0m\n\u001b[0;32m----> 1\u001b[0m \u001b[43mcut_string\u001b[49m\u001b[43m(\u001b[49m\u001b[43m[\u001b[49m\u001b[38;5;241;43m1\u001b[39;49m\u001b[43m,\u001b[49m\u001b[38;5;241;43m23\u001b[39;49m\u001b[43m]\u001b[49m\u001b[43m)\u001b[49m\n",
      "Input \u001b[0;32mIn [337]\u001b[0m, in \u001b[0;36mcut_string\u001b[0;34m(s)\u001b[0m\n\u001b[1;32m      1\u001b[0m \u001b[38;5;28;01mdef\u001b[39;00m \u001b[38;5;21mcut_string\u001b[39m(s):\n\u001b[0;32m----> 2\u001b[0m     \u001b[38;5;28;01massert\u001b[39;00m(\u001b[38;5;28mtype\u001b[39m(s)\u001b[38;5;241m==\u001b[39m \u001b[38;5;28mstr\u001b[39m ), \u001b[38;5;124m'\u001b[39m\u001b[38;5;124ms must be a string!\u001b[39m\u001b[38;5;124m'\u001b[39m\n\u001b[1;32m      4\u001b[0m     \u001b[38;5;28;01mfor\u001b[39;00m i \u001b[38;5;129;01min\u001b[39;00m \u001b[38;5;28mrange\u001b[39m(\u001b[38;5;28mlen\u001b[39m(s)):\n\u001b[1;32m      5\u001b[0m         \u001b[38;5;28;01mif\u001b[39;00m s[i]\u001b[38;5;241m==\u001b[39m \u001b[38;5;124m'\u001b[39m\u001b[38;5;124ma\u001b[39m\u001b[38;5;124m'\u001b[39m \u001b[38;5;129;01mand\u001b[39;00m (i\u001b[38;5;241m+\u001b[39m\u001b[38;5;241m3\u001b[39m)\u001b[38;5;241m%\u001b[39m\u001b[38;5;241m2\u001b[39m \u001b[38;5;241m!=\u001b[39m \u001b[38;5;241m0\u001b[39m:\n",
      "\u001b[0;31mAssertionError\u001b[0m: s must be a string!"
     ]
    }
   ],
   "source": [
    "cut_string([1,23])"
   ]
  },
  {
   "cell_type": "markdown",
   "metadata": {},
   "source": [
    "# <font color='green'> Intro to Object Oriented Programming\n",
    "    \n",
    "    \n",
    "Useful resources:\n",
    "    \n",
    "- https://www.w3schools.com/cpp/cpp_oop.asp\n",
    "    \n",
    "\n",
    "- https://circleci.com/blog/functional-vs-object-oriented-programming/?utm_source=google&utm_medium=sem&utm_campaign=sem-google-dg--emea-en-dsa-maxConv-auth-nb&utm_term=g_-_c__dsa_&utm_content=&gclid=CjwKCAiAleOeBhBdEiwAfgmXf0g396g9E0-3DBBP1f27hwJ90eEe_Sn-pTjzVX_u5iB5-lgANZlCRBoC86gQAvD_BwE \n",
    "    \n",
    "    \n",
    "- https://refactoring.guru/design-patterns/bridge\n",
    "    \n"
   ]
  },
  {
   "cell_type": "markdown",
   "metadata": {},
   "source": [
    "#### Examples of classes - already used so far"
   ]
  },
  {
   "cell_type": "code",
   "execution_count": 340,
   "metadata": {},
   "outputs": [],
   "source": [
    "## two instances of class List\n",
    "l1 = [1,2,3]\n",
    "l2 = ['a', 'b', 'c']"
   ]
  },
  {
   "cell_type": "code",
   "execution_count": 341,
   "metadata": {},
   "outputs": [
    {
     "data": {
      "text/plain": [
       "{'federico': 3, 'johnny': 5, 'jessica': 7, 'laura': 2}"
      ]
     },
     "execution_count": 341,
     "metadata": {},
     "output_type": "execute_result"
    }
   ],
   "source": [
    "diz = {'federico': 3, 'johnny': 5, 'jessica': 7, 'laura': 2}\n",
    "\n",
    "# To pick Johnny, cannot do diz[1], like in the lists, but:\n",
    "\n",
    "diz"
   ]
  },
  {
   "cell_type": "markdown",
   "metadata": {},
   "source": [
    "##### Methods"
   ]
  },
  {
   "cell_type": "code",
   "execution_count": 342,
   "metadata": {},
   "outputs": [
    {
     "data": {
      "text/plain": [
       "['a', 'b', 'c', 'd']"
      ]
     },
     "execution_count": 342,
     "metadata": {},
     "output_type": "execute_result"
    }
   ],
   "source": [
    "s = 'a b c d'\n",
    "s.split()"
   ]
  },
  {
   "cell_type": "code",
   "execution_count": 343,
   "metadata": {},
   "outputs": [],
   "source": [
    "#### very typical class is pandas.DataFrame"
   ]
  },
  {
   "cell_type": "code",
   "execution_count": 344,
   "metadata": {},
   "outputs": [
    {
     "data": {
      "text/html": [
       "<div>\n",
       "<style scoped>\n",
       "    .dataframe tbody tr th:only-of-type {\n",
       "        vertical-align: middle;\n",
       "    }\n",
       "\n",
       "    .dataframe tbody tr th {\n",
       "        vertical-align: top;\n",
       "    }\n",
       "\n",
       "    .dataframe thead th {\n",
       "        text-align: right;\n",
       "    }\n",
       "</style>\n",
       "<table border=\"1\" class=\"dataframe\">\n",
       "  <thead>\n",
       "    <tr style=\"text-align: right;\">\n",
       "      <th></th>\n",
       "      <th>0</th>\n",
       "    </tr>\n",
       "  </thead>\n",
       "  <tbody>\n",
       "    <tr>\n",
       "      <th>federico</th>\n",
       "      <td>3</td>\n",
       "    </tr>\n",
       "    <tr>\n",
       "      <th>johnny</th>\n",
       "      <td>5</td>\n",
       "    </tr>\n",
       "    <tr>\n",
       "      <th>jessica</th>\n",
       "      <td>7</td>\n",
       "    </tr>\n",
       "    <tr>\n",
       "      <th>laura</th>\n",
       "      <td>2</td>\n",
       "    </tr>\n",
       "  </tbody>\n",
       "</table>\n",
       "</div>"
      ],
      "text/plain": [
       "          0\n",
       "federico  3\n",
       "johnny    5\n",
       "jessica   7\n",
       "laura     2"
      ]
     },
     "execution_count": 344,
     "metadata": {},
     "output_type": "execute_result"
    }
   ],
   "source": [
    "table= pd.DataFrame(pd.Series(diz))\n",
    "\n",
    "table"
   ]
  },
  {
   "cell_type": "code",
   "execution_count": 345,
   "metadata": {},
   "outputs": [
    {
     "data": {
      "text/html": [
       "<div>\n",
       "<style scoped>\n",
       "    .dataframe tbody tr th:only-of-type {\n",
       "        vertical-align: middle;\n",
       "    }\n",
       "\n",
       "    .dataframe tbody tr th {\n",
       "        vertical-align: top;\n",
       "    }\n",
       "\n",
       "    .dataframe thead th {\n",
       "        text-align: right;\n",
       "    }\n",
       "</style>\n",
       "<table border=\"1\" class=\"dataframe\">\n",
       "  <thead>\n",
       "    <tr style=\"text-align: right;\">\n",
       "      <th></th>\n",
       "      <th>0</th>\n",
       "    </tr>\n",
       "  </thead>\n",
       "  <tbody>\n",
       "    <tr>\n",
       "      <th>kevin</th>\n",
       "      <td>12</td>\n",
       "    </tr>\n",
       "  </tbody>\n",
       "</table>\n",
       "</div>"
      ],
      "text/plain": [
       "        0\n",
       "kevin  12"
      ]
     },
     "execution_count": 345,
     "metadata": {},
     "output_type": "execute_result"
    }
   ],
   "source": [
    "table2= pd.DataFrame(pd.Series({'kevin': 12}))\n",
    "table2"
   ]
  },
  {
   "cell_type": "code",
   "execution_count": 346,
   "metadata": {},
   "outputs": [
    {
     "data": {
      "text/html": [
       "<div>\n",
       "<style scoped>\n",
       "    .dataframe tbody tr th:only-of-type {\n",
       "        vertical-align: middle;\n",
       "    }\n",
       "\n",
       "    .dataframe tbody tr th {\n",
       "        vertical-align: top;\n",
       "    }\n",
       "\n",
       "    .dataframe thead th {\n",
       "        text-align: right;\n",
       "    }\n",
       "</style>\n",
       "<table border=\"1\" class=\"dataframe\">\n",
       "  <thead>\n",
       "    <tr style=\"text-align: right;\">\n",
       "      <th></th>\n",
       "      <th>0</th>\n",
       "    </tr>\n",
       "  </thead>\n",
       "  <tbody>\n",
       "    <tr>\n",
       "      <th>federico</th>\n",
       "      <td>3</td>\n",
       "    </tr>\n",
       "    <tr>\n",
       "      <th>johnny</th>\n",
       "      <td>5</td>\n",
       "    </tr>\n",
       "    <tr>\n",
       "      <th>jessica</th>\n",
       "      <td>7</td>\n",
       "    </tr>\n",
       "    <tr>\n",
       "      <th>laura</th>\n",
       "      <td>2</td>\n",
       "    </tr>\n",
       "    <tr>\n",
       "      <th>kevin</th>\n",
       "      <td>12</td>\n",
       "    </tr>\n",
       "  </tbody>\n",
       "</table>\n",
       "</div>"
      ],
      "text/plain": [
       "           0\n",
       "federico   3\n",
       "johnny     5\n",
       "jessica    7\n",
       "laura      2\n",
       "kevin     12"
      ]
     },
     "execution_count": 346,
     "metadata": {},
     "output_type": "execute_result"
    }
   ],
   "source": [
    "table.append(table2)"
   ]
  },
  {
   "cell_type": "markdown",
   "metadata": {},
   "source": [
    "#### Defining Class - Syntax\n",
    "- Attributes and Class Keyword"
   ]
  },
  {
   "cell_type": "code",
   "execution_count": 347,
   "metadata": {},
   "outputs": [],
   "source": [
    "class Person:\n",
    "    def __init__(self, name, gender, profession):\n",
    "        # (instance variables)\n",
    "        self.name = name\n",
    "        self.gender = gender\n",
    "        self.profession = profession"
   ]
  },
  {
   "cell_type": "code",
   "execution_count": 348,
   "metadata": {},
   "outputs": [
    {
     "name": "stdout",
     "output_type": "stream",
     "text": [
      "Federico Male Data Scientist\n"
     ]
    }
   ],
   "source": [
    "person= Person('Federico', 'Male', 'Data Scientist')\n",
    "\n",
    "print(person.name, person.gender, person.profession)"
   ]
  },
  {
   "cell_type": "code",
   "execution_count": 349,
   "metadata": {},
   "outputs": [
    {
     "data": {
      "text/plain": [
       "'Federico'"
      ]
     },
     "execution_count": 349,
     "metadata": {},
     "output_type": "execute_result"
    }
   ],
   "source": [
    "person.name"
   ]
  },
  {
   "cell_type": "code",
   "execution_count": 350,
   "metadata": {},
   "outputs": [
    {
     "name": "stdout",
     "output_type": "stream",
     "text": [
      "Kevin Male Engineer\n"
     ]
    }
   ],
   "source": [
    "person2 = Person('Kevin', 'Male', 'Engineer')\n",
    "print(person2.name, person2.gender, person2.profession)"
   ]
  },
  {
   "cell_type": "markdown",
   "metadata": {},
   "source": [
    "### Class Object: Attributes and Methods"
   ]
  },
  {
   "cell_type": "code",
   "execution_count": 351,
   "metadata": {},
   "outputs": [],
   "source": [
    "class Person:\n",
    "    \"\"\" definition of class and its methods + attributes  \"\"\"\n",
    "    \n",
    "    def __init__(self, name, gender, profession):\n",
    "        self.name = name\n",
    "        self.gender = gender\n",
    "        self.profession = profession\n",
    "        \n",
    "    def show(self):\n",
    "        #### ....... ####\n",
    "        print('Name:', self.name, 'Gender:', self.gender, 'Profession:', self.profession)\n",
    "\n",
    "    def work(self):\n",
    "        print(self.name, 'works as a', self.profession)"
   ]
  },
  {
   "cell_type": "code",
   "execution_count": 352,
   "metadata": {},
   "outputs": [
    {
     "name": "stdout",
     "output_type": "stream",
     "text": [
      "Name: Federico Gender: Male Profession: Data Scientist\n",
      "Federico works as a Data Scientist\n",
      "\n",
      "Name: Laura Gender: Female Profession: Software Engineer\n",
      "Laura works as a Software Engineer\n"
     ]
    }
   ],
   "source": [
    "person1 = Person('Federico', 'Male', 'Data Scientist')\n",
    "\n",
    "# call methods\n",
    "person1.show()\n",
    "person1.work()\n",
    "print()\n",
    "\n",
    "person2 = Person('Laura', 'Female', 'Software Engineer')\n",
    "\n",
    "# call methods\n",
    "person2.show()\n",
    "person2.work()"
   ]
  },
  {
   "cell_type": "markdown",
   "metadata": {},
   "source": [
    "#### Exercise"
   ]
  },
  {
   "cell_type": "code",
   "execution_count": 353,
   "metadata": {},
   "outputs": [],
   "source": [
    "## Given this employee class, # Add the following two methods\n",
    "\n",
    "class Employee:\n",
    "    \n",
    "    def __init__(self, salary = 1000):\n",
    "        self.salary = salary\n",
    "    \n",
    "    def set_name(self, new_name):\n",
    "        self.name = new_name\n",
    "\n",
    "    def set_salary(self, new_salary):\n",
    "        self.salary = new_salary \n",
    "        \n",
    "\n",
    "    # Add a give_raise() method with raise amount as a parameter\n",
    "    def give_raise(self, raise_amount):\n",
    "        self.salary += raise_amount\n",
    "        \n",
    "        \n",
    "    # Add monthly_salary method that returns 1/12th of salary attribute\n",
    "    def monthly_salary(self):\n",
    "        return self.salary/12\n",
    "    "
   ]
  },
  {
   "cell_type": "code",
   "execution_count": 354,
   "metadata": {},
   "outputs": [
    {
     "data": {
      "text/plain": [
       "1000"
      ]
     },
     "execution_count": 354,
     "metadata": {},
     "output_type": "execute_result"
    }
   ],
   "source": [
    "emp = Employee()\n",
    "emp.salary"
   ]
  },
  {
   "cell_type": "code",
   "execution_count": 355,
   "metadata": {},
   "outputs": [
    {
     "data": {
      "text/plain": [
       "True"
      ]
     },
     "execution_count": 355,
     "metadata": {},
     "output_type": "execute_result"
    }
   ],
   "source": [
    "isinstance(emp, Employee)"
   ]
  },
  {
   "cell_type": "code",
   "execution_count": 356,
   "metadata": {},
   "outputs": [],
   "source": [
    "emp.set_name('Federico')"
   ]
  },
  {
   "cell_type": "code",
   "execution_count": 357,
   "metadata": {},
   "outputs": [
    {
     "data": {
      "text/plain": [
       "'Federico'"
      ]
     },
     "execution_count": 357,
     "metadata": {},
     "output_type": "execute_result"
    }
   ],
   "source": [
    "emp.name"
   ]
  },
  {
   "cell_type": "code",
   "execution_count": 358,
   "metadata": {},
   "outputs": [],
   "source": [
    "emp.give_raise(200)"
   ]
  },
  {
   "cell_type": "code",
   "execution_count": 359,
   "metadata": {},
   "outputs": [
    {
     "data": {
      "text/plain": [
       "1200"
      ]
     },
     "execution_count": 359,
     "metadata": {},
     "output_type": "execute_result"
    }
   ],
   "source": [
    "emp.salary"
   ]
  },
  {
   "cell_type": "code",
   "execution_count": 360,
   "metadata": {},
   "outputs": [
    {
     "data": {
      "text/plain": [
       "100.0"
      ]
     },
     "execution_count": 360,
     "metadata": {},
     "output_type": "execute_result"
    }
   ],
   "source": [
    "emp.monthly_salary()"
   ]
  },
  {
   "cell_type": "code",
   "execution_count": 361,
   "metadata": {},
   "outputs": [
    {
     "data": {
      "text/plain": [
       "'Kevin'"
      ]
     },
     "execution_count": 361,
     "metadata": {},
     "output_type": "execute_result"
    }
   ],
   "source": [
    "emp2 = Employee()\n",
    "\n",
    "emp2.set_name('Kevin')\n",
    "emp2.name"
   ]
  },
  {
   "cell_type": "code",
   "execution_count": 362,
   "metadata": {},
   "outputs": [],
   "source": [
    "# Get monthly salary of emp and assign to mon_sal\n",
    "# mon_sal = emp.monthly_salary()\n",
    "\n",
    "# # Print mon_sal\n",
    "# print(mon_sal)"
   ]
  },
  {
   "cell_type": "markdown",
   "metadata": {},
   "source": [
    "### Inheritance"
   ]
  },
  {
   "cell_type": "code",
   "execution_count": 363,
   "metadata": {},
   "outputs": [],
   "source": [
    "class Employee(object):\n",
    "    \"\"\"Models real-life employees!\"\"\"\n",
    "    def __init__(self, employee_name, hours):\n",
    "        self.employee_name = employee_name\n",
    "        self.hours = hours\n",
    "\n",
    "    def calculate_wage(self, hours):\n",
    "        self.hours = hours\n",
    "        return hours * 20.00"
   ]
  },
  {
   "cell_type": "code",
   "execution_count": 364,
   "metadata": {},
   "outputs": [
    {
     "data": {
      "text/plain": [
       "18"
      ]
     },
     "execution_count": 364,
     "metadata": {},
     "output_type": "execute_result"
    }
   ],
   "source": [
    "emp = Employee('Fabrizio', 18)\n",
    "\n",
    "emp.hours"
   ]
  },
  {
   "cell_type": "code",
   "execution_count": 365,
   "metadata": {},
   "outputs": [
    {
     "data": {
      "text/plain": [
       "140.0"
      ]
     },
     "execution_count": 365,
     "metadata": {},
     "output_type": "execute_result"
    }
   ],
   "source": [
    "emp.calculate_wage(hours= 7)"
   ]
  },
  {
   "cell_type": "code",
   "execution_count": 366,
   "metadata": {},
   "outputs": [
    {
     "data": {
      "text/plain": [
       "7"
      ]
     },
     "execution_count": 366,
     "metadata": {},
     "output_type": "execute_result"
    }
   ],
   "source": [
    "emp.hours"
   ]
  },
  {
   "cell_type": "markdown",
   "metadata": {},
   "source": [
    "<b> Moving hours attribute into calculate_wage method: careful, it won't be initialized with the creation of an Instance anymore"
   ]
  },
  {
   "cell_type": "code",
   "execution_count": 367,
   "metadata": {},
   "outputs": [],
   "source": [
    "class Employee(object):\n",
    "    \"\"\"Models real-life employees!\"\"\"\n",
    "    def __init__(self, employee_name):\n",
    "        self.employee_name = employee_name\n",
    "\n",
    "    def calculate_wage(self, hours):\n",
    "        self.hours = hours\n",
    "        return hours * 20.00\n",
    "    \n",
    "    \n",
    "class PartTimeEmployee(Employee):\n",
    "    def calculate_wage(self,hours):\n",
    "        self.hours = hours\n",
    "        return hours * 12.00      #HO SOVRASCRITTO IL RETURN!\n",
    "\n",
    "    \"\"\" you can directly access the attributes or methods of a superclass with Python's built-in super call. \"\"\"\n",
    "    def full_time_wage(self, hours):\n",
    "        return super(PartTimeEmployee, self).calculate_wage(hours)    #mi ridà quella della superclass\n"
   ]
  },
  {
   "cell_type": "code",
   "execution_count": 368,
   "metadata": {},
   "outputs": [
    {
     "data": {
      "text/plain": [
       "'Fabrizio'"
      ]
     },
     "execution_count": 368,
     "metadata": {},
     "output_type": "execute_result"
    }
   ],
   "source": [
    "emp = Employee(employee_name= 'Fabrizio')\n",
    "\n",
    "emp.employee_name"
   ]
  },
  {
   "cell_type": "code",
   "execution_count": 369,
   "metadata": {},
   "outputs": [
    {
     "data": {
      "text/plain": [
       "100.0"
      ]
     },
     "execution_count": 369,
     "metadata": {},
     "output_type": "execute_result"
    }
   ],
   "source": [
    "emp.calculate_wage(hours= 5)"
   ]
  },
  {
   "cell_type": "code",
   "execution_count": 370,
   "metadata": {},
   "outputs": [
    {
     "data": {
      "text/plain": [
       "5"
      ]
     },
     "execution_count": 370,
     "metadata": {},
     "output_type": "execute_result"
    }
   ],
   "source": [
    "emp.hours"
   ]
  },
  {
   "cell_type": "code",
   "execution_count": 371,
   "metadata": {},
   "outputs": [
    {
     "name": "stdout",
     "output_type": "stream",
     "text": [
      "100.0\n"
     ]
    }
   ],
   "source": [
    "part_emp = PartTimeEmployee(employee_name= 'Giacomo')\n",
    "print (part_emp.full_time_wage(hours= 5))"
   ]
  },
  {
   "cell_type": "code",
   "execution_count": 372,
   "metadata": {},
   "outputs": [
    {
     "data": {
      "text/plain": [
       "60.0"
      ]
     },
     "execution_count": 372,
     "metadata": {},
     "output_type": "execute_result"
    }
   ],
   "source": [
    "part_emp.calculate_wage(hours= 5)"
   ]
  },
  {
   "cell_type": "markdown",
   "metadata": {},
   "source": [
    "### <font color='green'> Importing Custom Python modules\n",
    "- Creating and importing your own modules"
   ]
  },
  {
   "cell_type": "code",
   "execution_count": 373,
   "metadata": {},
   "outputs": [],
   "source": [
    "from my_functions import print_hello"
   ]
  },
  {
   "cell_type": "code",
   "execution_count": 374,
   "metadata": {},
   "outputs": [
    {
     "name": "stdout",
     "output_type": "stream",
     "text": [
      "Hello\n"
     ]
    }
   ],
   "source": [
    "print_hello()"
   ]
  },
  {
   "cell_type": "markdown",
   "metadata": {},
   "source": [
    "# <font color ='green' > Data Analysis with Python"
   ]
  },
  {
   "cell_type": "markdown",
   "metadata": {},
   "source": [
    "#### <font color='green'>  I/O with Basic Files in Python"
   ]
  },
  {
   "cell_type": "code",
   "execution_count": 375,
   "metadata": {},
   "outputs": [],
   "source": [
    "# Open voti.txt and find student with lowest grade (optional exercise: search on google for other syntax)"
   ]
  },
  {
   "cell_type": "code",
   "execution_count": 376,
   "metadata": {},
   "outputs": [
    {
     "name": "stdout",
     "output_type": "stream",
     "text": [
      "Michele;Fondamenti di Informatica;20\n",
      "Mario;Fondamenti di Informatica;10\n",
      "Paolo;Fisica I;18\n",
      "Anna;Fisica I;12\n",
      "Giulia;Fisica I;27\n",
      "Gianni;Fisica I;24\n",
      "Giorgio;Fisica II;18\n",
      "Paola;Fisica II;12\n",
      "Giorgio;Analisi I;24\n",
      "Paola;Analisi I;21\n",
      "Paola;Analisi II;11\n",
      "Giorgio;Analisi II;21\n",
      "Giulia;Analisi II;24\n",
      "Gianni;Analisi II;27\n",
      "\n"
     ]
    }
   ],
   "source": [
    "f = open(\"voti.txt\", mode= \"r\")\n",
    "\n",
    "file = f.read()\n",
    "print(file)"
   ]
  },
  {
   "cell_type": "code",
   "execution_count": 377,
   "metadata": {},
   "outputs": [
    {
     "data": {
      "text/plain": [
       "['Michele;Fondamenti di Informatica;20',\n",
       " 'Mario;Fondamenti di Informatica;10',\n",
       " 'Paolo;Fisica I;18',\n",
       " 'Anna;Fisica I;12',\n",
       " 'Giulia;Fisica I;27',\n",
       " 'Gianni;Fisica I;24',\n",
       " 'Giorgio;Fisica II;18',\n",
       " 'Paola;Fisica II;12',\n",
       " 'Giorgio;Analisi I;24',\n",
       " 'Paola;Analisi I;21',\n",
       " 'Paola;Analisi II;11',\n",
       " 'Giorgio;Analisi II;21',\n",
       " 'Giulia;Analisi II;24',\n",
       " 'Gianni;Analisi II;27']"
      ]
     },
     "execution_count": 377,
     "metadata": {},
     "output_type": "execute_result"
    }
   ],
   "source": [
    "list_file = file.split('\\n')[:-1]\n",
    "list_file"
   ]
  },
  {
   "cell_type": "code",
   "execution_count": 378,
   "metadata": {
    "code_folding": []
   },
   "outputs": [
    {
     "data": {
      "text/plain": [
       "[['Michele', 'Fondamenti di Informatica', '20'],\n",
       " ['Mario', 'Fondamenti di Informatica', '10'],\n",
       " ['Paolo', 'Fisica I', '18'],\n",
       " ['Anna', 'Fisica I', '12'],\n",
       " ['Giulia', 'Fisica I', '27'],\n",
       " ['Gianni', 'Fisica I', '24'],\n",
       " ['Giorgio', 'Fisica II', '18'],\n",
       " ['Paola', 'Fisica II', '12'],\n",
       " ['Giorgio', 'Analisi I', '24'],\n",
       " ['Paola', 'Analisi I', '21'],\n",
       " ['Paola', 'Analisi II', '11'],\n",
       " ['Giorgio', 'Analisi II', '21'],\n",
       " ['Giulia', 'Analisi II', '24'],\n",
       " ['Gianni', 'Analisi II', '27']]"
      ]
     },
     "execution_count": 378,
     "metadata": {},
     "output_type": "execute_result"
    }
   ],
   "source": [
    "clean_list = []\n",
    "\n",
    "for stringa in list_file:\n",
    "    clean_list.append(stringa.split(';'))\n",
    "    \n",
    "clean_list "
   ]
  },
  {
   "cell_type": "code",
   "execution_count": 379,
   "metadata": {},
   "outputs": [
    {
     "data": {
      "text/plain": [
       "14"
      ]
     },
     "execution_count": 379,
     "metadata": {},
     "output_type": "execute_result"
    }
   ],
   "source": [
    "len(clean_list)"
   ]
  },
  {
   "cell_type": "code",
   "execution_count": 380,
   "metadata": {},
   "outputs": [
    {
     "data": {
      "text/plain": [
       "['Michele', 'Fondamenti di Informatica', '20']"
      ]
     },
     "execution_count": 380,
     "metadata": {},
     "output_type": "execute_result"
    }
   ],
   "source": [
    "clean_list[0]"
   ]
  },
  {
   "cell_type": "code",
   "execution_count": 381,
   "metadata": {},
   "outputs": [
    {
     "data": {
      "text/plain": [
       "{'Michele': 20,\n",
       " 'Mario': 10,\n",
       " 'Paolo': 18,\n",
       " 'Anna': 12,\n",
       " 'Giulia': 24,\n",
       " 'Gianni': 27,\n",
       " 'Giorgio': 21,\n",
       " 'Paola': 11}"
      ]
     },
     "execution_count": 381,
     "metadata": {},
     "output_type": "execute_result"
    }
   ],
   "source": [
    "diz = {}\n",
    "\n",
    "for lista in clean_list:\n",
    "    name = lista[0]\n",
    "    score = int(lista[-1])\n",
    "    \n",
    "    diz[name] = score\n",
    "\n",
    "diz"
   ]
  },
  {
   "cell_type": "code",
   "execution_count": 382,
   "metadata": {},
   "outputs": [
    {
     "data": {
      "text/plain": [
       "10"
      ]
     },
     "execution_count": 382,
     "metadata": {},
     "output_type": "execute_result"
    }
   ],
   "source": [
    "min_score = min(diz.values())\n",
    "min_score"
   ]
  },
  {
   "cell_type": "code",
   "execution_count": 383,
   "metadata": {},
   "outputs": [
    {
     "name": "stdout",
     "output_type": "stream",
     "text": [
      "Mario has wost grade\n"
     ]
    }
   ],
   "source": [
    "min_score = min(diz.values())\n",
    "\n",
    "for name in diz:\n",
    "    if diz[name] == min_score:\n",
    "        print(f'{name} has wost grade')"
   ]
  },
  {
   "cell_type": "code",
   "execution_count": 384,
   "metadata": {},
   "outputs": [
    {
     "data": {
      "text/plain": [
       "Mario      10\n",
       "Paola      11\n",
       "Anna       12\n",
       "Paolo      18\n",
       "Michele    20\n",
       "Giorgio    21\n",
       "Giulia     24\n",
       "Gianni     27\n",
       "dtype: int64"
      ]
     },
     "execution_count": 384,
     "metadata": {},
     "output_type": "execute_result"
    }
   ],
   "source": [
    "pd.Series(diz).sort_values(ascending = True)"
   ]
  },
  {
   "cell_type": "code",
   "execution_count": 385,
   "metadata": {},
   "outputs": [
    {
     "data": {
      "text/plain": [
       "Mario    10\n",
       "dtype: int64"
      ]
     },
     "execution_count": 385,
     "metadata": {},
     "output_type": "execute_result"
    }
   ],
   "source": [
    "worst_student = pd.Series(diz).sort_values(ascending = True).head(1)\n",
    "worst_student"
   ]
  },
  {
   "cell_type": "code",
   "execution_count": 386,
   "metadata": {},
   "outputs": [],
   "source": [
    "### Open orders.csv (search on Google for syntax)"
   ]
  },
  {
   "cell_type": "code",
   "execution_count": 387,
   "metadata": {},
   "outputs": [
    {
     "data": {
      "text/html": [
       "<div>\n",
       "<style scoped>\n",
       "    .dataframe tbody tr th:only-of-type {\n",
       "        vertical-align: middle;\n",
       "    }\n",
       "\n",
       "    .dataframe tbody tr th {\n",
       "        vertical-align: top;\n",
       "    }\n",
       "\n",
       "    .dataframe thead th {\n",
       "        text-align: right;\n",
       "    }\n",
       "</style>\n",
       "<table border=\"1\" class=\"dataframe\">\n",
       "  <thead>\n",
       "    <tr style=\"text-align: right;\">\n",
       "      <th></th>\n",
       "      <th>order_acknowledged_at</th>\n",
       "      <th>order_ready_at</th>\n",
       "      <th>order_value_gbp</th>\n",
       "      <th>restaurant_id</th>\n",
       "      <th>number_of_items</th>\n",
       "      <th>prep_time_seconds</th>\n",
       "    </tr>\n",
       "  </thead>\n",
       "  <tbody>\n",
       "    <tr>\n",
       "      <th>0</th>\n",
       "      <td>2015-06-01 12:28:28.952789+01:00</td>\n",
       "      <td>2015-06-01 14:12:09.474896+01:00</td>\n",
       "      <td>59.90000</td>\n",
       "      <td>1326</td>\n",
       "      <td>2</td>\n",
       "      <td>6220</td>\n",
       "    </tr>\n",
       "    <tr>\n",
       "      <th>1</th>\n",
       "      <td>2015-06-06 17:06:24.434807+01:00</td>\n",
       "      <td>2015-06-06 17:16:27.520253+01:00</td>\n",
       "      <td>24.00000</td>\n",
       "      <td>1326</td>\n",
       "      <td>8</td>\n",
       "      <td>603</td>\n",
       "    </tr>\n",
       "    <tr>\n",
       "      <th>2</th>\n",
       "      <td>2015-06-08 14:56:15.503204+01:00</td>\n",
       "      <td>2015-06-08 15:03:39.397496+01:00</td>\n",
       "      <td>15.25000</td>\n",
       "      <td>1326</td>\n",
       "      <td>3</td>\n",
       "      <td>443</td>\n",
       "    </tr>\n",
       "    <tr>\n",
       "      <th>3</th>\n",
       "      <td>2015-06-12 15:12:20.497925+01:00</td>\n",
       "      <td>2015-06-12 15:23:30.064683+01:00</td>\n",
       "      <td>28.05000</td>\n",
       "      <td>1326</td>\n",
       "      <td>8</td>\n",
       "      <td>669</td>\n",
       "    </tr>\n",
       "    <tr>\n",
       "      <th>4</th>\n",
       "      <td>2015-06-01 13:07:10.794050+01:00</td>\n",
       "      <td>2015-06-01 14:02:25.104517+01:00</td>\n",
       "      <td>56.30000</td>\n",
       "      <td>255</td>\n",
       "      <td>7</td>\n",
       "      <td>3314</td>\n",
       "    </tr>\n",
       "    <tr>\n",
       "      <th>...</th>\n",
       "      <td>...</td>\n",
       "      <td>...</td>\n",
       "      <td>...</td>\n",
       "      <td>...</td>\n",
       "      <td>...</td>\n",
       "      <td>...</td>\n",
       "    </tr>\n",
       "    <tr>\n",
       "      <th>32389</th>\n",
       "      <td>2015-06-30 21:00:29.131078+01:00</td>\n",
       "      <td>2015-06-30 21:15:42.809359+01:00</td>\n",
       "      <td>35.15000</td>\n",
       "      <td>3185</td>\n",
       "      <td>4</td>\n",
       "      <td>913</td>\n",
       "    </tr>\n",
       "    <tr>\n",
       "      <th>32390</th>\n",
       "      <td>2015-06-30 22:30:51.123180+02:00</td>\n",
       "      <td>2015-06-30 22:34:12.850308+02:00</td>\n",
       "      <td>9.15771</td>\n",
       "      <td>3556</td>\n",
       "      <td>3</td>\n",
       "      <td>201</td>\n",
       "    </tr>\n",
       "    <tr>\n",
       "      <th>32391</th>\n",
       "      <td>2015-06-30 21:50:11.585362+01:00</td>\n",
       "      <td>2015-06-30 22:04:35.205075+01:00</td>\n",
       "      <td>18.20000</td>\n",
       "      <td>3517</td>\n",
       "      <td>3</td>\n",
       "      <td>863</td>\n",
       "    </tr>\n",
       "    <tr>\n",
       "      <th>32392</th>\n",
       "      <td>2015-06-30 22:17:55.778938+01:00</td>\n",
       "      <td>2015-06-30 22:40:15.487549+01:00</td>\n",
       "      <td>21.50000</td>\n",
       "      <td>1705</td>\n",
       "      <td>3</td>\n",
       "      <td>1339</td>\n",
       "    </tr>\n",
       "    <tr>\n",
       "      <th>32393</th>\n",
       "      <td>2015-06-30 22:55:39.128579+01:00</td>\n",
       "      <td>2015-06-30 23:18:44.692012+01:00</td>\n",
       "      <td>15.90000</td>\n",
       "      <td>2274</td>\n",
       "      <td>3</td>\n",
       "      <td>1385</td>\n",
       "    </tr>\n",
       "  </tbody>\n",
       "</table>\n",
       "<p>32394 rows × 6 columns</p>\n",
       "</div>"
      ],
      "text/plain": [
       "                  order_acknowledged_at                    order_ready_at  \\\n",
       "0      2015-06-01 12:28:28.952789+01:00  2015-06-01 14:12:09.474896+01:00   \n",
       "1      2015-06-06 17:06:24.434807+01:00  2015-06-06 17:16:27.520253+01:00   \n",
       "2      2015-06-08 14:56:15.503204+01:00  2015-06-08 15:03:39.397496+01:00   \n",
       "3      2015-06-12 15:12:20.497925+01:00  2015-06-12 15:23:30.064683+01:00   \n",
       "4      2015-06-01 13:07:10.794050+01:00  2015-06-01 14:02:25.104517+01:00   \n",
       "...                                 ...                               ...   \n",
       "32389  2015-06-30 21:00:29.131078+01:00  2015-06-30 21:15:42.809359+01:00   \n",
       "32390  2015-06-30 22:30:51.123180+02:00  2015-06-30 22:34:12.850308+02:00   \n",
       "32391  2015-06-30 21:50:11.585362+01:00  2015-06-30 22:04:35.205075+01:00   \n",
       "32392  2015-06-30 22:17:55.778938+01:00  2015-06-30 22:40:15.487549+01:00   \n",
       "32393  2015-06-30 22:55:39.128579+01:00  2015-06-30 23:18:44.692012+01:00   \n",
       "\n",
       "       order_value_gbp  restaurant_id  number_of_items  prep_time_seconds  \n",
       "0             59.90000           1326                2               6220  \n",
       "1             24.00000           1326                8                603  \n",
       "2             15.25000           1326                3                443  \n",
       "3             28.05000           1326                8                669  \n",
       "4             56.30000            255                7               3314  \n",
       "...                ...            ...              ...                ...  \n",
       "32389         35.15000           3185                4                913  \n",
       "32390          9.15771           3556                3                201  \n",
       "32391         18.20000           3517                3                863  \n",
       "32392         21.50000           1705                3               1339  \n",
       "32393         15.90000           2274                3               1385  \n",
       "\n",
       "[32394 rows x 6 columns]"
      ]
     },
     "execution_count": 387,
     "metadata": {},
     "output_type": "execute_result"
    }
   ],
   "source": [
    "orders = pd.read_csv('orders.csv', sep= ',' )\n",
    "orders"
   ]
  },
  {
   "cell_type": "code",
   "execution_count": 388,
   "metadata": {},
   "outputs": [
    {
     "data": {
      "text/html": [
       "<div>\n",
       "<style scoped>\n",
       "    .dataframe tbody tr th:only-of-type {\n",
       "        vertical-align: middle;\n",
       "    }\n",
       "\n",
       "    .dataframe tbody tr th {\n",
       "        vertical-align: top;\n",
       "    }\n",
       "\n",
       "    .dataframe thead th {\n",
       "        text-align: right;\n",
       "    }\n",
       "</style>\n",
       "<table border=\"1\" class=\"dataframe\">\n",
       "  <thead>\n",
       "    <tr style=\"text-align: right;\">\n",
       "      <th></th>\n",
       "      <th>order_acknowledged_at</th>\n",
       "      <th>order_ready_at</th>\n",
       "      <th>order_value_gbp</th>\n",
       "      <th>restaurant_id</th>\n",
       "      <th>number_of_items</th>\n",
       "      <th>prep_time_seconds</th>\n",
       "    </tr>\n",
       "  </thead>\n",
       "  <tbody>\n",
       "    <tr>\n",
       "      <th>0</th>\n",
       "      <td>2015-06-01 12:28:28.952789+01:00</td>\n",
       "      <td>2015-06-01 14:12:09.474896+01:00</td>\n",
       "      <td>59.90</td>\n",
       "      <td>1326</td>\n",
       "      <td>2</td>\n",
       "      <td>6220</td>\n",
       "    </tr>\n",
       "    <tr>\n",
       "      <th>1</th>\n",
       "      <td>2015-06-06 17:06:24.434807+01:00</td>\n",
       "      <td>2015-06-06 17:16:27.520253+01:00</td>\n",
       "      <td>24.00</td>\n",
       "      <td>1326</td>\n",
       "      <td>8</td>\n",
       "      <td>603</td>\n",
       "    </tr>\n",
       "    <tr>\n",
       "      <th>2</th>\n",
       "      <td>2015-06-08 14:56:15.503204+01:00</td>\n",
       "      <td>2015-06-08 15:03:39.397496+01:00</td>\n",
       "      <td>15.25</td>\n",
       "      <td>1326</td>\n",
       "      <td>3</td>\n",
       "      <td>443</td>\n",
       "    </tr>\n",
       "    <tr>\n",
       "      <th>3</th>\n",
       "      <td>2015-06-12 15:12:20.497925+01:00</td>\n",
       "      <td>2015-06-12 15:23:30.064683+01:00</td>\n",
       "      <td>28.05</td>\n",
       "      <td>1326</td>\n",
       "      <td>8</td>\n",
       "      <td>669</td>\n",
       "    </tr>\n",
       "    <tr>\n",
       "      <th>4</th>\n",
       "      <td>2015-06-01 13:07:10.794050+01:00</td>\n",
       "      <td>2015-06-01 14:02:25.104517+01:00</td>\n",
       "      <td>56.30</td>\n",
       "      <td>255</td>\n",
       "      <td>7</td>\n",
       "      <td>3314</td>\n",
       "    </tr>\n",
       "    <tr>\n",
       "      <th>5</th>\n",
       "      <td>2015-06-01 21:01:37.821061+01:00</td>\n",
       "      <td>2015-06-01 21:19:07.464277+01:00</td>\n",
       "      <td>18.20</td>\n",
       "      <td>255</td>\n",
       "      <td>3</td>\n",
       "      <td>1049</td>\n",
       "    </tr>\n",
       "    <tr>\n",
       "      <th>6</th>\n",
       "      <td>2015-06-01 21:04:36.202365+01:00</td>\n",
       "      <td>2015-06-01 21:29:04.983108+01:00</td>\n",
       "      <td>43.20</td>\n",
       "      <td>255</td>\n",
       "      <td>4</td>\n",
       "      <td>1468</td>\n",
       "    </tr>\n",
       "  </tbody>\n",
       "</table>\n",
       "</div>"
      ],
      "text/plain": [
       "              order_acknowledged_at                    order_ready_at  \\\n",
       "0  2015-06-01 12:28:28.952789+01:00  2015-06-01 14:12:09.474896+01:00   \n",
       "1  2015-06-06 17:06:24.434807+01:00  2015-06-06 17:16:27.520253+01:00   \n",
       "2  2015-06-08 14:56:15.503204+01:00  2015-06-08 15:03:39.397496+01:00   \n",
       "3  2015-06-12 15:12:20.497925+01:00  2015-06-12 15:23:30.064683+01:00   \n",
       "4  2015-06-01 13:07:10.794050+01:00  2015-06-01 14:02:25.104517+01:00   \n",
       "5  2015-06-01 21:01:37.821061+01:00  2015-06-01 21:19:07.464277+01:00   \n",
       "6  2015-06-01 21:04:36.202365+01:00  2015-06-01 21:29:04.983108+01:00   \n",
       "\n",
       "   order_value_gbp  restaurant_id  number_of_items  prep_time_seconds  \n",
       "0            59.90           1326                2               6220  \n",
       "1            24.00           1326                8                603  \n",
       "2            15.25           1326                3                443  \n",
       "3            28.05           1326                8                669  \n",
       "4            56.30            255                7               3314  \n",
       "5            18.20            255                3               1049  \n",
       "6            43.20            255                4               1468  "
      ]
     },
     "execution_count": 388,
     "metadata": {},
     "output_type": "execute_result"
    }
   ],
   "source": [
    "### Reading first 10 lines\n",
    "\n",
    "short_file= orders.head(n = 7)\n",
    "short_file"
   ]
  },
  {
   "cell_type": "code",
   "execution_count": 389,
   "metadata": {},
   "outputs": [],
   "source": [
    "### Exporting File\n",
    "\n",
    "short_file.to_excel('./short_file_export.xlsx')"
   ]
  },
  {
   "cell_type": "code",
   "execution_count": 390,
   "metadata": {},
   "outputs": [
    {
     "data": {
      "text/html": [
       "<div>\n",
       "<style scoped>\n",
       "    .dataframe tbody tr th:only-of-type {\n",
       "        vertical-align: middle;\n",
       "    }\n",
       "\n",
       "    .dataframe tbody tr th {\n",
       "        vertical-align: top;\n",
       "    }\n",
       "\n",
       "    .dataframe thead th {\n",
       "        text-align: right;\n",
       "    }\n",
       "</style>\n",
       "<table border=\"1\" class=\"dataframe\">\n",
       "  <thead>\n",
       "    <tr style=\"text-align: right;\">\n",
       "      <th></th>\n",
       "      <th>order_acknowledged_at</th>\n",
       "      <th>order_ready_at</th>\n",
       "      <th>order_value_gbp</th>\n",
       "      <th>restaurant_id</th>\n",
       "      <th>number_of_items</th>\n",
       "      <th>prep_time_seconds</th>\n",
       "    </tr>\n",
       "  </thead>\n",
       "  <tbody>\n",
       "    <tr>\n",
       "      <th>0</th>\n",
       "      <td>2015-06-01 12:28:28.952789+01:00</td>\n",
       "      <td>2015-06-01 14:12:09.474896+01:00</td>\n",
       "      <td>59.90</td>\n",
       "      <td>1326</td>\n",
       "      <td>2</td>\n",
       "      <td>6220</td>\n",
       "    </tr>\n",
       "    <tr>\n",
       "      <th>1</th>\n",
       "      <td>2015-06-06 17:06:24.434807+01:00</td>\n",
       "      <td>2015-06-06 17:16:27.520253+01:00</td>\n",
       "      <td>24.00</td>\n",
       "      <td>1326</td>\n",
       "      <td>8</td>\n",
       "      <td>603</td>\n",
       "    </tr>\n",
       "    <tr>\n",
       "      <th>2</th>\n",
       "      <td>2015-06-08 14:56:15.503204+01:00</td>\n",
       "      <td>2015-06-08 15:03:39.397496+01:00</td>\n",
       "      <td>15.25</td>\n",
       "      <td>1326</td>\n",
       "      <td>3</td>\n",
       "      <td>443</td>\n",
       "    </tr>\n",
       "    <tr>\n",
       "      <th>3</th>\n",
       "      <td>2015-06-12 15:12:20.497925+01:00</td>\n",
       "      <td>2015-06-12 15:23:30.064683+01:00</td>\n",
       "      <td>28.05</td>\n",
       "      <td>1326</td>\n",
       "      <td>8</td>\n",
       "      <td>669</td>\n",
       "    </tr>\n",
       "    <tr>\n",
       "      <th>4</th>\n",
       "      <td>2015-06-01 13:07:10.794050+01:00</td>\n",
       "      <td>2015-06-01 14:02:25.104517+01:00</td>\n",
       "      <td>56.30</td>\n",
       "      <td>255</td>\n",
       "      <td>7</td>\n",
       "      <td>3314</td>\n",
       "    </tr>\n",
       "    <tr>\n",
       "      <th>5</th>\n",
       "      <td>2015-06-01 21:01:37.821061+01:00</td>\n",
       "      <td>2015-06-01 21:19:07.464277+01:00</td>\n",
       "      <td>18.20</td>\n",
       "      <td>255</td>\n",
       "      <td>3</td>\n",
       "      <td>1049</td>\n",
       "    </tr>\n",
       "    <tr>\n",
       "      <th>6</th>\n",
       "      <td>2015-06-01 21:04:36.202365+01:00</td>\n",
       "      <td>2015-06-01 21:29:04.983108+01:00</td>\n",
       "      <td>43.20</td>\n",
       "      <td>255</td>\n",
       "      <td>4</td>\n",
       "      <td>1468</td>\n",
       "    </tr>\n",
       "  </tbody>\n",
       "</table>\n",
       "</div>"
      ],
      "text/plain": [
       "              order_acknowledged_at                    order_ready_at  \\\n",
       "0  2015-06-01 12:28:28.952789+01:00  2015-06-01 14:12:09.474896+01:00   \n",
       "1  2015-06-06 17:06:24.434807+01:00  2015-06-06 17:16:27.520253+01:00   \n",
       "2  2015-06-08 14:56:15.503204+01:00  2015-06-08 15:03:39.397496+01:00   \n",
       "3  2015-06-12 15:12:20.497925+01:00  2015-06-12 15:23:30.064683+01:00   \n",
       "4  2015-06-01 13:07:10.794050+01:00  2015-06-01 14:02:25.104517+01:00   \n",
       "5  2015-06-01 21:01:37.821061+01:00  2015-06-01 21:19:07.464277+01:00   \n",
       "6  2015-06-01 21:04:36.202365+01:00  2015-06-01 21:29:04.983108+01:00   \n",
       "\n",
       "   order_value_gbp  restaurant_id  number_of_items  prep_time_seconds  \n",
       "0            59.90           1326                2               6220  \n",
       "1            24.00           1326                8                603  \n",
       "2            15.25           1326                3                443  \n",
       "3            28.05           1326                8                669  \n",
       "4            56.30            255                7               3314  \n",
       "5            18.20            255                3               1049  \n",
       "6            43.20            255                4               1468  "
      ]
     },
     "execution_count": 390,
     "metadata": {},
     "output_type": "execute_result"
    }
   ],
   "source": [
    "### checking that file was created\n",
    "\n",
    "pd.read_excel('./short_file_export.xlsx', index_col=0)"
   ]
  },
  {
   "cell_type": "markdown",
   "metadata": {},
   "source": [
    "### Basic Data Manipulations"
   ]
  },
  {
   "cell_type": "code",
   "execution_count": 391,
   "metadata": {},
   "outputs": [
    {
     "data": {
      "text/plain": [
       "'/Users/fedfran/Desktop/DLI - Python Course/stage'"
      ]
     },
     "execution_count": 391,
     "metadata": {},
     "output_type": "execute_result"
    }
   ],
   "source": [
    "pwd    # It gives the current directory"
   ]
  },
  {
   "cell_type": "markdown",
   "metadata": {},
   "source": [
    "<b> Reading Censum Income Data\n",
    "\n",
    "- source here: http://archive.ics.uci.edu/ml/datasets/Census-Income+(KDD)"
   ]
  },
  {
   "cell_type": "code",
   "execution_count": 392,
   "metadata": {},
   "outputs": [
    {
     "data": {
      "text/plain": [
       "(199523, 42)"
      ]
     },
     "execution_count": 392,
     "metadata": {},
     "output_type": "execute_result"
    }
   ],
   "source": [
    "df= pd.read_csv('census-income.zip', header= None)\n",
    "df.shape"
   ]
  },
  {
   "cell_type": "code",
   "execution_count": 393,
   "metadata": {},
   "outputs": [
    {
     "data": {
      "text/html": [
       "<div>\n",
       "<style scoped>\n",
       "    .dataframe tbody tr th:only-of-type {\n",
       "        vertical-align: middle;\n",
       "    }\n",
       "\n",
       "    .dataframe tbody tr th {\n",
       "        vertical-align: top;\n",
       "    }\n",
       "\n",
       "    .dataframe thead th {\n",
       "        text-align: right;\n",
       "    }\n",
       "</style>\n",
       "<table border=\"1\" class=\"dataframe\">\n",
       "  <thead>\n",
       "    <tr style=\"text-align: right;\">\n",
       "      <th></th>\n",
       "      <th>0</th>\n",
       "      <th>1</th>\n",
       "      <th>2</th>\n",
       "      <th>3</th>\n",
       "      <th>4</th>\n",
       "      <th>5</th>\n",
       "      <th>6</th>\n",
       "      <th>7</th>\n",
       "      <th>8</th>\n",
       "      <th>9</th>\n",
       "      <th>...</th>\n",
       "      <th>32</th>\n",
       "      <th>33</th>\n",
       "      <th>34</th>\n",
       "      <th>35</th>\n",
       "      <th>36</th>\n",
       "      <th>37</th>\n",
       "      <th>38</th>\n",
       "      <th>39</th>\n",
       "      <th>40</th>\n",
       "      <th>41</th>\n",
       "    </tr>\n",
       "  </thead>\n",
       "  <tbody>\n",
       "    <tr>\n",
       "      <th>0</th>\n",
       "      <td>73</td>\n",
       "      <td>Not in universe</td>\n",
       "      <td>0</td>\n",
       "      <td>0</td>\n",
       "      <td>High school graduate</td>\n",
       "      <td>0</td>\n",
       "      <td>Not in universe</td>\n",
       "      <td>Widowed</td>\n",
       "      <td>Not in universe or children</td>\n",
       "      <td>Not in universe</td>\n",
       "      <td>...</td>\n",
       "      <td>United-States</td>\n",
       "      <td>United-States</td>\n",
       "      <td>United-States</td>\n",
       "      <td>Native- Born in the United States</td>\n",
       "      <td>0</td>\n",
       "      <td>Not in universe</td>\n",
       "      <td>2</td>\n",
       "      <td>0</td>\n",
       "      <td>95</td>\n",
       "      <td>- 50000.</td>\n",
       "    </tr>\n",
       "    <tr>\n",
       "      <th>1</th>\n",
       "      <td>58</td>\n",
       "      <td>Self-employed-not incorporated</td>\n",
       "      <td>4</td>\n",
       "      <td>34</td>\n",
       "      <td>Some college but no degree</td>\n",
       "      <td>0</td>\n",
       "      <td>Not in universe</td>\n",
       "      <td>Divorced</td>\n",
       "      <td>Construction</td>\n",
       "      <td>Precision production craft &amp; repair</td>\n",
       "      <td>...</td>\n",
       "      <td>United-States</td>\n",
       "      <td>United-States</td>\n",
       "      <td>United-States</td>\n",
       "      <td>Native- Born in the United States</td>\n",
       "      <td>0</td>\n",
       "      <td>Not in universe</td>\n",
       "      <td>2</td>\n",
       "      <td>52</td>\n",
       "      <td>94</td>\n",
       "      <td>- 50000.</td>\n",
       "    </tr>\n",
       "    <tr>\n",
       "      <th>2</th>\n",
       "      <td>18</td>\n",
       "      <td>Not in universe</td>\n",
       "      <td>0</td>\n",
       "      <td>0</td>\n",
       "      <td>10th grade</td>\n",
       "      <td>0</td>\n",
       "      <td>High school</td>\n",
       "      <td>Never married</td>\n",
       "      <td>Not in universe or children</td>\n",
       "      <td>Not in universe</td>\n",
       "      <td>...</td>\n",
       "      <td>Vietnam</td>\n",
       "      <td>Vietnam</td>\n",
       "      <td>Vietnam</td>\n",
       "      <td>Foreign born- Not a citizen of U S</td>\n",
       "      <td>0</td>\n",
       "      <td>Not in universe</td>\n",
       "      <td>2</td>\n",
       "      <td>0</td>\n",
       "      <td>95</td>\n",
       "      <td>- 50000.</td>\n",
       "    </tr>\n",
       "    <tr>\n",
       "      <th>3</th>\n",
       "      <td>9</td>\n",
       "      <td>Not in universe</td>\n",
       "      <td>0</td>\n",
       "      <td>0</td>\n",
       "      <td>Children</td>\n",
       "      <td>0</td>\n",
       "      <td>Not in universe</td>\n",
       "      <td>Never married</td>\n",
       "      <td>Not in universe or children</td>\n",
       "      <td>Not in universe</td>\n",
       "      <td>...</td>\n",
       "      <td>United-States</td>\n",
       "      <td>United-States</td>\n",
       "      <td>United-States</td>\n",
       "      <td>Native- Born in the United States</td>\n",
       "      <td>0</td>\n",
       "      <td>Not in universe</td>\n",
       "      <td>0</td>\n",
       "      <td>0</td>\n",
       "      <td>94</td>\n",
       "      <td>- 50000.</td>\n",
       "    </tr>\n",
       "    <tr>\n",
       "      <th>4</th>\n",
       "      <td>10</td>\n",
       "      <td>Not in universe</td>\n",
       "      <td>0</td>\n",
       "      <td>0</td>\n",
       "      <td>Children</td>\n",
       "      <td>0</td>\n",
       "      <td>Not in universe</td>\n",
       "      <td>Never married</td>\n",
       "      <td>Not in universe or children</td>\n",
       "      <td>Not in universe</td>\n",
       "      <td>...</td>\n",
       "      <td>United-States</td>\n",
       "      <td>United-States</td>\n",
       "      <td>United-States</td>\n",
       "      <td>Native- Born in the United States</td>\n",
       "      <td>0</td>\n",
       "      <td>Not in universe</td>\n",
       "      <td>0</td>\n",
       "      <td>0</td>\n",
       "      <td>94</td>\n",
       "      <td>- 50000.</td>\n",
       "    </tr>\n",
       "  </tbody>\n",
       "</table>\n",
       "<p>5 rows × 42 columns</p>\n",
       "</div>"
      ],
      "text/plain": [
       "   0                                1   2   3                            4   \\\n",
       "0  73                  Not in universe   0   0         High school graduate   \n",
       "1  58   Self-employed-not incorporated   4  34   Some college but no degree   \n",
       "2  18                  Not in universe   0   0                   10th grade   \n",
       "3   9                  Not in universe   0   0                     Children   \n",
       "4  10                  Not in universe   0   0                     Children   \n",
       "\n",
       "   5                 6               7                             8   \\\n",
       "0   0   Not in universe         Widowed   Not in universe or children   \n",
       "1   0   Not in universe        Divorced                  Construction   \n",
       "2   0       High school   Never married   Not in universe or children   \n",
       "3   0   Not in universe   Never married   Not in universe or children   \n",
       "4   0   Not in universe   Never married   Not in universe or children   \n",
       "\n",
       "                                     9   ...              32              33  \\\n",
       "0                       Not in universe  ...   United-States   United-States   \n",
       "1   Precision production craft & repair  ...   United-States   United-States   \n",
       "2                       Not in universe  ...         Vietnam         Vietnam   \n",
       "3                       Not in universe  ...   United-States   United-States   \n",
       "4                       Not in universe  ...   United-States   United-States   \n",
       "\n",
       "               34                                    35 36                37  \\\n",
       "0   United-States     Native- Born in the United States  0   Not in universe   \n",
       "1   United-States     Native- Born in the United States  0   Not in universe   \n",
       "2         Vietnam   Foreign born- Not a citizen of U S   0   Not in universe   \n",
       "3   United-States     Native- Born in the United States  0   Not in universe   \n",
       "4   United-States     Native- Born in the United States  0   Not in universe   \n",
       "\n",
       "   38  39  40         41  \n",
       "0   2   0  95   - 50000.  \n",
       "1   2  52  94   - 50000.  \n",
       "2   2   0  95   - 50000.  \n",
       "3   0   0  94   - 50000.  \n",
       "4   0   0  94   - 50000.  \n",
       "\n",
       "[5 rows x 42 columns]"
      ]
     },
     "execution_count": 393,
     "metadata": {},
     "output_type": "execute_result"
    }
   ],
   "source": [
    "df.head()"
   ]
  },
  {
   "cell_type": "markdown",
   "metadata": {},
   "source": [
    "<b> drop column 24 and duplicates"
   ]
  },
  {
   "cell_type": "code",
   "execution_count": 394,
   "metadata": {},
   "outputs": [
    {
     "data": {
      "text/plain": [
       "(152896, 41)"
      ]
     },
     "execution_count": 394,
     "metadata": {},
     "output_type": "execute_result"
    }
   ],
   "source": [
    "df= df.drop(24, axis=1, errors='ignore').drop_duplicates()  ## axis=1 means it is a column, axis=0 a row\n",
    "# df.drop(0, axis=0) ## it deletes the row with index = 0\n",
    "\n",
    "#checking shape\n",
    "df.shape"
   ]
  },
  {
   "cell_type": "code",
   "execution_count": 395,
   "metadata": {},
   "outputs": [
    {
     "data": {
      "text/html": [
       "<div>\n",
       "<style scoped>\n",
       "    .dataframe tbody tr th:only-of-type {\n",
       "        vertical-align: middle;\n",
       "    }\n",
       "\n",
       "    .dataframe tbody tr th {\n",
       "        vertical-align: top;\n",
       "    }\n",
       "\n",
       "    .dataframe thead th {\n",
       "        text-align: right;\n",
       "    }\n",
       "</style>\n",
       "<table border=\"1\" class=\"dataframe\">\n",
       "  <thead>\n",
       "    <tr style=\"text-align: right;\">\n",
       "      <th></th>\n",
       "      <th>0</th>\n",
       "      <th>1</th>\n",
       "      <th>2</th>\n",
       "      <th>3</th>\n",
       "      <th>4</th>\n",
       "      <th>5</th>\n",
       "      <th>6</th>\n",
       "      <th>7</th>\n",
       "      <th>8</th>\n",
       "      <th>9</th>\n",
       "      <th>...</th>\n",
       "      <th>32</th>\n",
       "      <th>33</th>\n",
       "      <th>34</th>\n",
       "      <th>35</th>\n",
       "      <th>36</th>\n",
       "      <th>37</th>\n",
       "      <th>38</th>\n",
       "      <th>39</th>\n",
       "      <th>40</th>\n",
       "      <th>41</th>\n",
       "    </tr>\n",
       "  </thead>\n",
       "  <tbody>\n",
       "    <tr>\n",
       "      <th>0</th>\n",
       "      <td>73</td>\n",
       "      <td>Not in universe</td>\n",
       "      <td>0</td>\n",
       "      <td>0</td>\n",
       "      <td>High school graduate</td>\n",
       "      <td>0</td>\n",
       "      <td>Not in universe</td>\n",
       "      <td>Widowed</td>\n",
       "      <td>Not in universe or children</td>\n",
       "      <td>Not in universe</td>\n",
       "      <td>...</td>\n",
       "      <td>United-States</td>\n",
       "      <td>United-States</td>\n",
       "      <td>United-States</td>\n",
       "      <td>Native- Born in the United States</td>\n",
       "      <td>0</td>\n",
       "      <td>Not in universe</td>\n",
       "      <td>2</td>\n",
       "      <td>0</td>\n",
       "      <td>95</td>\n",
       "      <td>- 50000.</td>\n",
       "    </tr>\n",
       "    <tr>\n",
       "      <th>1</th>\n",
       "      <td>58</td>\n",
       "      <td>Self-employed-not incorporated</td>\n",
       "      <td>4</td>\n",
       "      <td>34</td>\n",
       "      <td>Some college but no degree</td>\n",
       "      <td>0</td>\n",
       "      <td>Not in universe</td>\n",
       "      <td>Divorced</td>\n",
       "      <td>Construction</td>\n",
       "      <td>Precision production craft &amp; repair</td>\n",
       "      <td>...</td>\n",
       "      <td>United-States</td>\n",
       "      <td>United-States</td>\n",
       "      <td>United-States</td>\n",
       "      <td>Native- Born in the United States</td>\n",
       "      <td>0</td>\n",
       "      <td>Not in universe</td>\n",
       "      <td>2</td>\n",
       "      <td>52</td>\n",
       "      <td>94</td>\n",
       "      <td>- 50000.</td>\n",
       "    </tr>\n",
       "    <tr>\n",
       "      <th>2</th>\n",
       "      <td>18</td>\n",
       "      <td>Not in universe</td>\n",
       "      <td>0</td>\n",
       "      <td>0</td>\n",
       "      <td>10th grade</td>\n",
       "      <td>0</td>\n",
       "      <td>High school</td>\n",
       "      <td>Never married</td>\n",
       "      <td>Not in universe or children</td>\n",
       "      <td>Not in universe</td>\n",
       "      <td>...</td>\n",
       "      <td>Vietnam</td>\n",
       "      <td>Vietnam</td>\n",
       "      <td>Vietnam</td>\n",
       "      <td>Foreign born- Not a citizen of U S</td>\n",
       "      <td>0</td>\n",
       "      <td>Not in universe</td>\n",
       "      <td>2</td>\n",
       "      <td>0</td>\n",
       "      <td>95</td>\n",
       "      <td>- 50000.</td>\n",
       "    </tr>\n",
       "  </tbody>\n",
       "</table>\n",
       "<p>3 rows × 41 columns</p>\n",
       "</div>"
      ],
      "text/plain": [
       "   0                                1   2   3                            4   \\\n",
       "0  73                  Not in universe   0   0         High school graduate   \n",
       "1  58   Self-employed-not incorporated   4  34   Some college but no degree   \n",
       "2  18                  Not in universe   0   0                   10th grade   \n",
       "\n",
       "   5                 6               7                             8   \\\n",
       "0   0   Not in universe         Widowed   Not in universe or children   \n",
       "1   0   Not in universe        Divorced                  Construction   \n",
       "2   0       High school   Never married   Not in universe or children   \n",
       "\n",
       "                                     9   ...              32              33  \\\n",
       "0                       Not in universe  ...   United-States   United-States   \n",
       "1   Precision production craft & repair  ...   United-States   United-States   \n",
       "2                       Not in universe  ...         Vietnam         Vietnam   \n",
       "\n",
       "               34                                    35 36                37  \\\n",
       "0   United-States     Native- Born in the United States  0   Not in universe   \n",
       "1   United-States     Native- Born in the United States  0   Not in universe   \n",
       "2         Vietnam   Foreign born- Not a citizen of U S   0   Not in universe   \n",
       "\n",
       "   38  39  40         41  \n",
       "0   2   0  95   - 50000.  \n",
       "1   2  52  94   - 50000.  \n",
       "2   2   0  95   - 50000.  \n",
       "\n",
       "[3 rows x 41 columns]"
      ]
     },
     "execution_count": 395,
     "metadata": {},
     "output_type": "execute_result"
    }
   ],
   "source": [
    "## Select only 100k rows (just to speed up all computations)\n",
    "\n",
    "df= df.iloc[0:100000]\n",
    "\n",
    "df.head(3)"
   ]
  },
  {
   "cell_type": "markdown",
   "metadata": {},
   "source": [
    "Renaming the columns"
   ]
  },
  {
   "cell_type": "code",
   "execution_count": 396,
   "metadata": {},
   "outputs": [],
   "source": [
    "#source https://docs.1010data.com/Tutorials/MachineLearningExamples/CensusIncomeDataSet.html#reference_vn5_sxt_z4__input_variables\n",
    "\n",
    "mapping_cols= {  0: 'age',\n",
    "                 1: 'class_worker',\n",
    "                 2: 'industry_code',\n",
    "                 3: 'occupation_code',\n",
    "                 4: 'education',\n",
    "                 5: 'wage_per_hour',\n",
    "                 6: 'hs_college',\n",
    "                 7: 'marital_status',\n",
    "                 8: 'major_ind_code',\n",
    "                 9: 'major_occ_code',\n",
    "                 10: 'race',\n",
    "                 11: 'hisp_origin',\n",
    "                 12: 'gender',\n",
    "                 13: 'labor_union_member',\n",
    "                 14: 'unemployment_reason',\n",
    "                 15: 'full_or_part_emp',\n",
    "                 16: 'capital_gains',\n",
    "                 17: 'capital_losses',\n",
    "                 18: 'stock_dividends',\n",
    "                 19: 'tax_filer_stat',\n",
    "                 20: 'region_prev_res',\n",
    "                 21: 'state_prev_res',\n",
    "                 22: 'family_status',\n",
    "                 23: 'family_summary',\n",
    "                 25: 'mig_chg_msa',\n",
    "                 26: 'mig_chg_reg',\n",
    "                 27: 'mig_move_reg',\n",
    "                 28: 'mig_same',\n",
    "                 29: 'mig_prev_sunbelt',\n",
    "                 30: 'num_employees',\n",
    "                 31: 'familiars_U18',\n",
    "                 32: 'country_father',\n",
    "                 33: 'country_mother',\n",
    "                 34: 'country_self',\n",
    "                 35: 'citizenship',\n",
    "                 36: 'own_business',\n",
    "                 37: 'vet_question',\n",
    "                 38: 'vet_benefits',\n",
    "                 39: 'weeks_worked',\n",
    "                 40: 'survey_year',\n",
    "                 41: 'Target'}"
   ]
  },
  {
   "cell_type": "markdown",
   "metadata": {},
   "source": [
    "<b> Exercise: Rename all the columns of the Dataframe using a foor loop and the dictionary above"
   ]
  },
  {
   "cell_type": "code",
   "execution_count": 397,
   "metadata": {},
   "outputs": [
    {
     "data": {
      "text/plain": [
       "['age',\n",
       " 'class_worker',\n",
       " 'industry_code',\n",
       " 'occupation_code',\n",
       " 'education',\n",
       " 'wage_per_hour',\n",
       " 'hs_college',\n",
       " 'marital_status',\n",
       " 'major_ind_code',\n",
       " 'major_occ_code',\n",
       " 'race',\n",
       " 'hisp_origin',\n",
       " 'gender',\n",
       " 'labor_union_member',\n",
       " 'unemployment_reason',\n",
       " 'full_or_part_emp',\n",
       " 'capital_gains',\n",
       " 'capital_losses',\n",
       " 'stock_dividends',\n",
       " 'tax_filer_stat',\n",
       " 'region_prev_res',\n",
       " 'state_prev_res',\n",
       " 'family_status',\n",
       " 'family_summary',\n",
       " 'mig_chg_msa',\n",
       " 'mig_chg_reg',\n",
       " 'mig_move_reg',\n",
       " 'mig_same',\n",
       " 'mig_prev_sunbelt',\n",
       " 'num_employees',\n",
       " 'familiars_U18',\n",
       " 'country_father',\n",
       " 'country_mother',\n",
       " 'country_self',\n",
       " 'citizenship',\n",
       " 'own_business',\n",
       " 'vet_question',\n",
       " 'vet_benefits',\n",
       " 'weeks_worked',\n",
       " 'survey_year',\n",
       " 'Target']"
      ]
     },
     "execution_count": 397,
     "metadata": {},
     "output_type": "execute_result"
    }
   ],
   "source": [
    "new_columns= []\n",
    "\n",
    "for col in df:\n",
    "    new_columns.append(mapping_cols[col])\n",
    "    \n",
    "new_columns"
   ]
  },
  {
   "cell_type": "code",
   "execution_count": 398,
   "metadata": {},
   "outputs": [],
   "source": [
    "### Alternative with lambda function\n",
    "\n",
    "# new_columns= list(map(lambda x: mapping_cols[x], df.columns))"
   ]
  },
  {
   "cell_type": "code",
   "execution_count": 399,
   "metadata": {},
   "outputs": [
    {
     "data": {
      "text/html": [
       "<div>\n",
       "<style scoped>\n",
       "    .dataframe tbody tr th:only-of-type {\n",
       "        vertical-align: middle;\n",
       "    }\n",
       "\n",
       "    .dataframe tbody tr th {\n",
       "        vertical-align: top;\n",
       "    }\n",
       "\n",
       "    .dataframe thead th {\n",
       "        text-align: right;\n",
       "    }\n",
       "</style>\n",
       "<table border=\"1\" class=\"dataframe\">\n",
       "  <thead>\n",
       "    <tr style=\"text-align: right;\">\n",
       "      <th></th>\n",
       "      <th>age</th>\n",
       "      <th>class_worker</th>\n",
       "      <th>industry_code</th>\n",
       "      <th>occupation_code</th>\n",
       "      <th>education</th>\n",
       "      <th>wage_per_hour</th>\n",
       "      <th>hs_college</th>\n",
       "      <th>marital_status</th>\n",
       "      <th>major_ind_code</th>\n",
       "      <th>major_occ_code</th>\n",
       "      <th>...</th>\n",
       "      <th>country_father</th>\n",
       "      <th>country_mother</th>\n",
       "      <th>country_self</th>\n",
       "      <th>citizenship</th>\n",
       "      <th>own_business</th>\n",
       "      <th>vet_question</th>\n",
       "      <th>vet_benefits</th>\n",
       "      <th>weeks_worked</th>\n",
       "      <th>survey_year</th>\n",
       "      <th>Target</th>\n",
       "    </tr>\n",
       "  </thead>\n",
       "  <tbody>\n",
       "    <tr>\n",
       "      <th>0</th>\n",
       "      <td>73</td>\n",
       "      <td>Not in universe</td>\n",
       "      <td>0</td>\n",
       "      <td>0</td>\n",
       "      <td>High school graduate</td>\n",
       "      <td>0</td>\n",
       "      <td>Not in universe</td>\n",
       "      <td>Widowed</td>\n",
       "      <td>Not in universe or children</td>\n",
       "      <td>Not in universe</td>\n",
       "      <td>...</td>\n",
       "      <td>United-States</td>\n",
       "      <td>United-States</td>\n",
       "      <td>United-States</td>\n",
       "      <td>Native- Born in the United States</td>\n",
       "      <td>0</td>\n",
       "      <td>Not in universe</td>\n",
       "      <td>2</td>\n",
       "      <td>0</td>\n",
       "      <td>95</td>\n",
       "      <td>- 50000.</td>\n",
       "    </tr>\n",
       "    <tr>\n",
       "      <th>1</th>\n",
       "      <td>58</td>\n",
       "      <td>Self-employed-not incorporated</td>\n",
       "      <td>4</td>\n",
       "      <td>34</td>\n",
       "      <td>Some college but no degree</td>\n",
       "      <td>0</td>\n",
       "      <td>Not in universe</td>\n",
       "      <td>Divorced</td>\n",
       "      <td>Construction</td>\n",
       "      <td>Precision production craft &amp; repair</td>\n",
       "      <td>...</td>\n",
       "      <td>United-States</td>\n",
       "      <td>United-States</td>\n",
       "      <td>United-States</td>\n",
       "      <td>Native- Born in the United States</td>\n",
       "      <td>0</td>\n",
       "      <td>Not in universe</td>\n",
       "      <td>2</td>\n",
       "      <td>52</td>\n",
       "      <td>94</td>\n",
       "      <td>- 50000.</td>\n",
       "    </tr>\n",
       "    <tr>\n",
       "      <th>2</th>\n",
       "      <td>18</td>\n",
       "      <td>Not in universe</td>\n",
       "      <td>0</td>\n",
       "      <td>0</td>\n",
       "      <td>10th grade</td>\n",
       "      <td>0</td>\n",
       "      <td>High school</td>\n",
       "      <td>Never married</td>\n",
       "      <td>Not in universe or children</td>\n",
       "      <td>Not in universe</td>\n",
       "      <td>...</td>\n",
       "      <td>Vietnam</td>\n",
       "      <td>Vietnam</td>\n",
       "      <td>Vietnam</td>\n",
       "      <td>Foreign born- Not a citizen of U S</td>\n",
       "      <td>0</td>\n",
       "      <td>Not in universe</td>\n",
       "      <td>2</td>\n",
       "      <td>0</td>\n",
       "      <td>95</td>\n",
       "      <td>- 50000.</td>\n",
       "    </tr>\n",
       "  </tbody>\n",
       "</table>\n",
       "<p>3 rows × 41 columns</p>\n",
       "</div>"
      ],
      "text/plain": [
       "   age                     class_worker  industry_code  occupation_code  \\\n",
       "0   73                  Not in universe              0                0   \n",
       "1   58   Self-employed-not incorporated              4               34   \n",
       "2   18                  Not in universe              0                0   \n",
       "\n",
       "                     education  wage_per_hour        hs_college  \\\n",
       "0         High school graduate              0   Not in universe   \n",
       "1   Some college but no degree              0   Not in universe   \n",
       "2                   10th grade              0       High school   \n",
       "\n",
       "   marital_status                major_ind_code  \\\n",
       "0         Widowed   Not in universe or children   \n",
       "1        Divorced                  Construction   \n",
       "2   Never married   Not in universe or children   \n",
       "\n",
       "                         major_occ_code  ...  country_father  country_mother  \\\n",
       "0                       Not in universe  ...   United-States   United-States   \n",
       "1   Precision production craft & repair  ...   United-States   United-States   \n",
       "2                       Not in universe  ...         Vietnam         Vietnam   \n",
       "\n",
       "     country_self                           citizenship own_business  \\\n",
       "0   United-States     Native- Born in the United States            0   \n",
       "1   United-States     Native- Born in the United States            0   \n",
       "2         Vietnam   Foreign born- Not a citizen of U S             0   \n",
       "\n",
       "       vet_question  vet_benefits  weeks_worked  survey_year     Target  \n",
       "0   Not in universe             2             0           95   - 50000.  \n",
       "1   Not in universe             2            52           94   - 50000.  \n",
       "2   Not in universe             2             0           95   - 50000.  \n",
       "\n",
       "[3 rows x 41 columns]"
      ]
     },
     "execution_count": 399,
     "metadata": {},
     "output_type": "execute_result"
    }
   ],
   "source": [
    "df.columns= new_columns\n",
    "\n",
    "df.head(3)"
   ]
  },
  {
   "cell_type": "markdown",
   "metadata": {},
   "source": [
    "There was no need to use foor loop in this case; you could use command below to do it faster."
   ]
  },
  {
   "cell_type": "code",
   "execution_count": 400,
   "metadata": {},
   "outputs": [],
   "source": [
    "# df= df.rename(mapping_cols, axis=1)"
   ]
  },
  {
   "cell_type": "code",
   "execution_count": 401,
   "metadata": {
    "scrolled": true
   },
   "outputs": [
    {
     "name": "stdout",
     "output_type": "stream",
     "text": [
      "<class 'pandas.core.frame.DataFrame'>\n",
      "Int64Index: 100000 entries, 0 to 127731\n",
      "Data columns (total 41 columns):\n",
      " #   Column               Non-Null Count   Dtype \n",
      "---  ------               --------------   ----- \n",
      " 0   age                  100000 non-null  int64 \n",
      " 1   class_worker         100000 non-null  object\n",
      " 2   industry_code        100000 non-null  int64 \n",
      " 3   occupation_code      100000 non-null  int64 \n",
      " 4   education            100000 non-null  object\n",
      " 5   wage_per_hour        100000 non-null  int64 \n",
      " 6   hs_college           100000 non-null  object\n",
      " 7   marital_status       100000 non-null  object\n",
      " 8   major_ind_code       100000 non-null  object\n",
      " 9   major_occ_code       100000 non-null  object\n",
      " 10  race                 100000 non-null  object\n",
      " 11  hisp_origin          100000 non-null  object\n",
      " 12  gender               100000 non-null  object\n",
      " 13  labor_union_member   100000 non-null  object\n",
      " 14  unemployment_reason  100000 non-null  object\n",
      " 15  full_or_part_emp     100000 non-null  object\n",
      " 16  capital_gains        100000 non-null  int64 \n",
      " 17  capital_losses       100000 non-null  int64 \n",
      " 18  stock_dividends      100000 non-null  int64 \n",
      " 19  tax_filer_stat       100000 non-null  object\n",
      " 20  region_prev_res      100000 non-null  object\n",
      " 21  state_prev_res       100000 non-null  object\n",
      " 22  family_status        100000 non-null  object\n",
      " 23  family_summary       100000 non-null  object\n",
      " 24  mig_chg_msa          100000 non-null  object\n",
      " 25  mig_chg_reg          100000 non-null  object\n",
      " 26  mig_move_reg         100000 non-null  object\n",
      " 27  mig_same             100000 non-null  object\n",
      " 28  mig_prev_sunbelt     100000 non-null  object\n",
      " 29  num_employees        100000 non-null  int64 \n",
      " 30  familiars_U18        100000 non-null  object\n",
      " 31  country_father       100000 non-null  object\n",
      " 32  country_mother       100000 non-null  object\n",
      " 33  country_self         100000 non-null  object\n",
      " 34  citizenship          100000 non-null  object\n",
      " 35  own_business         100000 non-null  int64 \n",
      " 36  vet_question         100000 non-null  object\n",
      " 37  vet_benefits         100000 non-null  int64 \n",
      " 38  weeks_worked         100000 non-null  int64 \n",
      " 39  survey_year          100000 non-null  int64 \n",
      " 40  Target               100000 non-null  object\n",
      "dtypes: int64(12), object(29)\n",
      "memory usage: 32.0+ MB\n"
     ]
    }
   ],
   "source": [
    "df.info()"
   ]
  },
  {
   "cell_type": "code",
   "execution_count": 402,
   "metadata": {},
   "outputs": [
    {
     "data": {
      "text/html": [
       "<div>\n",
       "<style scoped>\n",
       "    .dataframe tbody tr th:only-of-type {\n",
       "        vertical-align: middle;\n",
       "    }\n",
       "\n",
       "    .dataframe tbody tr th {\n",
       "        vertical-align: top;\n",
       "    }\n",
       "\n",
       "    .dataframe thead th {\n",
       "        text-align: right;\n",
       "    }\n",
       "</style>\n",
       "<table border=\"1\" class=\"dataframe\">\n",
       "  <thead>\n",
       "    <tr style=\"text-align: right;\">\n",
       "      <th></th>\n",
       "      <th>age</th>\n",
       "      <th>industry_code</th>\n",
       "      <th>occupation_code</th>\n",
       "      <th>wage_per_hour</th>\n",
       "      <th>capital_gains</th>\n",
       "      <th>capital_losses</th>\n",
       "      <th>stock_dividends</th>\n",
       "      <th>num_employees</th>\n",
       "      <th>own_business</th>\n",
       "      <th>vet_benefits</th>\n",
       "      <th>weeks_worked</th>\n",
       "      <th>survey_year</th>\n",
       "    </tr>\n",
       "  </thead>\n",
       "  <tbody>\n",
       "    <tr>\n",
       "      <th>0</th>\n",
       "      <td>73</td>\n",
       "      <td>0</td>\n",
       "      <td>0</td>\n",
       "      <td>0</td>\n",
       "      <td>0</td>\n",
       "      <td>0</td>\n",
       "      <td>0</td>\n",
       "      <td>0</td>\n",
       "      <td>0</td>\n",
       "      <td>2</td>\n",
       "      <td>0</td>\n",
       "      <td>95</td>\n",
       "    </tr>\n",
       "    <tr>\n",
       "      <th>1</th>\n",
       "      <td>58</td>\n",
       "      <td>4</td>\n",
       "      <td>34</td>\n",
       "      <td>0</td>\n",
       "      <td>0</td>\n",
       "      <td>0</td>\n",
       "      <td>0</td>\n",
       "      <td>1</td>\n",
       "      <td>0</td>\n",
       "      <td>2</td>\n",
       "      <td>52</td>\n",
       "      <td>94</td>\n",
       "    </tr>\n",
       "    <tr>\n",
       "      <th>2</th>\n",
       "      <td>18</td>\n",
       "      <td>0</td>\n",
       "      <td>0</td>\n",
       "      <td>0</td>\n",
       "      <td>0</td>\n",
       "      <td>0</td>\n",
       "      <td>0</td>\n",
       "      <td>0</td>\n",
       "      <td>0</td>\n",
       "      <td>2</td>\n",
       "      <td>0</td>\n",
       "      <td>95</td>\n",
       "    </tr>\n",
       "    <tr>\n",
       "      <th>3</th>\n",
       "      <td>9</td>\n",
       "      <td>0</td>\n",
       "      <td>0</td>\n",
       "      <td>0</td>\n",
       "      <td>0</td>\n",
       "      <td>0</td>\n",
       "      <td>0</td>\n",
       "      <td>0</td>\n",
       "      <td>0</td>\n",
       "      <td>0</td>\n",
       "      <td>0</td>\n",
       "      <td>94</td>\n",
       "    </tr>\n",
       "    <tr>\n",
       "      <th>4</th>\n",
       "      <td>10</td>\n",
       "      <td>0</td>\n",
       "      <td>0</td>\n",
       "      <td>0</td>\n",
       "      <td>0</td>\n",
       "      <td>0</td>\n",
       "      <td>0</td>\n",
       "      <td>0</td>\n",
       "      <td>0</td>\n",
       "      <td>0</td>\n",
       "      <td>0</td>\n",
       "      <td>94</td>\n",
       "    </tr>\n",
       "  </tbody>\n",
       "</table>\n",
       "</div>"
      ],
      "text/plain": [
       "   age  industry_code  occupation_code  wage_per_hour  capital_gains  \\\n",
       "0   73              0                0              0              0   \n",
       "1   58              4               34              0              0   \n",
       "2   18              0                0              0              0   \n",
       "3    9              0                0              0              0   \n",
       "4   10              0                0              0              0   \n",
       "\n",
       "   capital_losses  stock_dividends  num_employees  own_business  vet_benefits  \\\n",
       "0               0                0              0             0             2   \n",
       "1               0                0              1             0             2   \n",
       "2               0                0              0             0             2   \n",
       "3               0                0              0             0             0   \n",
       "4               0                0              0             0             0   \n",
       "\n",
       "   weeks_worked  survey_year  \n",
       "0             0           95  \n",
       "1            52           94  \n",
       "2             0           95  \n",
       "3             0           94  \n",
       "4             0           94  "
      ]
     },
     "execution_count": 402,
     "metadata": {},
     "output_type": "execute_result"
    }
   ],
   "source": [
    "## Selecting only numerical columns:\n",
    "\n",
    "num_df= df.select_dtypes(exclude= object)\n",
    "\n",
    "num_df.head()"
   ]
  },
  {
   "cell_type": "markdown",
   "metadata": {},
   "source": [
    "##### Exercise: for each numerical feature, report mean and std deviation. \n",
    "\n",
    "Example output:\n",
    "\n",
    "{'age': [30, 2], 'industry_code': [1, 0.3] ...}"
   ]
  },
  {
   "cell_type": "code",
   "execution_count": 403,
   "metadata": {},
   "outputs": [
    {
     "data": {
      "text/plain": [
       "39.55358"
      ]
     },
     "execution_count": 403,
     "metadata": {},
     "output_type": "execute_result"
    }
   ],
   "source": [
    "## getting mean of one column\n",
    "\n",
    "df['age'].mean()"
   ]
  },
  {
   "cell_type": "code",
   "execution_count": 404,
   "metadata": {},
   "outputs": [
    {
     "data": {
      "text/plain": [
       "{'age': [39.6, 19.9],\n",
       " 'industry_code': [19.6, 18.3],\n",
       " 'occupation_code': [14.4, 14.9],\n",
       " 'wage_per_hour': [71.1, 307.5],\n",
       " 'capital_gains': [546.5, 5186.9],\n",
       " 'capital_losses': [47.8, 306.7],\n",
       " 'stock_dividends': [252.8, 2297.6],\n",
       " 'num_employees': [2.5, 2.4],\n",
       " 'own_business': [0.2, 0.6],\n",
       " 'vet_benefits': [1.8, 0.6],\n",
       " 'weeks_worked': [29.6, 23.9],\n",
       " 'survey_year': [94.5, 0.5]}"
      ]
     },
     "execution_count": 404,
     "metadata": {},
     "output_type": "execute_result"
    }
   ],
   "source": [
    "summary= {}\n",
    "\n",
    "\n",
    "for col in num_df.columns:\n",
    "    mean = round(num_df[col].mean(), 1)\n",
    "    std = round(num_df[col].std(),1)\n",
    "    \n",
    "    summary[col] = [mean, std]\n",
    "    \n",
    "summary"
   ]
  },
  {
   "cell_type": "markdown",
   "metadata": {},
   "source": [
    "Create a table (dataframe) out of this dictionary"
   ]
  },
  {
   "cell_type": "code",
   "execution_count": 405,
   "metadata": {},
   "outputs": [
    {
     "data": {
      "text/html": [
       "<div>\n",
       "<style scoped>\n",
       "    .dataframe tbody tr th:only-of-type {\n",
       "        vertical-align: middle;\n",
       "    }\n",
       "\n",
       "    .dataframe tbody tr th {\n",
       "        vertical-align: top;\n",
       "    }\n",
       "\n",
       "    .dataframe thead th {\n",
       "        text-align: right;\n",
       "    }\n",
       "</style>\n",
       "<table border=\"1\" class=\"dataframe\">\n",
       "  <thead>\n",
       "    <tr style=\"text-align: right;\">\n",
       "      <th></th>\n",
       "      <th>0</th>\n",
       "      <th>1</th>\n",
       "    </tr>\n",
       "  </thead>\n",
       "  <tbody>\n",
       "    <tr>\n",
       "      <th>age</th>\n",
       "      <td>39.6</td>\n",
       "      <td>19.9</td>\n",
       "    </tr>\n",
       "    <tr>\n",
       "      <th>industry_code</th>\n",
       "      <td>19.6</td>\n",
       "      <td>18.3</td>\n",
       "    </tr>\n",
       "    <tr>\n",
       "      <th>occupation_code</th>\n",
       "      <td>14.4</td>\n",
       "      <td>14.9</td>\n",
       "    </tr>\n",
       "    <tr>\n",
       "      <th>wage_per_hour</th>\n",
       "      <td>71.1</td>\n",
       "      <td>307.5</td>\n",
       "    </tr>\n",
       "    <tr>\n",
       "      <th>capital_gains</th>\n",
       "      <td>546.5</td>\n",
       "      <td>5186.9</td>\n",
       "    </tr>\n",
       "    <tr>\n",
       "      <th>capital_losses</th>\n",
       "      <td>47.8</td>\n",
       "      <td>306.7</td>\n",
       "    </tr>\n",
       "    <tr>\n",
       "      <th>stock_dividends</th>\n",
       "      <td>252.8</td>\n",
       "      <td>2297.6</td>\n",
       "    </tr>\n",
       "    <tr>\n",
       "      <th>num_employees</th>\n",
       "      <td>2.5</td>\n",
       "      <td>2.4</td>\n",
       "    </tr>\n",
       "    <tr>\n",
       "      <th>own_business</th>\n",
       "      <td>0.2</td>\n",
       "      <td>0.6</td>\n",
       "    </tr>\n",
       "    <tr>\n",
       "      <th>vet_benefits</th>\n",
       "      <td>1.8</td>\n",
       "      <td>0.6</td>\n",
       "    </tr>\n",
       "    <tr>\n",
       "      <th>weeks_worked</th>\n",
       "      <td>29.6</td>\n",
       "      <td>23.9</td>\n",
       "    </tr>\n",
       "    <tr>\n",
       "      <th>survey_year</th>\n",
       "      <td>94.5</td>\n",
       "      <td>0.5</td>\n",
       "    </tr>\n",
       "  </tbody>\n",
       "</table>\n",
       "</div>"
      ],
      "text/plain": [
       "                     0       1\n",
       "age               39.6    19.9\n",
       "industry_code     19.6    18.3\n",
       "occupation_code   14.4    14.9\n",
       "wage_per_hour     71.1   307.5\n",
       "capital_gains    546.5  5186.9\n",
       "capital_losses    47.8   306.7\n",
       "stock_dividends  252.8  2297.6\n",
       "num_employees      2.5     2.4\n",
       "own_business       0.2     0.6\n",
       "vet_benefits       1.8     0.6\n",
       "weeks_worked      29.6    23.9\n",
       "survey_year       94.5     0.5"
      ]
     },
     "execution_count": 405,
     "metadata": {},
     "output_type": "execute_result"
    }
   ],
   "source": [
    "df_summary = pd.DataFrame(data = summary).T\n",
    "df_summary"
   ]
  },
  {
   "cell_type": "markdown",
   "metadata": {},
   "source": [
    "Even in this case there was a built-in method to do it:"
   ]
  },
  {
   "cell_type": "code",
   "execution_count": 406,
   "metadata": {},
   "outputs": [
    {
     "data": {
      "text/html": [
       "<div>\n",
       "<style scoped>\n",
       "    .dataframe tbody tr th:only-of-type {\n",
       "        vertical-align: middle;\n",
       "    }\n",
       "\n",
       "    .dataframe tbody tr th {\n",
       "        vertical-align: top;\n",
       "    }\n",
       "\n",
       "    .dataframe thead th {\n",
       "        text-align: right;\n",
       "    }\n",
       "</style>\n",
       "<table border=\"1\" class=\"dataframe\">\n",
       "  <thead>\n",
       "    <tr style=\"text-align: right;\">\n",
       "      <th></th>\n",
       "      <th>age</th>\n",
       "      <th>industry_code</th>\n",
       "      <th>occupation_code</th>\n",
       "      <th>wage_per_hour</th>\n",
       "      <th>capital_gains</th>\n",
       "      <th>capital_losses</th>\n",
       "      <th>stock_dividends</th>\n",
       "      <th>num_employees</th>\n",
       "      <th>own_business</th>\n",
       "      <th>vet_benefits</th>\n",
       "      <th>weeks_worked</th>\n",
       "      <th>survey_year</th>\n",
       "    </tr>\n",
       "  </thead>\n",
       "  <tbody>\n",
       "    <tr>\n",
       "      <th>count</th>\n",
       "      <td>100000.0</td>\n",
       "      <td>100000.0</td>\n",
       "      <td>100000.0</td>\n",
       "      <td>100000.0</td>\n",
       "      <td>100000.0</td>\n",
       "      <td>100000.0</td>\n",
       "      <td>100000.0</td>\n",
       "      <td>100000.0</td>\n",
       "      <td>100000.0</td>\n",
       "      <td>100000.0</td>\n",
       "      <td>100000.0</td>\n",
       "      <td>100000.0</td>\n",
       "    </tr>\n",
       "    <tr>\n",
       "      <th>mean</th>\n",
       "      <td>39.6</td>\n",
       "      <td>19.6</td>\n",
       "      <td>14.4</td>\n",
       "      <td>71.1</td>\n",
       "      <td>546.5</td>\n",
       "      <td>47.8</td>\n",
       "      <td>252.8</td>\n",
       "      <td>2.5</td>\n",
       "      <td>0.2</td>\n",
       "      <td>1.8</td>\n",
       "      <td>29.6</td>\n",
       "      <td>94.5</td>\n",
       "    </tr>\n",
       "    <tr>\n",
       "      <th>std</th>\n",
       "      <td>19.9</td>\n",
       "      <td>18.3</td>\n",
       "      <td>14.9</td>\n",
       "      <td>307.5</td>\n",
       "      <td>5186.9</td>\n",
       "      <td>306.7</td>\n",
       "      <td>2297.6</td>\n",
       "      <td>2.4</td>\n",
       "      <td>0.6</td>\n",
       "      <td>0.6</td>\n",
       "      <td>23.9</td>\n",
       "      <td>0.5</td>\n",
       "    </tr>\n",
       "    <tr>\n",
       "      <th>min</th>\n",
       "      <td>0.0</td>\n",
       "      <td>0.0</td>\n",
       "      <td>0.0</td>\n",
       "      <td>0.0</td>\n",
       "      <td>0.0</td>\n",
       "      <td>0.0</td>\n",
       "      <td>0.0</td>\n",
       "      <td>0.0</td>\n",
       "      <td>0.0</td>\n",
       "      <td>0.0</td>\n",
       "      <td>0.0</td>\n",
       "      <td>94.0</td>\n",
       "    </tr>\n",
       "    <tr>\n",
       "      <th>25%</th>\n",
       "      <td>25.0</td>\n",
       "      <td>0.0</td>\n",
       "      <td>0.0</td>\n",
       "      <td>0.0</td>\n",
       "      <td>0.0</td>\n",
       "      <td>0.0</td>\n",
       "      <td>0.0</td>\n",
       "      <td>0.0</td>\n",
       "      <td>0.0</td>\n",
       "      <td>2.0</td>\n",
       "      <td>0.0</td>\n",
       "      <td>94.0</td>\n",
       "    </tr>\n",
       "    <tr>\n",
       "      <th>50%</th>\n",
       "      <td>38.0</td>\n",
       "      <td>22.0</td>\n",
       "      <td>10.0</td>\n",
       "      <td>0.0</td>\n",
       "      <td>0.0</td>\n",
       "      <td>0.0</td>\n",
       "      <td>0.0</td>\n",
       "      <td>2.0</td>\n",
       "      <td>0.0</td>\n",
       "      <td>2.0</td>\n",
       "      <td>44.0</td>\n",
       "      <td>94.0</td>\n",
       "    </tr>\n",
       "    <tr>\n",
       "      <th>75%</th>\n",
       "      <td>52.0</td>\n",
       "      <td>37.0</td>\n",
       "      <td>29.0</td>\n",
       "      <td>0.0</td>\n",
       "      <td>0.0</td>\n",
       "      <td>0.0</td>\n",
       "      <td>0.0</td>\n",
       "      <td>5.0</td>\n",
       "      <td>0.0</td>\n",
       "      <td>2.0</td>\n",
       "      <td>52.0</td>\n",
       "      <td>95.0</td>\n",
       "    </tr>\n",
       "    <tr>\n",
       "      <th>max</th>\n",
       "      <td>90.0</td>\n",
       "      <td>51.0</td>\n",
       "      <td>46.0</td>\n",
       "      <td>9916.0</td>\n",
       "      <td>99999.0</td>\n",
       "      <td>4608.0</td>\n",
       "      <td>99999.0</td>\n",
       "      <td>6.0</td>\n",
       "      <td>2.0</td>\n",
       "      <td>2.0</td>\n",
       "      <td>52.0</td>\n",
       "      <td>95.0</td>\n",
       "    </tr>\n",
       "  </tbody>\n",
       "</table>\n",
       "</div>"
      ],
      "text/plain": [
       "            age  industry_code  occupation_code  wage_per_hour  capital_gains  \\\n",
       "count  100000.0       100000.0         100000.0       100000.0       100000.0   \n",
       "mean       39.6           19.6             14.4           71.1          546.5   \n",
       "std        19.9           18.3             14.9          307.5         5186.9   \n",
       "min         0.0            0.0              0.0            0.0            0.0   \n",
       "25%        25.0            0.0              0.0            0.0            0.0   \n",
       "50%        38.0           22.0             10.0            0.0            0.0   \n",
       "75%        52.0           37.0             29.0            0.0            0.0   \n",
       "max        90.0           51.0             46.0         9916.0        99999.0   \n",
       "\n",
       "       capital_losses  stock_dividends  num_employees  own_business  \\\n",
       "count        100000.0         100000.0       100000.0      100000.0   \n",
       "mean             47.8            252.8            2.5           0.2   \n",
       "std             306.7           2297.6            2.4           0.6   \n",
       "min               0.0              0.0            0.0           0.0   \n",
       "25%               0.0              0.0            0.0           0.0   \n",
       "50%               0.0              0.0            2.0           0.0   \n",
       "75%               0.0              0.0            5.0           0.0   \n",
       "max            4608.0          99999.0            6.0           2.0   \n",
       "\n",
       "       vet_benefits  weeks_worked  survey_year  \n",
       "count      100000.0      100000.0     100000.0  \n",
       "mean            1.8          29.6         94.5  \n",
       "std             0.6          23.9          0.5  \n",
       "min             0.0           0.0         94.0  \n",
       "25%             2.0           0.0         94.0  \n",
       "50%             2.0          44.0         94.0  \n",
       "75%             2.0          52.0         95.0  \n",
       "max             2.0          52.0         95.0  "
      ]
     },
     "execution_count": 406,
     "metadata": {},
     "output_type": "execute_result"
    }
   ],
   "source": [
    "round(num_df.describe() , 1)"
   ]
  },
  {
   "cell_type": "markdown",
   "metadata": {},
   "source": [
    "<font color= 'green'> It might seem useless using foor loops when there are libraries to do it: but what if you wanted to take the 3rd highest value for each column?? <br><br>\n",
    "\n",
    " <font color= 'black'>\n",
    "     <b> Exercise: </b> <br> Pick the 3rd largest value for all numerical variables. \n",
    "Watch out: some columns might not have 3 different values, in that case take the largest one."
   ]
  },
  {
   "cell_type": "code",
   "execution_count": 407,
   "metadata": {},
   "outputs": [
    {
     "data": {
      "text/plain": [
       "{'age': 88,\n",
       " 'industry_code': 49,\n",
       " 'occupation_code': 44,\n",
       " 'wage_per_hour': 9400,\n",
       " 'capital_gains': 34095,\n",
       " 'capital_losses': 3900,\n",
       " 'stock_dividends': 75000,\n",
       " 'num_employees': 4,\n",
       " 'own_business': 0,\n",
       " 'vet_benefits': 0,\n",
       " 'weeks_worked': 50,\n",
       " 'survey_year': 95}"
      ]
     },
     "execution_count": 407,
     "metadata": {},
     "output_type": "execute_result"
    }
   ],
   "source": [
    "summary= {}\n",
    "\n",
    "for col in num_df.columns:\n",
    "    \n",
    "    values = sorted( df[col].unique() ) \n",
    "    \n",
    "    if len(values)< 3:    #df[col].nunique() <3\n",
    "        third_value = values[-1]   #max(values)\n",
    "        \n",
    "    else:\n",
    "        third_value = values[-3]\n",
    "        \n",
    "    summary[col] = third_value\n",
    "        \n",
    "    \n",
    "summary"
   ]
  },
  {
   "cell_type": "markdown",
   "metadata": {},
   "source": [
    "### Slicing DataFrames"
   ]
  },
  {
   "cell_type": "code",
   "execution_count": 408,
   "metadata": {},
   "outputs": [
    {
     "data": {
      "text/html": [
       "<div>\n",
       "<style scoped>\n",
       "    .dataframe tbody tr th:only-of-type {\n",
       "        vertical-align: middle;\n",
       "    }\n",
       "\n",
       "    .dataframe tbody tr th {\n",
       "        vertical-align: top;\n",
       "    }\n",
       "\n",
       "    .dataframe thead th {\n",
       "        text-align: right;\n",
       "    }\n",
       "</style>\n",
       "<table border=\"1\" class=\"dataframe\">\n",
       "  <thead>\n",
       "    <tr style=\"text-align: right;\">\n",
       "      <th></th>\n",
       "      <th>age</th>\n",
       "      <th>class_worker</th>\n",
       "      <th>industry_code</th>\n",
       "      <th>occupation_code</th>\n",
       "      <th>education</th>\n",
       "      <th>wage_per_hour</th>\n",
       "      <th>hs_college</th>\n",
       "      <th>marital_status</th>\n",
       "      <th>major_ind_code</th>\n",
       "      <th>major_occ_code</th>\n",
       "      <th>...</th>\n",
       "      <th>country_father</th>\n",
       "      <th>country_mother</th>\n",
       "      <th>country_self</th>\n",
       "      <th>citizenship</th>\n",
       "      <th>own_business</th>\n",
       "      <th>vet_question</th>\n",
       "      <th>vet_benefits</th>\n",
       "      <th>weeks_worked</th>\n",
       "      <th>survey_year</th>\n",
       "      <th>Target</th>\n",
       "    </tr>\n",
       "  </thead>\n",
       "  <tbody>\n",
       "    <tr>\n",
       "      <th>0</th>\n",
       "      <td>73</td>\n",
       "      <td>Not in universe</td>\n",
       "      <td>0</td>\n",
       "      <td>0</td>\n",
       "      <td>High school graduate</td>\n",
       "      <td>0</td>\n",
       "      <td>Not in universe</td>\n",
       "      <td>Widowed</td>\n",
       "      <td>Not in universe or children</td>\n",
       "      <td>Not in universe</td>\n",
       "      <td>...</td>\n",
       "      <td>United-States</td>\n",
       "      <td>United-States</td>\n",
       "      <td>United-States</td>\n",
       "      <td>Native- Born in the United States</td>\n",
       "      <td>0</td>\n",
       "      <td>Not in universe</td>\n",
       "      <td>2</td>\n",
       "      <td>0</td>\n",
       "      <td>95</td>\n",
       "      <td>- 50000.</td>\n",
       "    </tr>\n",
       "    <tr>\n",
       "      <th>1</th>\n",
       "      <td>58</td>\n",
       "      <td>Self-employed-not incorporated</td>\n",
       "      <td>4</td>\n",
       "      <td>34</td>\n",
       "      <td>Some college but no degree</td>\n",
       "      <td>0</td>\n",
       "      <td>Not in universe</td>\n",
       "      <td>Divorced</td>\n",
       "      <td>Construction</td>\n",
       "      <td>Precision production craft &amp; repair</td>\n",
       "      <td>...</td>\n",
       "      <td>United-States</td>\n",
       "      <td>United-States</td>\n",
       "      <td>United-States</td>\n",
       "      <td>Native- Born in the United States</td>\n",
       "      <td>0</td>\n",
       "      <td>Not in universe</td>\n",
       "      <td>2</td>\n",
       "      <td>52</td>\n",
       "      <td>94</td>\n",
       "      <td>- 50000.</td>\n",
       "    </tr>\n",
       "    <tr>\n",
       "      <th>2</th>\n",
       "      <td>18</td>\n",
       "      <td>Not in universe</td>\n",
       "      <td>0</td>\n",
       "      <td>0</td>\n",
       "      <td>10th grade</td>\n",
       "      <td>0</td>\n",
       "      <td>High school</td>\n",
       "      <td>Never married</td>\n",
       "      <td>Not in universe or children</td>\n",
       "      <td>Not in universe</td>\n",
       "      <td>...</td>\n",
       "      <td>Vietnam</td>\n",
       "      <td>Vietnam</td>\n",
       "      <td>Vietnam</td>\n",
       "      <td>Foreign born- Not a citizen of U S</td>\n",
       "      <td>0</td>\n",
       "      <td>Not in universe</td>\n",
       "      <td>2</td>\n",
       "      <td>0</td>\n",
       "      <td>95</td>\n",
       "      <td>- 50000.</td>\n",
       "    </tr>\n",
       "  </tbody>\n",
       "</table>\n",
       "<p>3 rows × 41 columns</p>\n",
       "</div>"
      ],
      "text/plain": [
       "   age                     class_worker  industry_code  occupation_code  \\\n",
       "0   73                  Not in universe              0                0   \n",
       "1   58   Self-employed-not incorporated              4               34   \n",
       "2   18                  Not in universe              0                0   \n",
       "\n",
       "                     education  wage_per_hour        hs_college  \\\n",
       "0         High school graduate              0   Not in universe   \n",
       "1   Some college but no degree              0   Not in universe   \n",
       "2                   10th grade              0       High school   \n",
       "\n",
       "   marital_status                major_ind_code  \\\n",
       "0         Widowed   Not in universe or children   \n",
       "1        Divorced                  Construction   \n",
       "2   Never married   Not in universe or children   \n",
       "\n",
       "                         major_occ_code  ...  country_father  country_mother  \\\n",
       "0                       Not in universe  ...   United-States   United-States   \n",
       "1   Precision production craft & repair  ...   United-States   United-States   \n",
       "2                       Not in universe  ...         Vietnam         Vietnam   \n",
       "\n",
       "     country_self                           citizenship own_business  \\\n",
       "0   United-States     Native- Born in the United States            0   \n",
       "1   United-States     Native- Born in the United States            0   \n",
       "2         Vietnam   Foreign born- Not a citizen of U S             0   \n",
       "\n",
       "       vet_question  vet_benefits  weeks_worked  survey_year     Target  \n",
       "0   Not in universe             2             0           95   - 50000.  \n",
       "1   Not in universe             2            52           94   - 50000.  \n",
       "2   Not in universe             2             0           95   - 50000.  \n",
       "\n",
       "[3 rows x 41 columns]"
      ]
     },
     "execution_count": 408,
     "metadata": {},
     "output_type": "execute_result"
    }
   ],
   "source": [
    "df.head(3)"
   ]
  },
  {
   "cell_type": "markdown",
   "metadata": {},
   "source": [
    "Take only rows between 100 and 600 and columns only between 20 and 30"
   ]
  },
  {
   "cell_type": "code",
   "execution_count": 409,
   "metadata": {},
   "outputs": [
    {
     "data": {
      "text/plain": [
       "(500, 10)"
      ]
     },
     "execution_count": 409,
     "metadata": {},
     "output_type": "execute_result"
    }
   ],
   "source": [
    "## .iloc[]\n",
    "slice_df= df.iloc[100:600, 20:30]\n",
    "slice_df.shape"
   ]
  },
  {
   "cell_type": "markdown",
   "metadata": {},
   "source": [
    "<b> Slicing according to conditional statements <br> <br>\n",
    "    \n",
    "<font color='green'>\n",
    "AND --> & <br>\n",
    "OR --> |"
   ]
  },
  {
   "cell_type": "markdown",
   "metadata": {},
   "source": [
    "Take only people older than 30 years old AND marital status divorced"
   ]
  },
  {
   "cell_type": "code",
   "execution_count": 410,
   "metadata": {},
   "outputs": [
    {
     "data": {
      "text/plain": [
       "array([' Widowed', ' Divorced', ' Never married',\n",
       "       ' Married-civilian spouse present', ' Separated',\n",
       "       ' Married-spouse absent', ' Married-A F spouse present'],\n",
       "      dtype=object)"
      ]
     },
     "execution_count": 410,
     "metadata": {},
     "output_type": "execute_result"
    }
   ],
   "source": [
    "## Returning all the unique values of a column (useful to copy paste in conditional statements)\n",
    "\n",
    "df['marital_status'].unique()"
   ]
  },
  {
   "cell_type": "code",
   "execution_count": 411,
   "metadata": {},
   "outputs": [
    {
     "data": {
      "text/plain": [
       "array([' White', ' Asian or Pacific Islander',\n",
       "       ' Amer Indian Aleut or Eskimo', ' Black', ' Other'], dtype=object)"
      ]
     },
     "execution_count": 411,
     "metadata": {},
     "output_type": "execute_result"
    }
   ],
   "source": [
    "df['race'].unique()"
   ]
  },
  {
   "cell_type": "code",
   "execution_count": 412,
   "metadata": {},
   "outputs": [
    {
     "data": {
      "text/plain": [
       "(7255, 41)"
      ]
     },
     "execution_count": 412,
     "metadata": {},
     "output_type": "execute_result"
    }
   ],
   "source": [
    "df[(df['age']> 30) &  (df['marital_status'] == ' Divorced')].shape  # & means AND"
   ]
  },
  {
   "cell_type": "markdown",
   "metadata": {},
   "source": [
    "Take only people older than 50 years old OR marital status divorced"
   ]
  },
  {
   "cell_type": "code",
   "execution_count": 413,
   "metadata": {},
   "outputs": [
    {
     "data": {
      "text/plain": [
       "(33036, 41)"
      ]
     },
     "execution_count": 413,
     "metadata": {},
     "output_type": "execute_result"
    }
   ],
   "source": [
    "df[(df['age']> 50) |  (df['marital_status'] == ' Divorced')].shape  # | means OR"
   ]
  },
  {
   "cell_type": "markdown",
   "metadata": {},
   "source": [
    "Take only people older than 50 years old AND EITHER marital status divorced OR White race"
   ]
  },
  {
   "cell_type": "code",
   "execution_count": 414,
   "metadata": {},
   "outputs": [
    {
     "data": {
      "text/html": [
       "<div>\n",
       "<style scoped>\n",
       "    .dataframe tbody tr th:only-of-type {\n",
       "        vertical-align: middle;\n",
       "    }\n",
       "\n",
       "    .dataframe tbody tr th {\n",
       "        vertical-align: top;\n",
       "    }\n",
       "\n",
       "    .dataframe thead th {\n",
       "        text-align: right;\n",
       "    }\n",
       "</style>\n",
       "<table border=\"1\" class=\"dataframe\">\n",
       "  <thead>\n",
       "    <tr style=\"text-align: right;\">\n",
       "      <th></th>\n",
       "      <th>age</th>\n",
       "      <th>class_worker</th>\n",
       "      <th>industry_code</th>\n",
       "      <th>occupation_code</th>\n",
       "      <th>education</th>\n",
       "      <th>wage_per_hour</th>\n",
       "      <th>hs_college</th>\n",
       "      <th>marital_status</th>\n",
       "      <th>major_ind_code</th>\n",
       "      <th>major_occ_code</th>\n",
       "      <th>...</th>\n",
       "      <th>country_father</th>\n",
       "      <th>country_mother</th>\n",
       "      <th>country_self</th>\n",
       "      <th>citizenship</th>\n",
       "      <th>own_business</th>\n",
       "      <th>vet_question</th>\n",
       "      <th>vet_benefits</th>\n",
       "      <th>weeks_worked</th>\n",
       "      <th>survey_year</th>\n",
       "      <th>Target</th>\n",
       "    </tr>\n",
       "  </thead>\n",
       "  <tbody>\n",
       "    <tr>\n",
       "      <th>0</th>\n",
       "      <td>73</td>\n",
       "      <td>Not in universe</td>\n",
       "      <td>0</td>\n",
       "      <td>0</td>\n",
       "      <td>High school graduate</td>\n",
       "      <td>0</td>\n",
       "      <td>Not in universe</td>\n",
       "      <td>Widowed</td>\n",
       "      <td>Not in universe or children</td>\n",
       "      <td>Not in universe</td>\n",
       "      <td>...</td>\n",
       "      <td>United-States</td>\n",
       "      <td>United-States</td>\n",
       "      <td>United-States</td>\n",
       "      <td>Native- Born in the United States</td>\n",
       "      <td>0</td>\n",
       "      <td>Not in universe</td>\n",
       "      <td>2</td>\n",
       "      <td>0</td>\n",
       "      <td>95</td>\n",
       "      <td>- 50000.</td>\n",
       "    </tr>\n",
       "    <tr>\n",
       "      <th>1</th>\n",
       "      <td>58</td>\n",
       "      <td>Self-employed-not incorporated</td>\n",
       "      <td>4</td>\n",
       "      <td>34</td>\n",
       "      <td>Some college but no degree</td>\n",
       "      <td>0</td>\n",
       "      <td>Not in universe</td>\n",
       "      <td>Divorced</td>\n",
       "      <td>Construction</td>\n",
       "      <td>Precision production craft &amp; repair</td>\n",
       "      <td>...</td>\n",
       "      <td>United-States</td>\n",
       "      <td>United-States</td>\n",
       "      <td>United-States</td>\n",
       "      <td>Native- Born in the United States</td>\n",
       "      <td>0</td>\n",
       "      <td>Not in universe</td>\n",
       "      <td>2</td>\n",
       "      <td>52</td>\n",
       "      <td>94</td>\n",
       "      <td>- 50000.</td>\n",
       "    </tr>\n",
       "    <tr>\n",
       "      <th>12</th>\n",
       "      <td>51</td>\n",
       "      <td>Private</td>\n",
       "      <td>4</td>\n",
       "      <td>34</td>\n",
       "      <td>Some college but no degree</td>\n",
       "      <td>0</td>\n",
       "      <td>Not in universe</td>\n",
       "      <td>Married-civilian spouse present</td>\n",
       "      <td>Construction</td>\n",
       "      <td>Precision production craft &amp; repair</td>\n",
       "      <td>...</td>\n",
       "      <td>United-States</td>\n",
       "      <td>United-States</td>\n",
       "      <td>United-States</td>\n",
       "      <td>Native- Born in the United States</td>\n",
       "      <td>0</td>\n",
       "      <td>Not in universe</td>\n",
       "      <td>2</td>\n",
       "      <td>52</td>\n",
       "      <td>94</td>\n",
       "      <td>- 50000.</td>\n",
       "    </tr>\n",
       "    <tr>\n",
       "      <th>22</th>\n",
       "      <td>56</td>\n",
       "      <td>Private</td>\n",
       "      <td>35</td>\n",
       "      <td>22</td>\n",
       "      <td>Some college but no degree</td>\n",
       "      <td>500</td>\n",
       "      <td>Not in universe</td>\n",
       "      <td>Married-civilian spouse present</td>\n",
       "      <td>Finance insurance and real estate</td>\n",
       "      <td>Adm support including clerical</td>\n",
       "      <td>...</td>\n",
       "      <td>United-States</td>\n",
       "      <td>United-States</td>\n",
       "      <td>United-States</td>\n",
       "      <td>Native- Born in the United States</td>\n",
       "      <td>2</td>\n",
       "      <td>Not in universe</td>\n",
       "      <td>2</td>\n",
       "      <td>32</td>\n",
       "      <td>95</td>\n",
       "      <td>- 50000.</td>\n",
       "    </tr>\n",
       "    <tr>\n",
       "      <th>34</th>\n",
       "      <td>81</td>\n",
       "      <td>Not in universe</td>\n",
       "      <td>0</td>\n",
       "      <td>0</td>\n",
       "      <td>Bachelors degree(BA AB BS)</td>\n",
       "      <td>0</td>\n",
       "      <td>Not in universe</td>\n",
       "      <td>Widowed</td>\n",
       "      <td>Not in universe or children</td>\n",
       "      <td>Not in universe</td>\n",
       "      <td>...</td>\n",
       "      <td>?</td>\n",
       "      <td>United-States</td>\n",
       "      <td>United-States</td>\n",
       "      <td>Native- Born in the United States</td>\n",
       "      <td>0</td>\n",
       "      <td>Not in universe</td>\n",
       "      <td>2</td>\n",
       "      <td>0</td>\n",
       "      <td>94</td>\n",
       "      <td>- 50000.</td>\n",
       "    </tr>\n",
       "  </tbody>\n",
       "</table>\n",
       "<p>5 rows × 41 columns</p>\n",
       "</div>"
      ],
      "text/plain": [
       "    age                     class_worker  industry_code  occupation_code  \\\n",
       "0    73                  Not in universe              0                0   \n",
       "1    58   Self-employed-not incorporated              4               34   \n",
       "12   51                          Private              4               34   \n",
       "22   56                          Private             35               22   \n",
       "34   81                  Not in universe              0                0   \n",
       "\n",
       "                      education  wage_per_hour        hs_college  \\\n",
       "0          High school graduate              0   Not in universe   \n",
       "1    Some college but no degree              0   Not in universe   \n",
       "12   Some college but no degree              0   Not in universe   \n",
       "22   Some college but no degree            500   Not in universe   \n",
       "34   Bachelors degree(BA AB BS)              0   Not in universe   \n",
       "\n",
       "                      marital_status                      major_ind_code  \\\n",
       "0                            Widowed         Not in universe or children   \n",
       "1                           Divorced                        Construction   \n",
       "12   Married-civilian spouse present                        Construction   \n",
       "22   Married-civilian spouse present   Finance insurance and real estate   \n",
       "34                           Widowed         Not in universe or children   \n",
       "\n",
       "                          major_occ_code  ...  country_father  country_mother  \\\n",
       "0                        Not in universe  ...   United-States   United-States   \n",
       "1    Precision production craft & repair  ...   United-States   United-States   \n",
       "12   Precision production craft & repair  ...   United-States   United-States   \n",
       "22        Adm support including clerical  ...   United-States   United-States   \n",
       "34                       Not in universe  ...               ?   United-States   \n",
       "\n",
       "      country_self                         citizenship own_business  \\\n",
       "0    United-States   Native- Born in the United States            0   \n",
       "1    United-States   Native- Born in the United States            0   \n",
       "12   United-States   Native- Born in the United States            0   \n",
       "22   United-States   Native- Born in the United States            2   \n",
       "34   United-States   Native- Born in the United States            0   \n",
       "\n",
       "        vet_question  vet_benefits  weeks_worked  survey_year     Target  \n",
       "0    Not in universe             2             0           95   - 50000.  \n",
       "1    Not in universe             2            52           94   - 50000.  \n",
       "12   Not in universe             2            52           94   - 50000.  \n",
       "22   Not in universe             2            32           95   - 50000.  \n",
       "34   Not in universe             2             0           94   - 50000.  \n",
       "\n",
       "[5 rows x 41 columns]"
      ]
     },
     "execution_count": 414,
     "metadata": {},
     "output_type": "execute_result"
    }
   ],
   "source": [
    "df[(df['age']> 50) &  (\n",
    "                    (df['marital_status'] == ' Divorced')  | \n",
    "                    (df['race'] == ' White')\n",
    "                         )].head()  # | means OR"
   ]
  },
  {
   "cell_type": "markdown",
   "metadata": {},
   "source": [
    "Selecting only subset of columns"
   ]
  },
  {
   "cell_type": "code",
   "execution_count": 415,
   "metadata": {},
   "outputs": [
    {
     "data": {
      "text/html": [
       "<div>\n",
       "<style scoped>\n",
       "    .dataframe tbody tr th:only-of-type {\n",
       "        vertical-align: middle;\n",
       "    }\n",
       "\n",
       "    .dataframe tbody tr th {\n",
       "        vertical-align: top;\n",
       "    }\n",
       "\n",
       "    .dataframe thead th {\n",
       "        text-align: right;\n",
       "    }\n",
       "</style>\n",
       "<table border=\"1\" class=\"dataframe\">\n",
       "  <thead>\n",
       "    <tr style=\"text-align: right;\">\n",
       "      <th></th>\n",
       "      <th>age</th>\n",
       "      <th>marital_status</th>\n",
       "      <th>race</th>\n",
       "    </tr>\n",
       "  </thead>\n",
       "  <tbody>\n",
       "    <tr>\n",
       "      <th>0</th>\n",
       "      <td>73</td>\n",
       "      <td>Widowed</td>\n",
       "      <td>White</td>\n",
       "    </tr>\n",
       "    <tr>\n",
       "      <th>1</th>\n",
       "      <td>58</td>\n",
       "      <td>Divorced</td>\n",
       "      <td>White</td>\n",
       "    </tr>\n",
       "    <tr>\n",
       "      <th>2</th>\n",
       "      <td>18</td>\n",
       "      <td>Never married</td>\n",
       "      <td>Asian or Pacific Islander</td>\n",
       "    </tr>\n",
       "  </tbody>\n",
       "</table>\n",
       "</div>"
      ],
      "text/plain": [
       "   age  marital_status                        race\n",
       "0   73         Widowed                       White\n",
       "1   58        Divorced                       White\n",
       "2   18   Never married   Asian or Pacific Islander"
      ]
     },
     "execution_count": 415,
     "metadata": {},
     "output_type": "execute_result"
    }
   ],
   "source": [
    "df[ ['age', 'marital_status', 'race'] ].head(3)"
   ]
  },
  {
   "cell_type": "markdown",
   "metadata": {},
   "source": [
    "### Applying a function to one column"
   ]
  },
  {
   "cell_type": "code",
   "execution_count": 416,
   "metadata": {},
   "outputs": [
    {
     "data": {
      "text/plain": [
       "array([' - 50000.', ' 50000+.'], dtype=object)"
      ]
     },
     "execution_count": 416,
     "metadata": {},
     "output_type": "execute_result"
    }
   ],
   "source": [
    "df['Target'].unique()"
   ]
  },
  {
   "cell_type": "markdown",
   "metadata": {},
   "source": [
    "<b> Ex: Write a function to transform target into a numeric binary variable"
   ]
  },
  {
   "cell_type": "code",
   "execution_count": 417,
   "metadata": {},
   "outputs": [],
   "source": [
    "## 1st way with typical function\n",
    "\n",
    "def convert_target(value):\n",
    "    if type(value)==str:\n",
    "        if value == ' - 50000.':\n",
    "            return 0\n",
    "        else:\n",
    "            return 1"
   ]
  },
  {
   "cell_type": "code",
   "execution_count": 418,
   "metadata": {},
   "outputs": [
    {
     "data": {
      "text/plain": [
       "0         0\n",
       "1         0\n",
       "2         0\n",
       "3         0\n",
       "4         0\n",
       "         ..\n",
       "127726    0\n",
       "127727    0\n",
       "127729    0\n",
       "127730    0\n",
       "127731    0\n",
       "Name: Target, Length: 100000, dtype: int64"
      ]
     },
     "execution_count": 418,
     "metadata": {},
     "output_type": "execute_result"
    }
   ],
   "source": [
    "df['Target'].apply(convert_target)"
   ]
  },
  {
   "cell_type": "code",
   "execution_count": 419,
   "metadata": {},
   "outputs": [
    {
     "data": {
      "text/plain": [
       "0         0\n",
       "1         0\n",
       "2         0\n",
       "3         0\n",
       "4         0\n",
       "         ..\n",
       "127726    0\n",
       "127727    0\n",
       "127729    0\n",
       "127730    0\n",
       "127731    0\n",
       "Name: Target, Length: 100000, dtype: int64"
      ]
     },
     "execution_count": 419,
     "metadata": {},
     "output_type": "execute_result"
    }
   ],
   "source": [
    "## 2nd way with lambda function\n",
    "\n",
    "df['Target'].apply(lambda x: 0 if x== ' - 50000.' else 1) "
   ]
  },
  {
   "cell_type": "code",
   "execution_count": 420,
   "metadata": {},
   "outputs": [
    {
     "data": {
      "text/html": [
       "<div>\n",
       "<style scoped>\n",
       "    .dataframe tbody tr th:only-of-type {\n",
       "        vertical-align: middle;\n",
       "    }\n",
       "\n",
       "    .dataframe tbody tr th {\n",
       "        vertical-align: top;\n",
       "    }\n",
       "\n",
       "    .dataframe thead th {\n",
       "        text-align: right;\n",
       "    }\n",
       "</style>\n",
       "<table border=\"1\" class=\"dataframe\">\n",
       "  <thead>\n",
       "    <tr style=\"text-align: right;\">\n",
       "      <th></th>\n",
       "      <th>age</th>\n",
       "      <th>class_worker</th>\n",
       "      <th>industry_code</th>\n",
       "      <th>occupation_code</th>\n",
       "      <th>education</th>\n",
       "      <th>wage_per_hour</th>\n",
       "      <th>hs_college</th>\n",
       "      <th>marital_status</th>\n",
       "      <th>major_ind_code</th>\n",
       "      <th>major_occ_code</th>\n",
       "      <th>...</th>\n",
       "      <th>country_father</th>\n",
       "      <th>country_mother</th>\n",
       "      <th>country_self</th>\n",
       "      <th>citizenship</th>\n",
       "      <th>own_business</th>\n",
       "      <th>vet_question</th>\n",
       "      <th>vet_benefits</th>\n",
       "      <th>weeks_worked</th>\n",
       "      <th>survey_year</th>\n",
       "      <th>Target</th>\n",
       "    </tr>\n",
       "  </thead>\n",
       "  <tbody>\n",
       "    <tr>\n",
       "      <th>0</th>\n",
       "      <td>73</td>\n",
       "      <td>Not in universe</td>\n",
       "      <td>0</td>\n",
       "      <td>0</td>\n",
       "      <td>High school graduate</td>\n",
       "      <td>0</td>\n",
       "      <td>Not in universe</td>\n",
       "      <td>Widowed</td>\n",
       "      <td>Not in universe or children</td>\n",
       "      <td>Not in universe</td>\n",
       "      <td>...</td>\n",
       "      <td>United-States</td>\n",
       "      <td>United-States</td>\n",
       "      <td>United-States</td>\n",
       "      <td>Native- Born in the United States</td>\n",
       "      <td>0</td>\n",
       "      <td>Not in universe</td>\n",
       "      <td>2</td>\n",
       "      <td>0</td>\n",
       "      <td>95</td>\n",
       "      <td>0</td>\n",
       "    </tr>\n",
       "    <tr>\n",
       "      <th>1</th>\n",
       "      <td>58</td>\n",
       "      <td>Self-employed-not incorporated</td>\n",
       "      <td>4</td>\n",
       "      <td>34</td>\n",
       "      <td>Some college but no degree</td>\n",
       "      <td>0</td>\n",
       "      <td>Not in universe</td>\n",
       "      <td>Divorced</td>\n",
       "      <td>Construction</td>\n",
       "      <td>Precision production craft &amp; repair</td>\n",
       "      <td>...</td>\n",
       "      <td>United-States</td>\n",
       "      <td>United-States</td>\n",
       "      <td>United-States</td>\n",
       "      <td>Native- Born in the United States</td>\n",
       "      <td>0</td>\n",
       "      <td>Not in universe</td>\n",
       "      <td>2</td>\n",
       "      <td>52</td>\n",
       "      <td>94</td>\n",
       "      <td>0</td>\n",
       "    </tr>\n",
       "    <tr>\n",
       "      <th>2</th>\n",
       "      <td>18</td>\n",
       "      <td>Not in universe</td>\n",
       "      <td>0</td>\n",
       "      <td>0</td>\n",
       "      <td>10th grade</td>\n",
       "      <td>0</td>\n",
       "      <td>High school</td>\n",
       "      <td>Never married</td>\n",
       "      <td>Not in universe or children</td>\n",
       "      <td>Not in universe</td>\n",
       "      <td>...</td>\n",
       "      <td>Vietnam</td>\n",
       "      <td>Vietnam</td>\n",
       "      <td>Vietnam</td>\n",
       "      <td>Foreign born- Not a citizen of U S</td>\n",
       "      <td>0</td>\n",
       "      <td>Not in universe</td>\n",
       "      <td>2</td>\n",
       "      <td>0</td>\n",
       "      <td>95</td>\n",
       "      <td>0</td>\n",
       "    </tr>\n",
       "  </tbody>\n",
       "</table>\n",
       "<p>3 rows × 41 columns</p>\n",
       "</div>"
      ],
      "text/plain": [
       "   age                     class_worker  industry_code  occupation_code  \\\n",
       "0   73                  Not in universe              0                0   \n",
       "1   58   Self-employed-not incorporated              4               34   \n",
       "2   18                  Not in universe              0                0   \n",
       "\n",
       "                     education  wage_per_hour        hs_college  \\\n",
       "0         High school graduate              0   Not in universe   \n",
       "1   Some college but no degree              0   Not in universe   \n",
       "2                   10th grade              0       High school   \n",
       "\n",
       "   marital_status                major_ind_code  \\\n",
       "0         Widowed   Not in universe or children   \n",
       "1        Divorced                  Construction   \n",
       "2   Never married   Not in universe or children   \n",
       "\n",
       "                         major_occ_code  ...  country_father  country_mother  \\\n",
       "0                       Not in universe  ...   United-States   United-States   \n",
       "1   Precision production craft & repair  ...   United-States   United-States   \n",
       "2                       Not in universe  ...         Vietnam         Vietnam   \n",
       "\n",
       "     country_self                           citizenship own_business  \\\n",
       "0   United-States     Native- Born in the United States            0   \n",
       "1   United-States     Native- Born in the United States            0   \n",
       "2         Vietnam   Foreign born- Not a citizen of U S             0   \n",
       "\n",
       "       vet_question  vet_benefits  weeks_worked  survey_year Target  \n",
       "0   Not in universe             2             0           95      0  \n",
       "1   Not in universe             2            52           94      0  \n",
       "2   Not in universe             2             0           95      0  \n",
       "\n",
       "[3 rows x 41 columns]"
      ]
     },
     "execution_count": 420,
     "metadata": {},
     "output_type": "execute_result"
    }
   ],
   "source": [
    "df['Target']= df['Target'].apply(convert_target)\n",
    "df.head(3)"
   ]
  },
  {
   "cell_type": "markdown",
   "metadata": {},
   "source": [
    "### Plotting with Python"
   ]
  },
  {
   "cell_type": "markdown",
   "metadata": {},
   "source": [
    "<b> Checking Age distribution - Histogram"
   ]
  },
  {
   "cell_type": "code",
   "execution_count": 421,
   "metadata": {},
   "outputs": [
    {
     "data": {
      "image/png": "[encoded data removed]",
      "text/plain": [
       "<Figure size 1080x504 with 1 Axes>"
      ]
     },
     "metadata": {
      "needs_background": "light"
     },
     "output_type": "display_data"
    }
   ],
   "source": [
    "figsize = (15,7)\n",
    "\n",
    "plt.figure(figsize=figsize)\n",
    "\n",
    "plt.hist(df['age']);\n",
    "\n",
    "plt.title(label = 'Age - Histogram', color= 'xkcd:pale red', fontsize= 18, pad= 13, fontweight= 'bold')\n",
    "plt.xlabel('Age', color='xkcd:pale red', fontsize= 14, fontweight= 'bold')\n",
    "plt.ylabel('Gross Income', color= 'xkcd:pale red', fontsize= 14, fontweight= 'bold')\n",
    "plt.xticks(fontsize=12, color= 'xkcd:cadet blue')\n",
    "plt.yticks(fontsize=12, color= 'xkcd:cadet blue');"
   ]
  },
  {
   "cell_type": "code",
   "execution_count": 422,
   "metadata": {},
   "outputs": [],
   "source": [
    "## Just a nicer display for plots\n",
    "def nice_plotting(title = '', xlabel='', ylabel='', new_fig= True , figsize= (10,6), title_size=18):\n",
    "    if new_fig== True:\n",
    "        plt.figure(figsize=figsize)\n",
    "        \n",
    "    plt.title(title, color= 'xkcd:pale red', fontsize= title_size, pad= 13, fontweight= 'bold')\n",
    "    plt.xlabel(xlabel, color='xkcd:pale red', fontsize= 14, fontweight= 'bold')\n",
    "    plt.ylabel(ylabel, color= 'xkcd:pale red', fontsize= 14, fontweight= 'bold')\n",
    "    plt.xticks(fontsize=12, color= 'xkcd:cadet blue')\n",
    "    plt.yticks(fontsize=12, color= 'xkcd:cadet blue')"
   ]
  },
  {
   "cell_type": "code",
   "execution_count": 423,
   "metadata": {},
   "outputs": [
    {
     "data": {
      "image/png": "[encoded data removed]",
      "text/plain": [
       "<Figure size 720x432 with 1 Axes>"
      ]
     },
     "metadata": {
      "needs_background": "light"
     },
     "output_type": "display_data"
    }
   ],
   "source": [
    "nice_plotting('Age - Histogram' )\n",
    "plt.hist(df[['age']]);"
   ]
  },
  {
   "cell_type": "markdown",
   "metadata": {},
   "source": [
    "<b> Checking label distribution"
   ]
  },
  {
   "cell_type": "code",
   "execution_count": 424,
   "metadata": {},
   "outputs": [
    {
     "data": {
      "text/plain": [
       "0    0.92089\n",
       "1    0.07911\n",
       "Name: Target, dtype: float64"
      ]
     },
     "execution_count": 424,
     "metadata": {},
     "output_type": "execute_result"
    }
   ],
   "source": [
    "df['Target'].value_counts(normalize=True)"
   ]
  },
  {
   "cell_type": "code",
   "execution_count": 425,
   "metadata": {},
   "outputs": [
    {
     "data": {
      "text/plain": [
       "count    100000.000000\n",
       "mean          0.079110\n",
       "std           0.269912\n",
       "min           0.000000\n",
       "25%           0.000000\n",
       "50%           0.000000\n",
       "75%           0.000000\n",
       "max           1.000000\n",
       "Name: Target, dtype: float64"
      ]
     },
     "execution_count": 425,
     "metadata": {},
     "output_type": "execute_result"
    }
   ],
   "source": [
    "df['Target'].describe()"
   ]
  },
  {
   "cell_type": "markdown",
   "metadata": {},
   "source": [
    "<b> Plotting distribution"
   ]
  },
  {
   "cell_type": "code",
   "execution_count": 426,
   "metadata": {
    "hide_input": false
   },
   "outputs": [
    {
     "data": {
      "image/png": "[encoded data removed]",
      "text/plain": [
       "<Figure size 720x432 with 1 Axes>"
      ]
     },
     "metadata": {
      "needs_background": "light"
     },
     "output_type": "display_data"
    }
   ],
   "source": [
    "nice_plotting('Target Distribution')\n",
    "sns.countplot(x= 'Target', data= df);"
   ]
  },
  {
   "cell_type": "code",
   "execution_count": 427,
   "metadata": {
    "hide_input": true
   },
   "outputs": [
    {
     "data": {
      "image/png": "[encoded data removed]",
      "text/plain": [
       "<Figure size 504x504 with 1 Axes>"
      ]
     },
     "metadata": {},
     "output_type": "display_data"
    },
    {
     "data": {
      "text/plain": [
       "None"
      ]
     },
     "metadata": {},
     "output_type": "display_data"
    }
   ],
   "source": [
    "sums = df['Target'].squeeze().value_counts()\n",
    "sums.index= sums.index.map({1: 'Class 1', 0: 'Class 0'})\n",
    "#plt.figure(figsize=(20,10))\n",
    "\n",
    "fig1, ax1 = plt.subplots(figsize= (7,7))\n",
    "_, _, autotexts = pie(sums,labels= sums.index, center= (1,1), autopct='%1.1f%%', pctdistance=0.8,\n",
    "        shadow=True, startangle=90, textprops={'fontsize': 22, 'color':\"black\", 'weight':'bold'}, labeldistance= 1.0)\n",
    "\n",
    "for autotext in autotexts:\n",
    "    autotext.set_color('white')\n",
    "    \n",
    "ax1.axis('equal')\n",
    "ax1.legend(loc=\"lower left\",\n",
    "          bbox_to_anchor=(1, 0, 0.5, 1), fontsize=20)\n",
    "plt.setp(autotexts, weight=\"bold\")\n",
    "\n",
    "nice_plotting(\"Target Distribution\", new_fig= False)\n",
    "display(plt.show())\n",
    "plt.close()"
   ]
  },
  {
   "cell_type": "markdown",
   "metadata": {},
   "source": [
    "# Final Project\n",
    "\n",
    "<br>\n",
    "<b> \n",
    "- Let's consolidate everything we have seen so far with an end to end project\n",
    "\n",
    "- The task consists of creating a Class do perform the basic steps of Data Preprocessing. Usually cleaning and processing the data is a mandatory step before applying any predictive ML algorithm.\n",
    "\n",
    "- The class must consist of different methods, each to perform one of the following tasks on the Censum income dataset above:  </b>\n",
    " \n",
    "\n",
    "1. Replace all the missing values which are represented by a ' ?' in the initial dataset, with a numpy NaN.\n",
    "2. Split the data into two different sets: train and test. The method will take in input a parameter which reflects the train size, that is the ratio of observations which a model will use for training\n",
    "3. Identify the most appropriate summary for missing values, which includes a bar plot display number of missing values by column\n",
    "4. Handle missing values in categorical columns (do not look for any sophisticated strategy!)\n",
    "5. Handle missing values in numerical columns (do not look for any sophisticated strategy!)\n",
    "\n",
    "\n",
    "- Add a method called run_preprocessing which executes in the right order all the other methods to perform a complete preprocessing\n",
    "\n",
    "\n",
    "<b> NOTE: Use Google as much as you can to find out solutions to problems which have not been covered in the course"
   ]
  },
  {
   "cell_type": "code",
   "execution_count": 428,
   "metadata": {},
   "outputs": [],
   "source": [
    "class DataPreprocessor:\n",
    "    \n",
    "    def __init__(self, df):\n",
    "        self.df = df.copy()\n",
    "        \n",
    "    def replace_nans(self,):\n",
    "        self.df.replace(' ?' , np.nan, inplace = True)\n",
    "        \n",
    "    def split_data(self, train_size = 0.8):\n",
    "        df = self.df\n",
    "        \n",
    "        self.train= df.iloc[0: int(train_size * len(df))]\n",
    "        self.test = df.drop(self.train.index, axis=0)\n",
    "        \n",
    "    \n",
    "    def summary_missing_values(self):\n",
    "        train = self.train\n",
    "        \n",
    "        print(f'Size of train is {train.shape} \\n\\n Number of missing values for each column: \\n')\n",
    "        \n",
    "        count_missing = train.isna().sum().sort_values(ascending = False)\n",
    "        \n",
    "        ## All columns having at least 1 NaN\n",
    "        self.cols_with_nan = count_missing[count_missing > 0].index\n",
    "        \n",
    "        nice_plotting('Percentage missing values Columns', )\n",
    "        \n",
    "        (100* count_missing[count_missing > 0]/len(train)).plot(kind = 'bar')\n",
    "        plt.ylim(0,100)\n",
    "        plt.xticks(rotation = 45)\n",
    "        \n",
    "        self.df_with_nans = self.df[self.cols_with_nan ]\n",
    "        \n",
    "     \n",
    "    def imputation_categorical(self):\n",
    "        \n",
    "        \"\"\" Replacing missing values with most frequent value for categorical colums \"\"\"\n",
    "        \n",
    "        for col in self.cols_with_nan:\n",
    "            \n",
    "            ## getting info from the Train\n",
    "            most_freq_value = self.train[col].value_counts().index[0]\n",
    "            \n",
    "            ## Using it to replace both in Train and Test\n",
    "            self.train[col] = self.train[col].replace(np.nan, most_freq_value)\n",
    "            self.test[col] = self.test[col].replace(np.nan, most_freq_value)\n",
    "            \n",
    "    \n",
    "    def imputation_numerical(self, set_numerical_cols = [], imputation_stategy = 'median'):\n",
    "        \n",
    "        \"\"\" Replacing missing values either with mean, median or any number for numerical columns \"\"\"\n",
    "            \n",
    "        for col in set_numerical_cols:\n",
    "            \n",
    "            ## getting info from the Train\n",
    "            \n",
    "            if imputation_strategy == 'median':\n",
    "                filling_value = self.train[col].median()\n",
    "                \n",
    "            elif imputation_strategy == 'mean':\n",
    "                filling_value = self.train[col].mean()\n",
    "                \n",
    "            elif type(imputation_strategy) in (int, float):\n",
    "                filling_value = imputation_strategy\n",
    "                \n",
    "            \n",
    "            ## Using it to replace both in Train and Test\n",
    "            self.train[col] = self.train[col].replace(np.nan, filling_value)\n",
    "            self.test[col] = self.test[col].replace(np.nan, filling_value)\n",
    "            \n",
    "            \n",
    "    def run_preprocessing(self):\n",
    "        \n",
    "        self.replace_nans()\n",
    "        self.split_data()\n",
    "        \n",
    "        self.summary_missing_values()\n",
    "        self.imputation_categorical()\n",
    "#         self.imputation_numerical(imputation_stategy = 'median')\n",
    "        \n",
    "    "
   ]
  },
  {
   "cell_type": "code",
   "execution_count": 429,
   "metadata": {},
   "outputs": [
    {
     "data": {
      "text/plain": [
       "<__main__.DataPreprocessor at 0x16e410760>"
      ]
     },
     "execution_count": 429,
     "metadata": {},
     "output_type": "execute_result"
    }
   ],
   "source": [
    "preprocessor = DataPreprocessor(df)\n",
    "preprocessor"
   ]
  },
  {
   "cell_type": "code",
   "execution_count": 430,
   "metadata": {},
   "outputs": [
    {
     "data": {
      "text/plain": [
       "0"
      ]
     },
     "execution_count": 430,
     "metadata": {},
     "output_type": "execute_result"
    }
   ],
   "source": [
    "preprocessor.df.isna().sum().sum()"
   ]
  },
  {
   "cell_type": "code",
   "execution_count": 431,
   "metadata": {},
   "outputs": [],
   "source": [
    "preprocessor.replace_nans()"
   ]
  },
  {
   "cell_type": "code",
   "execution_count": 432,
   "metadata": {},
   "outputs": [
    {
     "data": {
      "text/plain": [
       "206356"
      ]
     },
     "execution_count": 432,
     "metadata": {},
     "output_type": "execute_result"
    }
   ],
   "source": [
    "preprocessor.df.isna().sum().sum()"
   ]
  },
  {
   "cell_type": "code",
   "execution_count": 433,
   "metadata": {},
   "outputs": [],
   "source": [
    "preprocessor.split_data(train_size = 0.8)"
   ]
  },
  {
   "cell_type": "code",
   "execution_count": 434,
   "metadata": {},
   "outputs": [
    {
     "data": {
      "text/html": [
       "<div>\n",
       "<style scoped>\n",
       "    .dataframe tbody tr th:only-of-type {\n",
       "        vertical-align: middle;\n",
       "    }\n",
       "\n",
       "    .dataframe tbody tr th {\n",
       "        vertical-align: top;\n",
       "    }\n",
       "\n",
       "    .dataframe thead th {\n",
       "        text-align: right;\n",
       "    }\n",
       "</style>\n",
       "<table border=\"1\" class=\"dataframe\">\n",
       "  <thead>\n",
       "    <tr style=\"text-align: right;\">\n",
       "      <th></th>\n",
       "      <th>age</th>\n",
       "      <th>class_worker</th>\n",
       "      <th>industry_code</th>\n",
       "      <th>occupation_code</th>\n",
       "      <th>education</th>\n",
       "      <th>wage_per_hour</th>\n",
       "      <th>hs_college</th>\n",
       "      <th>marital_status</th>\n",
       "      <th>major_ind_code</th>\n",
       "      <th>major_occ_code</th>\n",
       "      <th>...</th>\n",
       "      <th>country_father</th>\n",
       "      <th>country_mother</th>\n",
       "      <th>country_self</th>\n",
       "      <th>citizenship</th>\n",
       "      <th>own_business</th>\n",
       "      <th>vet_question</th>\n",
       "      <th>vet_benefits</th>\n",
       "      <th>weeks_worked</th>\n",
       "      <th>survey_year</th>\n",
       "      <th>Target</th>\n",
       "    </tr>\n",
       "  </thead>\n",
       "  <tbody>\n",
       "    <tr>\n",
       "      <th>101149</th>\n",
       "      <td>46</td>\n",
       "      <td>Private</td>\n",
       "      <td>23</td>\n",
       "      <td>6</td>\n",
       "      <td>Bachelors degree(BA AB BS)</td>\n",
       "      <td>0</td>\n",
       "      <td>Not in universe</td>\n",
       "      <td>Married-civilian spouse present</td>\n",
       "      <td>Manufacturing-nondurable goods</td>\n",
       "      <td>Professional specialty</td>\n",
       "      <td>...</td>\n",
       "      <td>United-States</td>\n",
       "      <td>United-States</td>\n",
       "      <td>United-States</td>\n",
       "      <td>Native- Born in the United States</td>\n",
       "      <td>0</td>\n",
       "      <td>Not in universe</td>\n",
       "      <td>2</td>\n",
       "      <td>52</td>\n",
       "      <td>94</td>\n",
       "      <td>1</td>\n",
       "    </tr>\n",
       "    <tr>\n",
       "      <th>101150</th>\n",
       "      <td>26</td>\n",
       "      <td>Private</td>\n",
       "      <td>32</td>\n",
       "      <td>16</td>\n",
       "      <td>Bachelors degree(BA AB BS)</td>\n",
       "      <td>1000</td>\n",
       "      <td>Not in universe</td>\n",
       "      <td>Married-civilian spouse present</td>\n",
       "      <td>Wholesale trade</td>\n",
       "      <td>Sales</td>\n",
       "      <td>...</td>\n",
       "      <td>Germany</td>\n",
       "      <td>England</td>\n",
       "      <td>United-States</td>\n",
       "      <td>Native- Born in the United States</td>\n",
       "      <td>2</td>\n",
       "      <td>Not in universe</td>\n",
       "      <td>2</td>\n",
       "      <td>32</td>\n",
       "      <td>94</td>\n",
       "      <td>0</td>\n",
       "    </tr>\n",
       "    <tr>\n",
       "      <th>101152</th>\n",
       "      <td>17</td>\n",
       "      <td>Private</td>\n",
       "      <td>33</td>\n",
       "      <td>29</td>\n",
       "      <td>11th grade</td>\n",
       "      <td>0</td>\n",
       "      <td>High school</td>\n",
       "      <td>Never married</td>\n",
       "      <td>Retail trade</td>\n",
       "      <td>Other service</td>\n",
       "      <td>...</td>\n",
       "      <td>United-States</td>\n",
       "      <td>United-States</td>\n",
       "      <td>United-States</td>\n",
       "      <td>Native- Born in the United States</td>\n",
       "      <td>0</td>\n",
       "      <td>Not in universe</td>\n",
       "      <td>2</td>\n",
       "      <td>12</td>\n",
       "      <td>94</td>\n",
       "      <td>0</td>\n",
       "    </tr>\n",
       "    <tr>\n",
       "      <th>101153</th>\n",
       "      <td>62</td>\n",
       "      <td>Private</td>\n",
       "      <td>41</td>\n",
       "      <td>8</td>\n",
       "      <td>Bachelors degree(BA AB BS)</td>\n",
       "      <td>0</td>\n",
       "      <td>Not in universe</td>\n",
       "      <td>Married-civilian spouse present</td>\n",
       "      <td>Hospital services</td>\n",
       "      <td>Professional specialty</td>\n",
       "      <td>...</td>\n",
       "      <td>United-States</td>\n",
       "      <td>United-States</td>\n",
       "      <td>United-States</td>\n",
       "      <td>Native- Born in the United States</td>\n",
       "      <td>0</td>\n",
       "      <td>Not in universe</td>\n",
       "      <td>2</td>\n",
       "      <td>52</td>\n",
       "      <td>94</td>\n",
       "      <td>0</td>\n",
       "    </tr>\n",
       "    <tr>\n",
       "      <th>101154</th>\n",
       "      <td>28</td>\n",
       "      <td>Private</td>\n",
       "      <td>33</td>\n",
       "      <td>19</td>\n",
       "      <td>Some college but no degree</td>\n",
       "      <td>0</td>\n",
       "      <td>Not in universe</td>\n",
       "      <td>Never married</td>\n",
       "      <td>Retail trade</td>\n",
       "      <td>Sales</td>\n",
       "      <td>...</td>\n",
       "      <td>United-States</td>\n",
       "      <td>United-States</td>\n",
       "      <td>United-States</td>\n",
       "      <td>Native- Born in the United States</td>\n",
       "      <td>0</td>\n",
       "      <td>Not in universe</td>\n",
       "      <td>2</td>\n",
       "      <td>52</td>\n",
       "      <td>95</td>\n",
       "      <td>0</td>\n",
       "    </tr>\n",
       "  </tbody>\n",
       "</table>\n",
       "<p>5 rows × 41 columns</p>\n",
       "</div>"
      ],
      "text/plain": [
       "        age class_worker  industry_code  occupation_code  \\\n",
       "101149   46      Private             23                6   \n",
       "101150   26      Private             32               16   \n",
       "101152   17      Private             33               29   \n",
       "101153   62      Private             41                8   \n",
       "101154   28      Private             33               19   \n",
       "\n",
       "                          education  wage_per_hour        hs_college  \\\n",
       "101149   Bachelors degree(BA AB BS)              0   Not in universe   \n",
       "101150   Bachelors degree(BA AB BS)           1000   Not in universe   \n",
       "101152                   11th grade              0       High school   \n",
       "101153   Bachelors degree(BA AB BS)              0   Not in universe   \n",
       "101154   Some college but no degree              0   Not in universe   \n",
       "\n",
       "                          marital_status                   major_ind_code  \\\n",
       "101149   Married-civilian spouse present   Manufacturing-nondurable goods   \n",
       "101150   Married-civilian spouse present                  Wholesale trade   \n",
       "101152                     Never married                     Retail trade   \n",
       "101153   Married-civilian spouse present                Hospital services   \n",
       "101154                     Never married                     Retail trade   \n",
       "\n",
       "                 major_occ_code  ...  country_father  country_mother  \\\n",
       "101149   Professional specialty  ...   United-States   United-States   \n",
       "101150                    Sales  ...         Germany         England   \n",
       "101152            Other service  ...   United-States   United-States   \n",
       "101153   Professional specialty  ...   United-States   United-States   \n",
       "101154                    Sales  ...   United-States   United-States   \n",
       "\n",
       "          country_self                         citizenship own_business  \\\n",
       "101149   United-States   Native- Born in the United States            0   \n",
       "101150   United-States   Native- Born in the United States            2   \n",
       "101152   United-States   Native- Born in the United States            0   \n",
       "101153   United-States   Native- Born in the United States            0   \n",
       "101154   United-States   Native- Born in the United States            0   \n",
       "\n",
       "            vet_question  vet_benefits  weeks_worked  survey_year Target  \n",
       "101149   Not in universe             2            52           94      1  \n",
       "101150   Not in universe             2            32           94      0  \n",
       "101152   Not in universe             2            12           94      0  \n",
       "101153   Not in universe             2            52           94      0  \n",
       "101154   Not in universe             2            52           95      0  \n",
       "\n",
       "[5 rows x 41 columns]"
      ]
     },
     "execution_count": 434,
     "metadata": {},
     "output_type": "execute_result"
    }
   ],
   "source": [
    "preprocessor.test.head()"
   ]
  },
  {
   "cell_type": "code",
   "execution_count": 435,
   "metadata": {},
   "outputs": [
    {
     "name": "stdout",
     "output_type": "stream",
     "text": [
      "Size of train is (80000, 41) \n",
      "\n",
      " Number of missing values for each column: \n",
      "\n"
     ]
    },
    {
     "data": {
      "image/png": "[encoded data removed]",
      "text/plain": [
       "<Figure size 720x432 with 1 Axes>"
      ]
     },
     "metadata": {
      "needs_background": "light"
     },
     "output_type": "display_data"
    }
   ],
   "source": [
    "preprocessor.summary_missing_values()"
   ]
  },
  {
   "cell_type": "code",
   "execution_count": 436,
   "metadata": {},
   "outputs": [
    {
     "data": {
      "text/html": [
       "<div>\n",
       "<style scoped>\n",
       "    .dataframe tbody tr th:only-of-type {\n",
       "        vertical-align: middle;\n",
       "    }\n",
       "\n",
       "    .dataframe tbody tr th {\n",
       "        vertical-align: top;\n",
       "    }\n",
       "\n",
       "    .dataframe thead th {\n",
       "        text-align: right;\n",
       "    }\n",
       "</style>\n",
       "<table border=\"1\" class=\"dataframe\">\n",
       "  <thead>\n",
       "    <tr style=\"text-align: right;\">\n",
       "      <th></th>\n",
       "      <th>mig_chg_msa</th>\n",
       "      <th>mig_chg_reg</th>\n",
       "      <th>mig_move_reg</th>\n",
       "      <th>mig_prev_sunbelt</th>\n",
       "      <th>country_father</th>\n",
       "      <th>country_mother</th>\n",
       "      <th>country_self</th>\n",
       "      <th>state_prev_res</th>\n",
       "    </tr>\n",
       "  </thead>\n",
       "  <tbody>\n",
       "    <tr>\n",
       "      <th>0</th>\n",
       "      <td>NaN</td>\n",
       "      <td>NaN</td>\n",
       "      <td>NaN</td>\n",
       "      <td>NaN</td>\n",
       "      <td>United-States</td>\n",
       "      <td>United-States</td>\n",
       "      <td>United-States</td>\n",
       "      <td>Not in universe</td>\n",
       "    </tr>\n",
       "    <tr>\n",
       "      <th>1</th>\n",
       "      <td>MSA to MSA</td>\n",
       "      <td>Same county</td>\n",
       "      <td>Same county</td>\n",
       "      <td>Yes</td>\n",
       "      <td>United-States</td>\n",
       "      <td>United-States</td>\n",
       "      <td>United-States</td>\n",
       "      <td>Arkansas</td>\n",
       "    </tr>\n",
       "    <tr>\n",
       "      <th>2</th>\n",
       "      <td>NaN</td>\n",
       "      <td>NaN</td>\n",
       "      <td>NaN</td>\n",
       "      <td>NaN</td>\n",
       "      <td>Vietnam</td>\n",
       "      <td>Vietnam</td>\n",
       "      <td>Vietnam</td>\n",
       "      <td>Not in universe</td>\n",
       "    </tr>\n",
       "    <tr>\n",
       "      <th>3</th>\n",
       "      <td>Nonmover</td>\n",
       "      <td>Nonmover</td>\n",
       "      <td>Nonmover</td>\n",
       "      <td>Not in universe</td>\n",
       "      <td>United-States</td>\n",
       "      <td>United-States</td>\n",
       "      <td>United-States</td>\n",
       "      <td>Not in universe</td>\n",
       "    </tr>\n",
       "    <tr>\n",
       "      <th>4</th>\n",
       "      <td>Nonmover</td>\n",
       "      <td>Nonmover</td>\n",
       "      <td>Nonmover</td>\n",
       "      <td>Not in universe</td>\n",
       "      <td>United-States</td>\n",
       "      <td>United-States</td>\n",
       "      <td>United-States</td>\n",
       "      <td>Not in universe</td>\n",
       "    </tr>\n",
       "    <tr>\n",
       "      <th>...</th>\n",
       "      <td>...</td>\n",
       "      <td>...</td>\n",
       "      <td>...</td>\n",
       "      <td>...</td>\n",
       "      <td>...</td>\n",
       "      <td>...</td>\n",
       "      <td>...</td>\n",
       "      <td>...</td>\n",
       "    </tr>\n",
       "    <tr>\n",
       "      <th>127726</th>\n",
       "      <td>Nonmover</td>\n",
       "      <td>Nonmover</td>\n",
       "      <td>Nonmover</td>\n",
       "      <td>Not in universe</td>\n",
       "      <td>Canada</td>\n",
       "      <td>Canada</td>\n",
       "      <td>Canada</td>\n",
       "      <td>Not in universe</td>\n",
       "    </tr>\n",
       "    <tr>\n",
       "      <th>127727</th>\n",
       "      <td>Nonmover</td>\n",
       "      <td>Nonmover</td>\n",
       "      <td>Nonmover</td>\n",
       "      <td>Not in universe</td>\n",
       "      <td>United-States</td>\n",
       "      <td>United-States</td>\n",
       "      <td>United-States</td>\n",
       "      <td>Not in universe</td>\n",
       "    </tr>\n",
       "    <tr>\n",
       "      <th>127729</th>\n",
       "      <td>Nonmover</td>\n",
       "      <td>Nonmover</td>\n",
       "      <td>Nonmover</td>\n",
       "      <td>Not in universe</td>\n",
       "      <td>United-States</td>\n",
       "      <td>United-States</td>\n",
       "      <td>United-States</td>\n",
       "      <td>Not in universe</td>\n",
       "    </tr>\n",
       "    <tr>\n",
       "      <th>127730</th>\n",
       "      <td>Nonmover</td>\n",
       "      <td>Nonmover</td>\n",
       "      <td>Nonmover</td>\n",
       "      <td>Not in universe</td>\n",
       "      <td>Canada</td>\n",
       "      <td>United-States</td>\n",
       "      <td>United-States</td>\n",
       "      <td>Not in universe</td>\n",
       "    </tr>\n",
       "    <tr>\n",
       "      <th>127731</th>\n",
       "      <td>NaN</td>\n",
       "      <td>NaN</td>\n",
       "      <td>NaN</td>\n",
       "      <td>NaN</td>\n",
       "      <td>United-States</td>\n",
       "      <td>United-States</td>\n",
       "      <td>United-States</td>\n",
       "      <td>Not in universe</td>\n",
       "    </tr>\n",
       "  </tbody>\n",
       "</table>\n",
       "<p>100000 rows × 8 columns</p>\n",
       "</div>"
      ],
      "text/plain": [
       "        mig_chg_msa   mig_chg_reg  mig_move_reg  mig_prev_sunbelt  \\\n",
       "0               NaN           NaN           NaN               NaN   \n",
       "1        MSA to MSA   Same county   Same county               Yes   \n",
       "2               NaN           NaN           NaN               NaN   \n",
       "3          Nonmover      Nonmover      Nonmover   Not in universe   \n",
       "4          Nonmover      Nonmover      Nonmover   Not in universe   \n",
       "...             ...           ...           ...               ...   \n",
       "127726     Nonmover      Nonmover      Nonmover   Not in universe   \n",
       "127727     Nonmover      Nonmover      Nonmover   Not in universe   \n",
       "127729     Nonmover      Nonmover      Nonmover   Not in universe   \n",
       "127730     Nonmover      Nonmover      Nonmover   Not in universe   \n",
       "127731          NaN           NaN           NaN               NaN   \n",
       "\n",
       "        country_father  country_mother    country_self    state_prev_res  \n",
       "0        United-States   United-States   United-States   Not in universe  \n",
       "1        United-States   United-States   United-States          Arkansas  \n",
       "2              Vietnam         Vietnam         Vietnam   Not in universe  \n",
       "3        United-States   United-States   United-States   Not in universe  \n",
       "4        United-States   United-States   United-States   Not in universe  \n",
       "...                ...             ...             ...               ...  \n",
       "127726          Canada          Canada          Canada   Not in universe  \n",
       "127727   United-States   United-States   United-States   Not in universe  \n",
       "127729   United-States   United-States   United-States   Not in universe  \n",
       "127730          Canada   United-States   United-States   Not in universe  \n",
       "127731   United-States   United-States   United-States   Not in universe  \n",
       "\n",
       "[100000 rows x 8 columns]"
      ]
     },
     "execution_count": 436,
     "metadata": {},
     "output_type": "execute_result"
    }
   ],
   "source": [
    "preprocessor.df_with_nans"
   ]
  },
  {
   "cell_type": "code",
   "execution_count": 437,
   "metadata": {},
   "outputs": [],
   "source": [
    "preprocessor.imputation_categorical()"
   ]
  },
  {
   "cell_type": "code",
   "execution_count": 438,
   "metadata": {},
   "outputs": [
    {
     "data": {
      "text/plain": [
       "(0, 0)"
      ]
     },
     "execution_count": 438,
     "metadata": {},
     "output_type": "execute_result"
    }
   ],
   "source": [
    "preprocessor.train.isna().sum().sum(), preprocessor.test.isna().sum().sum()"
   ]
  },
  {
   "cell_type": "code",
   "execution_count": 439,
   "metadata": {},
   "outputs": [
    {
     "name": "stdout",
     "output_type": "stream",
     "text": [
      "Size of train is (80000, 41) \n",
      "\n",
      " Number of missing values for each column: \n",
      "\n"
     ]
    },
    {
     "data": {
      "image/png": "[encoded data removed]",
      "text/plain": [
       "<Figure size 720x432 with 1 Axes>"
      ]
     },
     "metadata": {
      "needs_background": "light"
     },
     "output_type": "display_data"
    }
   ],
   "source": [
    "### All together, calling the run_preprocessing method\n",
    "\n",
    "preprocessor = DataPreprocessor(df)\n",
    "preprocessor.run_preprocessing()\n"
   ]
  },
  {
   "cell_type": "code",
   "execution_count": 440,
   "metadata": {},
   "outputs": [
    {
     "data": {
      "text/plain": [
       "0"
      ]
     },
     "execution_count": 440,
     "metadata": {},
     "output_type": "execute_result"
    }
   ],
   "source": [
    "preprocessor.train.isna().sum().sum()"
   ]
  },
  {
   "cell_type": "code",
   "execution_count": 441,
   "metadata": {},
   "outputs": [
    {
     "data": {
      "text/html": [
       "<div>\n",
       "<style scoped>\n",
       "    .dataframe tbody tr th:only-of-type {\n",
       "        vertical-align: middle;\n",
       "    }\n",
       "\n",
       "    .dataframe tbody tr th {\n",
       "        vertical-align: top;\n",
       "    }\n",
       "\n",
       "    .dataframe thead th {\n",
       "        text-align: right;\n",
       "    }\n",
       "</style>\n",
       "<table border=\"1\" class=\"dataframe\">\n",
       "  <thead>\n",
       "    <tr style=\"text-align: right;\">\n",
       "      <th></th>\n",
       "      <th>mig_chg_msa</th>\n",
       "      <th>mig_chg_reg</th>\n",
       "      <th>mig_move_reg</th>\n",
       "      <th>mig_prev_sunbelt</th>\n",
       "      <th>country_father</th>\n",
       "      <th>country_mother</th>\n",
       "      <th>country_self</th>\n",
       "      <th>state_prev_res</th>\n",
       "    </tr>\n",
       "  </thead>\n",
       "  <tbody>\n",
       "    <tr>\n",
       "      <th>0</th>\n",
       "      <td>Nonmover</td>\n",
       "      <td>Nonmover</td>\n",
       "      <td>Nonmover</td>\n",
       "      <td>Not in universe</td>\n",
       "      <td>United-States</td>\n",
       "      <td>United-States</td>\n",
       "      <td>United-States</td>\n",
       "      <td>Not in universe</td>\n",
       "    </tr>\n",
       "    <tr>\n",
       "      <th>1</th>\n",
       "      <td>MSA to MSA</td>\n",
       "      <td>Same county</td>\n",
       "      <td>Same county</td>\n",
       "      <td>Yes</td>\n",
       "      <td>United-States</td>\n",
       "      <td>United-States</td>\n",
       "      <td>United-States</td>\n",
       "      <td>Arkansas</td>\n",
       "    </tr>\n",
       "    <tr>\n",
       "      <th>2</th>\n",
       "      <td>Nonmover</td>\n",
       "      <td>Nonmover</td>\n",
       "      <td>Nonmover</td>\n",
       "      <td>Not in universe</td>\n",
       "      <td>Vietnam</td>\n",
       "      <td>Vietnam</td>\n",
       "      <td>Vietnam</td>\n",
       "      <td>Not in universe</td>\n",
       "    </tr>\n",
       "    <tr>\n",
       "      <th>3</th>\n",
       "      <td>Nonmover</td>\n",
       "      <td>Nonmover</td>\n",
       "      <td>Nonmover</td>\n",
       "      <td>Not in universe</td>\n",
       "      <td>United-States</td>\n",
       "      <td>United-States</td>\n",
       "      <td>United-States</td>\n",
       "      <td>Not in universe</td>\n",
       "    </tr>\n",
       "    <tr>\n",
       "      <th>4</th>\n",
       "      <td>Nonmover</td>\n",
       "      <td>Nonmover</td>\n",
       "      <td>Nonmover</td>\n",
       "      <td>Not in universe</td>\n",
       "      <td>United-States</td>\n",
       "      <td>United-States</td>\n",
       "      <td>United-States</td>\n",
       "      <td>Not in universe</td>\n",
       "    </tr>\n",
       "    <tr>\n",
       "      <th>...</th>\n",
       "      <td>...</td>\n",
       "      <td>...</td>\n",
       "      <td>...</td>\n",
       "      <td>...</td>\n",
       "      <td>...</td>\n",
       "      <td>...</td>\n",
       "      <td>...</td>\n",
       "      <td>...</td>\n",
       "    </tr>\n",
       "    <tr>\n",
       "      <th>101137</th>\n",
       "      <td>Nonmover</td>\n",
       "      <td>Nonmover</td>\n",
       "      <td>Nonmover</td>\n",
       "      <td>Not in universe</td>\n",
       "      <td>United-States</td>\n",
       "      <td>United-States</td>\n",
       "      <td>United-States</td>\n",
       "      <td>Not in universe</td>\n",
       "    </tr>\n",
       "    <tr>\n",
       "      <th>101138</th>\n",
       "      <td>Nonmover</td>\n",
       "      <td>Nonmover</td>\n",
       "      <td>Nonmover</td>\n",
       "      <td>Not in universe</td>\n",
       "      <td>United-States</td>\n",
       "      <td>United-States</td>\n",
       "      <td>United-States</td>\n",
       "      <td>Not in universe</td>\n",
       "    </tr>\n",
       "    <tr>\n",
       "      <th>101139</th>\n",
       "      <td>Nonmover</td>\n",
       "      <td>Nonmover</td>\n",
       "      <td>Nonmover</td>\n",
       "      <td>Not in universe</td>\n",
       "      <td>Iran</td>\n",
       "      <td>United-States</td>\n",
       "      <td>United-States</td>\n",
       "      <td>Not in universe</td>\n",
       "    </tr>\n",
       "    <tr>\n",
       "      <th>101141</th>\n",
       "      <td>Nonmover</td>\n",
       "      <td>Nonmover</td>\n",
       "      <td>Nonmover</td>\n",
       "      <td>Not in universe</td>\n",
       "      <td>United-States</td>\n",
       "      <td>United-States</td>\n",
       "      <td>United-States</td>\n",
       "      <td>Not in universe</td>\n",
       "    </tr>\n",
       "    <tr>\n",
       "      <th>101142</th>\n",
       "      <td>Nonmover</td>\n",
       "      <td>Nonmover</td>\n",
       "      <td>Nonmover</td>\n",
       "      <td>Not in universe</td>\n",
       "      <td>United-States</td>\n",
       "      <td>United-States</td>\n",
       "      <td>United-States</td>\n",
       "      <td>Not in universe</td>\n",
       "    </tr>\n",
       "  </tbody>\n",
       "</table>\n",
       "<p>80000 rows × 8 columns</p>\n",
       "</div>"
      ],
      "text/plain": [
       "        mig_chg_msa   mig_chg_reg  mig_move_reg  mig_prev_sunbelt  \\\n",
       "0          Nonmover      Nonmover      Nonmover   Not in universe   \n",
       "1        MSA to MSA   Same county   Same county               Yes   \n",
       "2          Nonmover      Nonmover      Nonmover   Not in universe   \n",
       "3          Nonmover      Nonmover      Nonmover   Not in universe   \n",
       "4          Nonmover      Nonmover      Nonmover   Not in universe   \n",
       "...             ...           ...           ...               ...   \n",
       "101137     Nonmover      Nonmover      Nonmover   Not in universe   \n",
       "101138     Nonmover      Nonmover      Nonmover   Not in universe   \n",
       "101139     Nonmover      Nonmover      Nonmover   Not in universe   \n",
       "101141     Nonmover      Nonmover      Nonmover   Not in universe   \n",
       "101142     Nonmover      Nonmover      Nonmover   Not in universe   \n",
       "\n",
       "        country_father  country_mother    country_self    state_prev_res  \n",
       "0        United-States   United-States   United-States   Not in universe  \n",
       "1        United-States   United-States   United-States          Arkansas  \n",
       "2              Vietnam         Vietnam         Vietnam   Not in universe  \n",
       "3        United-States   United-States   United-States   Not in universe  \n",
       "4        United-States   United-States   United-States   Not in universe  \n",
       "...                ...             ...             ...               ...  \n",
       "101137   United-States   United-States   United-States   Not in universe  \n",
       "101138   United-States   United-States   United-States   Not in universe  \n",
       "101139            Iran   United-States   United-States   Not in universe  \n",
       "101141   United-States   United-States   United-States   Not in universe  \n",
       "101142   United-States   United-States   United-States   Not in universe  \n",
       "\n",
       "[80000 rows x 8 columns]"
      ]
     },
     "execution_count": 441,
     "metadata": {},
     "output_type": "execute_result"
    }
   ],
   "source": [
    "preprocessor.train[preprocessor.cols_with_nan]"
   ]
  },
  {
   "cell_type": "code",
   "execution_count": null,
   "metadata": {},
   "outputs": [],
   "source": []
  },
  {
   "cell_type": "code",
   "execution_count": null,
   "metadata": {},
   "outputs": [],
   "source": []
  },
  {
   "cell_type": "code",
   "execution_count": null,
   "metadata": {},
   "outputs": [],
   "source": []
  }
 ],
 "metadata": {
  "hide_input": false,
  "kernelspec": {
   "display_name": "Python 3 (ipykernel)",
   "language": "python",
   "name": "python3"
  },
  "language_info": {
   "codemirror_mode": {
    "name": "ipython",
    "version": 3
   },
   "file_extension": ".py",
   "mimetype": "text/x-python",
   "name": "python",
   "nbconvert_exporter": "python",
   "pygments_lexer": "ipython3",
   "version": "3.8.12"
  },
  "latex_envs": {
   "LaTeX_envs_menu_present": true,
   "autoclose": false,
   "autocomplete": true,
   "bibliofile": "biblio.bib",
   "cite_by": "apalike",
   "current_citInitial": 1,
   "eqLabelWithNumbers": true,
   "eqNumInitial": 1,
   "hotkeys": {
    "equation": "Ctrl-E",
    "itemize": "Ctrl-I"
   },
   "labels_anchors": false,
   "latex_user_defs": false,
   "report_style_numbering": false,
   "user_envs_cfg": false
  },
  "toc": {
   "base_numbering": 1,
   "nav_menu": {},
   "number_sections": false,
   "sideBar": true,
   "skip_h1_title": false,
   "title_cell": "Table of Contents",
   "title_sidebar": "Contents",
   "toc_cell": false,
   "toc_position": {
    "height": "calc(100% - 180px)",
    "left": "10px",
    "top": "150px",
    "width": "412.344px"
   },
   "toc_section_display": true,
   "toc_window_display": true
  },
  "varInspector": {
   "cols": {
    "lenName": 16,
    "lenType": 16,
    "lenVar": 40
   },
   "kernels_config": {
    "python": {
     "delete_cmd_postfix": "",
     "delete_cmd_prefix": "del ",
     "library": "var_list.py",
     "varRefreshCmd": "print(var_dic_list())"
    },
    "r": {
     "delete_cmd_postfix": ") ",
     "delete_cmd_prefix": "rm(",
     "library": "var_list.r",
     "varRefreshCmd": "cat(var_dic_list()) "
    }
   },
   "types_to_exclude": [
    "module",
    "function",
    "builtin_function_or_method",
    "instance",
    "_Feature"
   ],
   "window_display": false
  }
 },
 "nbformat": 4,
 "nbformat_minor": 4
}
